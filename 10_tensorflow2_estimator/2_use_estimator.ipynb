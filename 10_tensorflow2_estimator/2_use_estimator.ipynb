{
 "cells": [
  {
   "cell_type": "markdown",
   "metadata": {},
   "source": [
    "### Estimator API"
   ]
  },
  {
   "cell_type": "code",
   "execution_count": 1,
   "metadata": {},
   "outputs": [],
   "source": [
    "import tensorflow as tf\n",
    "import matplotlib as mpl\n",
    "import matplotlib.pyplot as plt\n",
    "%matplotlib inline\n",
    "import numpy as np\n",
    "from tensorflow import keras\n",
    "import pandas as pd\n",
    "import os"
   ]
  },
  {
   "cell_type": "code",
   "execution_count": 2,
   "metadata": {},
   "outputs": [
    {
     "name": "stdout",
     "output_type": "stream",
     "text": [
      "      sex   age  n_siblings_spouses  parch  ...  class     deck  embark_town alone\n",
      "0    male  22.0                   1      0  ...  Third  unknown  Southampton     n\n",
      "1  female  38.0                   1      0  ...  First        C    Cherbourg     n\n",
      "2  female  26.0                   0      0  ...  Third  unknown  Southampton     y\n",
      "3  female  35.0                   1      0  ...  First        C  Southampton     n\n",
      "4    male  28.0                   0      0  ...  Third  unknown   Queenstown     y\n",
      "\n",
      "[5 rows x 9 columns]\n",
      "      sex   age  n_siblings_spouses  parch  ...   class     deck  embark_town alone\n",
      "0    male  35.0                   0      0  ...   Third  unknown  Southampton     y\n",
      "1    male  54.0                   0      0  ...   First        E  Southampton     y\n",
      "2  female  58.0                   0      0  ...   First        C  Southampton     y\n",
      "3  female  55.0                   0      0  ...  Second  unknown  Southampton     y\n",
      "4    male  34.0                   0      0  ...  Second        D  Southampton     y\n",
      "\n",
      "[5 rows x 9 columns]\n"
     ]
    }
   ],
   "source": [
    "train_file = \"./data/titanic/train.csv\"\n",
    "eval_file = \"./data/titanic/eval.csv\"\n",
    "\n",
    "train_df = pd.read_csv(train_file)\n",
    "eval_df = pd.read_csv(eval_file)\n",
    "\n",
    "# dataframe pip function remove column from dataset and take the removed column\n",
    "y_train = train_df.pop('survived')\n",
    "y_eval = eval_df.pop('survived')\n",
    "\n",
    "print(train_df.head())\n",
    "print(eval_df.head())"
   ]
  },
  {
   "cell_type": "code",
   "execution_count": 3,
   "metadata": {},
   "outputs": [
    {
     "name": "stdout",
     "output_type": "stream",
     "text": [
      "sex ['male' 'female']\n",
      "n_siblings_spouses [1 0 3 4 2 5 8]\n",
      "parch [0 1 2 5 3 4]\n",
      "class ['Third' 'First' 'Second']\n",
      "deck ['unknown' 'C' 'G' 'A' 'B' 'D' 'F' 'E']\n",
      "embark_town ['Southampton' 'Cherbourg' 'Queenstown' 'unknown']\n",
      "alone ['n' 'y']\n"
     ]
    }
   ],
   "source": [
    "# discrete value\n",
    "categorical_columns = ['sex', 'n_siblings_spouses', 'parch', 'class',\n",
    "                      'deck', 'embark_town', 'alone']\n",
    "numeric_columns = ['age', 'fare']\n",
    "\n",
    "feature_columns = []\n",
    "\n",
    "for categorical_column in categorical_columns:\n",
    "    vocab = train_df[categorical_column].unique()\n",
    "    \n",
    "    print(categorical_column, vocab)\n",
    "    \n",
    "    feature_columns.append(\n",
    "        # indicator_column -> one_hot discrete value\n",
    "        tf.feature_column.indicator_column(\n",
    "            # fill feature_column with vocab data (name, possible value)\n",
    "            tf.feature_column.categorical_column_with_vocabulary_list(\n",
    "                categorical_column,\n",
    "                vocab)))\n",
    "\n",
    "for numeric_column in numeric_columns:    \n",
    "    feature_columns.append(\n",
    "        # for numeric value just add them directly to feature_column\n",
    "        tf.feature_column.numeric_column(numeric_column, dtype=tf.float32)\n",
    "    )"
   ]
  },
  {
   "cell_type": "code",
   "execution_count": 4,
   "metadata": {},
   "outputs": [],
   "source": [
    "def make_dataset(data_df, label_df, epochs = 10, shuffle = True,\n",
    "                batch_size = 32):\n",
    "    dataset = tf.data.Dataset.from_tensor_slices(\n",
    "        (dict(data_df), label_df))\n",
    "    \n",
    "    if shuffle == True:\n",
    "        dataset = dataset.shuffle(10000)\n",
    "    dataset = dataset.repeat(epochs).batch(batch_size)\n",
    "    return dataset"
   ]
  },
  {
   "cell_type": "code",
   "execution_count": 5,
   "metadata": {},
   "outputs": [],
   "source": [
    "model = keras.models.Sequential([\n",
    "    keras.layers.DenseFeatures(feature_columns=feature_columns),\n",
    "    keras.layers.Dense(100, activation = 'relu'),\n",
    "    keras.layers.Dense(100, activation = 'relu'),\n",
    "    keras.layers.Dense(2, activation = 'softmax')\n",
    "])\n",
    "\n",
    "model.compile(loss = \"sparse_categorical_crossentropy\",\n",
    "              optimizer = keras.optimizers.SGD(learning_rate=0.01),\n",
    "              metrics = [\"accuracy\"])"
   ]
  },
  {
   "cell_type": "code",
   "execution_count": 6,
   "metadata": {},
   "outputs": [
    {
     "name": "stderr",
     "output_type": "stream",
     "text": [
      "WARNING: Logging before flag parsing goes to stderr.\n",
      "W0724 10:00:28.642052 140406365710144 deprecation.py:323] From /home/bai/.virtualenvs/tensorflow2/lib/python3.6/site-packages/tensorflow/python/training/training_util.py:236: Variable.initialized_value (from tensorflow.python.ops.variables) is deprecated and will be removed in a future version.\n",
      "Instructions for updating:\n",
      "Use Variable.read_value. Variables in 2.X are initialized automatically both in eager and graph (inside tf.defun) contexts.\n",
      "W0724 10:00:28.773476 140406365710144 deprecation.py:323] From /home/bai/.virtualenvs/tensorflow2/lib/python3.6/site-packages/tensorflow_estimator/python/estimator/head/base_head.py:574: to_float (from tensorflow.python.ops.math_ops) is deprecated and will be removed in a future version.\n",
      "Instructions for updating:\n",
      "Use `tf.cast` instead.\n",
      "W0724 10:00:28.845140 140406365710144 deprecation.py:323] From /home/bai/.virtualenvs/tensorflow2/lib/python3.6/site-packages/tensorflow/python/ops/nn_impl.py:182: add_dispatch_support.<locals>.wrapper (from tensorflow.python.ops.array_ops) is deprecated and will be removed in a future version.\n",
      "Instructions for updating:\n",
      "Use tf.where in 2.0, which has the same broadcast rule as np.where\n",
      "W0724 10:00:28.929767 140406365710144 deprecation.py:506] From /home/bai/.virtualenvs/tensorflow2/lib/python3.6/site-packages/tensorflow/python/keras/optimizer_v2/ftrl.py:142: calling Constant.__init__ (from tensorflow.python.ops.init_ops) with dtype is deprecated and will be removed in a future version.\n",
      "Instructions for updating:\n",
      "Call initializer instance with the dtype argument instead of passing it to the constructor\n",
      "2019-07-24 10:00:29.059423: I tensorflow/core/platform/cpu_feature_guard.cc:142] Your CPU supports instructions that this TensorFlow binary was not compiled to use: AVX2 FMA\n",
      "2019-07-24 10:00:29.081751: I tensorflow/core/platform/profile_utils/cpu_utils.cc:94] CPU Frequency: 2208000000 Hz\n",
      "2019-07-24 10:00:29.082048: I tensorflow/compiler/xla/service/service.cc:168] XLA service 0x3a00dd0 executing computations on platform Host. Devices:\n",
      "2019-07-24 10:00:29.082080: I tensorflow/compiler/xla/service/service.cc:175]   StreamExecutor device (0): <undefined>, <undefined>\n",
      "2019-07-24 10:00:29.112805: W tensorflow/compiler/jit/mark_for_compilation_pass.cc:1483] (One-time warning): Not using XLA:CPU for cluster because envvar TF_XLA_FLAGS=--tf_xla_cpu_global_jit was not set.  If you want XLA:CPU, either set that envvar, or use experimental_jit_scope to enable XLA:CPU.  To confirm that XLA is active, pass --vmodule=xla_compilation_cache=1 (as a proper command-line flag, not via TF_XLA_FLAGS) or set the envvar XLA_FLAGS=--xla_hlo_profile.\n"
     ]
    },
    {
     "ename": "FailedPreconditionError",
     "evalue": "GetNext() failed because the iterator has not been initialized. Ensure that you have run the initializer operation for this iterator before getting the next element.\n\t [[node IteratorGetNext (defined at <ipython-input-6-12ed84233911>:11) ]]\n\nOriginal stack trace for 'IteratorGetNext':\n  File \"/usr/lib/python3.6/runpy.py\", line 193, in _run_module_as_main\n    \"__main__\", mod_spec)\n  File \"/usr/lib/python3.6/runpy.py\", line 85, in _run_code\n    exec(code, run_globals)\n  File \"/home/bai/.virtualenvs/tensorflow2/lib/python3.6/site-packages/spyder_kernels/console/__main__.py\", line 11, in <module>\n    start.main()\n  File \"/home/bai/.virtualenvs/tensorflow2/lib/python3.6/site-packages/spyder_kernels/console/start.py\", line 318, in main\n    kernel.start()\n  File \"/home/bai/.virtualenvs/tensorflow2/lib/python3.6/site-packages/ipykernel/kernelapp.py\", line 505, in start\n    self.io_loop.start()\n  File \"/home/bai/.virtualenvs/tensorflow2/lib/python3.6/site-packages/tornado/platform/asyncio.py\", line 148, in start\n    self.asyncio_loop.run_forever()\n  File \"/usr/lib/python3.6/asyncio/base_events.py\", line 438, in run_forever\n    self._run_once()\n  File \"/usr/lib/python3.6/asyncio/base_events.py\", line 1451, in _run_once\n    handle._run()\n  File \"/usr/lib/python3.6/asyncio/events.py\", line 145, in _run\n    self._callback(*self._args)\n  File \"/home/bai/.virtualenvs/tensorflow2/lib/python3.6/site-packages/tornado/ioloop.py\", line 690, in <lambda>\n    lambda f: self._run_callback(functools.partial(callback, future))\n  File \"/home/bai/.virtualenvs/tensorflow2/lib/python3.6/site-packages/tornado/ioloop.py\", line 743, in _run_callback\n    ret = callback()\n  File \"/home/bai/.virtualenvs/tensorflow2/lib/python3.6/site-packages/tornado/gen.py\", line 781, in inner\n    self.run()\n  File \"/home/bai/.virtualenvs/tensorflow2/lib/python3.6/site-packages/tornado/gen.py\", line 742, in run\n    yielded = self.gen.send(value)\n  File \"/home/bai/.virtualenvs/tensorflow2/lib/python3.6/site-packages/ipykernel/kernelbase.py\", line 378, in dispatch_queue\n    yield self.process_one()\n  File \"/home/bai/.virtualenvs/tensorflow2/lib/python3.6/site-packages/tornado/gen.py\", line 225, in wrapper\n    runner = Runner(result, future, yielded)\n  File \"/home/bai/.virtualenvs/tensorflow2/lib/python3.6/site-packages/tornado/gen.py\", line 708, in __init__\n    self.run()\n  File \"/home/bai/.virtualenvs/tensorflow2/lib/python3.6/site-packages/tornado/gen.py\", line 742, in run\n    yielded = self.gen.send(value)\n  File \"/home/bai/.virtualenvs/tensorflow2/lib/python3.6/site-packages/ipykernel/kernelbase.py\", line 365, in process_one\n    yield gen.maybe_future(dispatch(*args))\n  File \"/home/bai/.virtualenvs/tensorflow2/lib/python3.6/site-packages/tornado/gen.py\", line 209, in wrapper\n    yielded = next(result)\n  File \"/home/bai/.virtualenvs/tensorflow2/lib/python3.6/site-packages/ipykernel/kernelbase.py\", line 272, in dispatch_shell\n    yield gen.maybe_future(handler(stream, idents, msg))\n  File \"/home/bai/.virtualenvs/tensorflow2/lib/python3.6/site-packages/tornado/gen.py\", line 209, in wrapper\n    yielded = next(result)\n  File \"/home/bai/.virtualenvs/tensorflow2/lib/python3.6/site-packages/ipykernel/kernelbase.py\", line 542, in execute_request\n    user_expressions, allow_stdin,\n  File \"/home/bai/.virtualenvs/tensorflow2/lib/python3.6/site-packages/tornado/gen.py\", line 209, in wrapper\n    yielded = next(result)\n  File \"/home/bai/.virtualenvs/tensorflow2/lib/python3.6/site-packages/ipykernel/ipkernel.py\", line 294, in do_execute\n    res = shell.run_cell(code, store_history=store_history, silent=silent)\n  File \"/home/bai/.virtualenvs/tensorflow2/lib/python3.6/site-packages/ipykernel/zmqshell.py\", line 536, in run_cell\n    return super(ZMQInteractiveShell, self).run_cell(*args, **kwargs)\n  File \"/home/bai/.virtualenvs/tensorflow2/lib/python3.6/site-packages/IPython/core/interactiveshell.py\", line 2848, in run_cell\n    raw_cell, store_history, silent, shell_futures)\n  File \"/home/bai/.virtualenvs/tensorflow2/lib/python3.6/site-packages/IPython/core/interactiveshell.py\", line 2874, in _run_cell\n    return runner(coro)\n  File \"/home/bai/.virtualenvs/tensorflow2/lib/python3.6/site-packages/IPython/core/async_helpers.py\", line 67, in _pseudo_sync_runner\n    coro.send(None)\n  File \"/home/bai/.virtualenvs/tensorflow2/lib/python3.6/site-packages/IPython/core/interactiveshell.py\", line 3049, in run_cell_async\n    interactivity=interactivity, compiler=compiler, result=result)\n  File \"/home/bai/.virtualenvs/tensorflow2/lib/python3.6/site-packages/IPython/core/interactiveshell.py\", line 3220, in run_ast_nodes\n    if (yield from self.run_code(code, result)):\n  File \"/home/bai/.virtualenvs/tensorflow2/lib/python3.6/site-packages/IPython/core/interactiveshell.py\", line 3296, in run_code\n    exec(code_obj, self.user_global_ns, self.user_ns)\n  File \"<ipython-input-6-12ed84233911>\", line 11, in <module>\n    baseline_estimator.train(input_fn = lambda: make_dataset(\n  File \"/home/bai/.virtualenvs/tensorflow2/lib/python3.6/site-packages/tensorflow_estimator/python/estimator/estimator.py\", line 367, in train\n    loss = self._train_model(input_fn, hooks, saving_listeners)\n  File \"/home/bai/.virtualenvs/tensorflow2/lib/python3.6/site-packages/tensorflow_estimator/python/estimator/estimator.py\", line 1158, in _train_model\n    return self._train_model_default(input_fn, hooks, saving_listeners)\n  File \"/home/bai/.virtualenvs/tensorflow2/lib/python3.6/site-packages/tensorflow_estimator/python/estimator/estimator.py\", line 1185, in _train_model_default\n    input_fn, ModeKeys.TRAIN))\n  File \"/home/bai/.virtualenvs/tensorflow2/lib/python3.6/site-packages/tensorflow_estimator/python/estimator/estimator.py\", line 1022, in _get_features_and_labels_from_input_fn\n    self._call_input_fn(input_fn, mode))\n  File \"/home/bai/.virtualenvs/tensorflow2/lib/python3.6/site-packages/tensorflow_estimator/python/estimator/util.py\", line 65, in parse_input_fn_result\n    result = iterator.get_next()\n  File \"/home/bai/.virtualenvs/tensorflow2/lib/python3.6/site-packages/tensorflow/python/data/ops/iterator_ops.py\", line 426, in get_next\n    output_shapes=self._structure._flat_shapes, name=name)\n  File \"/home/bai/.virtualenvs/tensorflow2/lib/python3.6/site-packages/tensorflow/python/ops/gen_dataset_ops.py\", line 1947, in iterator_get_next\n    output_shapes=output_shapes, name=name)\n  File \"/home/bai/.virtualenvs/tensorflow2/lib/python3.6/site-packages/tensorflow/python/framework/op_def_library.py\", line 788, in _apply_op_helper\n    op_def=op_def)\n  File \"/home/bai/.virtualenvs/tensorflow2/lib/python3.6/site-packages/tensorflow/python/util/deprecation.py\", line 507, in new_func\n    return func(*args, **kwargs)\n  File \"/home/bai/.virtualenvs/tensorflow2/lib/python3.6/site-packages/tensorflow/python/framework/ops.py\", line 3296, in create_op\n    op_def=op_def)\n  File \"/home/bai/.virtualenvs/tensorflow2/lib/python3.6/site-packages/tensorflow/python/framework/ops.py\", line 1692, in __init__\n    self._traceback = tf_stack.extract_stack()\n",
     "output_type": "error",
     "traceback": [
      "Traceback \u001b[0;36m(most recent call last)\u001b[0m:\n",
      "  File \u001b[1;32m\"<ipython-input-6-12ed84233911>\"\u001b[0m, line \u001b[1;32m11\u001b[0m, in \u001b[1;35m<module>\u001b[0m\n    baseline_estimator.train(input_fn = lambda: make_dataset(\n",
      "  File \u001b[1;32m\"/home/bai/.virtualenvs/tensorflow2/lib/python3.6/site-packages/tensorflow_estimator/python/estimator/estimator.py\"\u001b[0m, line \u001b[1;32m367\u001b[0m, in \u001b[1;35mtrain\u001b[0m\n    loss = self._train_model(input_fn, hooks, saving_listeners)\n",
      "  File \u001b[1;32m\"/home/bai/.virtualenvs/tensorflow2/lib/python3.6/site-packages/tensorflow_estimator/python/estimator/estimator.py\"\u001b[0m, line \u001b[1;32m1158\u001b[0m, in \u001b[1;35m_train_model\u001b[0m\n    return self._train_model_default(input_fn, hooks, saving_listeners)\n",
      "  File \u001b[1;32m\"/home/bai/.virtualenvs/tensorflow2/lib/python3.6/site-packages/tensorflow_estimator/python/estimator/estimator.py\"\u001b[0m, line \u001b[1;32m1192\u001b[0m, in \u001b[1;35m_train_model_default\u001b[0m\n    saving_listeners)\n",
      "  File \u001b[1;32m\"/home/bai/.virtualenvs/tensorflow2/lib/python3.6/site-packages/tensorflow_estimator/python/estimator/estimator.py\"\u001b[0m, line \u001b[1;32m1480\u001b[0m, in \u001b[1;35m_train_with_estimator_spec\u001b[0m\n    log_step_count_steps=log_step_count_steps) as mon_sess:\n",
      "  File \u001b[1;32m\"/home/bai/.virtualenvs/tensorflow2/lib/python3.6/site-packages/tensorflow/python/training/monitored_session.py\"\u001b[0m, line \u001b[1;32m584\u001b[0m, in \u001b[1;35mMonitoredTrainingSession\u001b[0m\n    stop_grace_period_secs=stop_grace_period_secs)\n",
      "  File \u001b[1;32m\"/home/bai/.virtualenvs/tensorflow2/lib/python3.6/site-packages/tensorflow/python/training/monitored_session.py\"\u001b[0m, line \u001b[1;32m1007\u001b[0m, in \u001b[1;35m__init__\u001b[0m\n    stop_grace_period_secs=stop_grace_period_secs)\n",
      "  File \u001b[1;32m\"/home/bai/.virtualenvs/tensorflow2/lib/python3.6/site-packages/tensorflow/python/training/monitored_session.py\"\u001b[0m, line \u001b[1;32m725\u001b[0m, in \u001b[1;35m__init__\u001b[0m\n    self._sess = _RecoverableSession(self._coordinated_creator)\n",
      "  File \u001b[1;32m\"/home/bai/.virtualenvs/tensorflow2/lib/python3.6/site-packages/tensorflow/python/training/monitored_session.py\"\u001b[0m, line \u001b[1;32m1200\u001b[0m, in \u001b[1;35m__init__\u001b[0m\n    _WrappedSession.__init__(self, self._create_session())\n",
      "  File \u001b[1;32m\"/home/bai/.virtualenvs/tensorflow2/lib/python3.6/site-packages/tensorflow/python/training/monitored_session.py\"\u001b[0m, line \u001b[1;32m1205\u001b[0m, in \u001b[1;35m_create_session\u001b[0m\n    return self._sess_creator.create_session()\n",
      "  File \u001b[1;32m\"/home/bai/.virtualenvs/tensorflow2/lib/python3.6/site-packages/tensorflow/python/training/monitored_session.py\"\u001b[0m, line \u001b[1;32m871\u001b[0m, in \u001b[1;35mcreate_session\u001b[0m\n    self.tf_sess = self._session_creator.create_session()\n",
      "  File \u001b[1;32m\"/home/bai/.virtualenvs/tensorflow2/lib/python3.6/site-packages/tensorflow/python/training/monitored_session.py\"\u001b[0m, line \u001b[1;32m647\u001b[0m, in \u001b[1;35mcreate_session\u001b[0m\n    init_fn=self._scaffold.init_fn)\n",
      "  File \u001b[1;32m\"/home/bai/.virtualenvs/tensorflow2/lib/python3.6/site-packages/tensorflow/python/training/session_manager.py\"\u001b[0m, line \u001b[1;32m296\u001b[0m, in \u001b[1;35mprepare_session\u001b[0m\n    sess.run(init_op, feed_dict=init_feed_dict)\n",
      "  File \u001b[1;32m\"/home/bai/.virtualenvs/tensorflow2/lib/python3.6/site-packages/tensorflow/python/client/session.py\"\u001b[0m, line \u001b[1;32m950\u001b[0m, in \u001b[1;35mrun\u001b[0m\n    run_metadata_ptr)\n",
      "  File \u001b[1;32m\"/home/bai/.virtualenvs/tensorflow2/lib/python3.6/site-packages/tensorflow/python/client/session.py\"\u001b[0m, line \u001b[1;32m1173\u001b[0m, in \u001b[1;35m_run\u001b[0m\n    feed_dict_tensor, options, run_metadata)\n",
      "  File \u001b[1;32m\"/home/bai/.virtualenvs/tensorflow2/lib/python3.6/site-packages/tensorflow/python/client/session.py\"\u001b[0m, line \u001b[1;32m1350\u001b[0m, in \u001b[1;35m_do_run\u001b[0m\n    run_metadata)\n",
      "\u001b[0;36m  File \u001b[0;32m\"/home/bai/.virtualenvs/tensorflow2/lib/python3.6/site-packages/tensorflow/python/client/session.py\"\u001b[0;36m, line \u001b[0;32m1370\u001b[0;36m, in \u001b[0;35m_do_call\u001b[0;36m\u001b[0m\n\u001b[0;31m    raise type(e)(node_def, op, message)\u001b[0m\n",
      "\u001b[0;31mFailedPreconditionError\u001b[0m\u001b[0;31m:\u001b[0m GetNext() failed because the iterator has not been initialized. Ensure that you have run the initializer operation for this iterator before getting the next element.\n\t [[node IteratorGetNext (defined at <ipython-input-6-12ed84233911>:11) ]]\n\nOriginal stack trace for 'IteratorGetNext':\n  File \"/usr/lib/python3.6/runpy.py\", line 193, in _run_module_as_main\n    \"__main__\", mod_spec)\n  File \"/usr/lib/python3.6/runpy.py\", line 85, in _run_code\n    exec(code, run_globals)\n  File \"/home/bai/.virtualenvs/tensorflow2/lib/python3.6/site-packages/spyder_kernels/console/__main__.py\", line 11, in <module>\n    start.main()\n  File \"/home/bai/.virtualenvs/tensorflow2/lib/python3.6/site-packages/spyder_kernels/console/start.py\", line 318, in main\n    kernel.start()\n  File \"/home/bai/.virtualenvs/tensorflow2/lib/python3.6/site-packages/ipykernel/kernelapp.py\", line 505, in start\n    self.io_loop.start()\n  File \"/home/bai/.virtualenvs/tensorflow2/lib/python3.6/site-packages/tornado/platform/asyncio.py\", line 148, in start\n    self.asyncio_loop.run_forever()\n  File \"/usr/lib/python3.6/asyncio/base_events.py\", line 438, in run_forever\n    self._run_once()\n  File \"/usr/lib/python3.6/asyncio/base_events.py\", line 1451, in _run_once\n    handle._run()\n  File \"/usr/lib/python3.6/asyncio/events.py\", line 145, in _run\n    self._callback(*self._args)\n  File \"/home/bai/.virtualenvs/tensorflow2/lib/python3.6/site-packages/tornado/ioloop.py\", line 690, in <lambda>\n    lambda f: self._run_callback(functools.partial(callback, future))\n  File \"/home/bai/.virtualenvs/tensorflow2/lib/python3.6/site-packages/tornado/ioloop.py\", line 743, in _run_callback\n    ret = callback()\n  File \"/home/bai/.virtualenvs/tensorflow2/lib/python3.6/site-packages/tornado/gen.py\", line 781, in inner\n    self.run()\n  File \"/home/bai/.virtualenvs/tensorflow2/lib/python3.6/site-packages/tornado/gen.py\", line 742, in run\n    yielded = self.gen.send(value)\n  File \"/home/bai/.virtualenvs/tensorflow2/lib/python3.6/site-packages/ipykernel/kernelbase.py\", line 378, in dispatch_queue\n    yield self.process_one()\n  File \"/home/bai/.virtualenvs/tensorflow2/lib/python3.6/site-packages/tornado/gen.py\", line 225, in wrapper\n    runner = Runner(result, future, yielded)\n  File \"/home/bai/.virtualenvs/tensorflow2/lib/python3.6/site-packages/tornado/gen.py\", line 708, in __init__\n    self.run()\n  File \"/home/bai/.virtualenvs/tensorflow2/lib/python3.6/site-packages/tornado/gen.py\", line 742, in run\n    yielded = self.gen.send(value)\n  File \"/home/bai/.virtualenvs/tensorflow2/lib/python3.6/site-packages/ipykernel/kernelbase.py\", line 365, in process_one\n    yield gen.maybe_future(dispatch(*args))\n  File \"/home/bai/.virtualenvs/tensorflow2/lib/python3.6/site-packages/tornado/gen.py\", line 209, in wrapper\n    yielded = next(result)\n  File \"/home/bai/.virtualenvs/tensorflow2/lib/python3.6/site-packages/ipykernel/kernelbase.py\", line 272, in dispatch_shell\n    yield gen.maybe_future(handler(stream, idents, msg))\n  File \"/home/bai/.virtualenvs/tensorflow2/lib/python3.6/site-packages/tornado/gen.py\", line 209, in wrapper\n    yielded = next(result)\n  File \"/home/bai/.virtualenvs/tensorflow2/lib/python3.6/site-packages/ipykernel/kernelbase.py\", line 542, in execute_request\n    user_expressions, allow_stdin,\n  File \"/home/bai/.virtualenvs/tensorflow2/lib/python3.6/site-packages/tornado/gen.py\", line 209, in wrapper\n    yielded = next(result)\n  File \"/home/bai/.virtualenvs/tensorflow2/lib/python3.6/site-packages/ipykernel/ipkernel.py\", line 294, in do_execute\n    res = shell.run_cell(code, store_history=store_history, silent=silent)\n  File \"/home/bai/.virtualenvs/tensorflow2/lib/python3.6/site-packages/ipykernel/zmqshell.py\", line 536, in run_cell\n    return super(ZMQInteractiveShell, self).run_cell(*args, **kwargs)\n  File \"/home/bai/.virtualenvs/tensorflow2/lib/python3.6/site-packages/IPython/core/interactiveshell.py\", line 2848, in run_cell\n    raw_cell, store_history, silent, shell_futures)\n  File \"/home/bai/.virtualenvs/tensorflow2/lib/python3.6/site-packages/IPython/core/interactiveshell.py\", line 2874, in _run_cell\n    return runner(coro)\n  File \"/home/bai/.virtualenvs/tensorflow2/lib/python3.6/site-packages/IPython/core/async_helpers.py\", line 67, in _pseudo_sync_runner\n    coro.send(None)\n  File \"/home/bai/.virtualenvs/tensorflow2/lib/python3.6/site-packages/IPython/core/interactiveshell.py\", line 3049, in run_cell_async\n    interactivity=interactivity, compiler=compiler, result=result)\n  File \"/home/bai/.virtualenvs/tensorflow2/lib/python3.6/site-packages/IPython/core/interactiveshell.py\", line 3220, in run_ast_nodes\n    if (yield from self.run_code(code, result)):\n  File \"/home/bai/.virtualenvs/tensorflow2/lib/python3.6/site-packages/IPython/core/interactiveshell.py\", line 3296, in run_code\n    exec(code_obj, self.user_global_ns, self.user_ns)\n  File \"<ipython-input-6-12ed84233911>\", line 11, in <module>\n    baseline_estimator.train(input_fn = lambda: make_dataset(\n  File \"/home/bai/.virtualenvs/tensorflow2/lib/python3.6/site-packages/tensorflow_estimator/python/estimator/estimator.py\", line 367, in train\n    loss = self._train_model(input_fn, hooks, saving_listeners)\n  File \"/home/bai/.virtualenvs/tensorflow2/lib/python3.6/site-packages/tensorflow_estimator/python/estimator/estimator.py\", line 1158, in _train_model\n    return self._train_model_default(input_fn, hooks, saving_listeners)\n  File \"/home/bai/.virtualenvs/tensorflow2/lib/python3.6/site-packages/tensorflow_estimator/python/estimator/estimator.py\", line 1185, in _train_model_default\n    input_fn, ModeKeys.TRAIN))\n  File \"/home/bai/.virtualenvs/tensorflow2/lib/python3.6/site-packages/tensorflow_estimator/python/estimator/estimator.py\", line 1022, in _get_features_and_labels_from_input_fn\n    self._call_input_fn(input_fn, mode))\n  File \"/home/bai/.virtualenvs/tensorflow2/lib/python3.6/site-packages/tensorflow_estimator/python/estimator/util.py\", line 65, in parse_input_fn_result\n    result = iterator.get_next()\n  File \"/home/bai/.virtualenvs/tensorflow2/lib/python3.6/site-packages/tensorflow/python/data/ops/iterator_ops.py\", line 426, in get_next\n    output_shapes=self._structure._flat_shapes, name=name)\n  File \"/home/bai/.virtualenvs/tensorflow2/lib/python3.6/site-packages/tensorflow/python/ops/gen_dataset_ops.py\", line 1947, in iterator_get_next\n    output_shapes=output_shapes, name=name)\n  File \"/home/bai/.virtualenvs/tensorflow2/lib/python3.6/site-packages/tensorflow/python/framework/op_def_library.py\", line 788, in _apply_op_helper\n    op_def=op_def)\n  File \"/home/bai/.virtualenvs/tensorflow2/lib/python3.6/site-packages/tensorflow/python/util/deprecation.py\", line 507, in new_func\n    return func(*args, **kwargs)\n  File \"/home/bai/.virtualenvs/tensorflow2/lib/python3.6/site-packages/tensorflow/python/framework/ops.py\", line 3296, in create_op\n    op_def=op_def)\n  File \"/home/bai/.virtualenvs/tensorflow2/lib/python3.6/site-packages/tensorflow/python/framework/ops.py\", line 1692, in __init__\n    self._traceback = tf_stack.extract_stack()\n\n"
     ]
    }
   ],
   "source": [
    "output_dir = 'baseline_model'\n",
    "\n",
    "if not os.path.exists(output_dir):\n",
    "    os.mkdir(output_dir)\n",
    "\n",
    "baseline_estimator = tf.estimator.BaselineClassifier(\n",
    "    model_dir = output_dir,\n",
    "    n_classes = 2\n",
    ")\n",
    "\n",
    "baseline_estimator.train(input_fn = lambda: make_dataset(\n",
    "    train_df, y_train, epochs = 100\n",
    "))"
   ]
  },
  {
   "cell_type": "code",
   "execution_count": 7,
   "metadata": {},
   "outputs": [
    {
     "ename": "FailedPreconditionError",
     "evalue": "GetNext() failed because the iterator has not been initialized. Ensure that you have run the initializer operation for this iterator before getting the next element.\n\t [[node IteratorGetNext (defined at <ipython-input-7-2e84ee3fa94d>:1) ]]\n\nOriginal stack trace for 'IteratorGetNext':\n  File \"/usr/lib/python3.6/runpy.py\", line 193, in _run_module_as_main\n    \"__main__\", mod_spec)\n  File \"/usr/lib/python3.6/runpy.py\", line 85, in _run_code\n    exec(code, run_globals)\n  File \"/home/bai/.virtualenvs/tensorflow2/lib/python3.6/site-packages/spyder_kernels/console/__main__.py\", line 11, in <module>\n    start.main()\n  File \"/home/bai/.virtualenvs/tensorflow2/lib/python3.6/site-packages/spyder_kernels/console/start.py\", line 318, in main\n    kernel.start()\n  File \"/home/bai/.virtualenvs/tensorflow2/lib/python3.6/site-packages/ipykernel/kernelapp.py\", line 505, in start\n    self.io_loop.start()\n  File \"/home/bai/.virtualenvs/tensorflow2/lib/python3.6/site-packages/tornado/platform/asyncio.py\", line 148, in start\n    self.asyncio_loop.run_forever()\n  File \"/usr/lib/python3.6/asyncio/base_events.py\", line 438, in run_forever\n    self._run_once()\n  File \"/usr/lib/python3.6/asyncio/base_events.py\", line 1451, in _run_once\n    handle._run()\n  File \"/usr/lib/python3.6/asyncio/events.py\", line 145, in _run\n    self._callback(*self._args)\n  File \"/home/bai/.virtualenvs/tensorflow2/lib/python3.6/site-packages/tornado/ioloop.py\", line 690, in <lambda>\n    lambda f: self._run_callback(functools.partial(callback, future))\n  File \"/home/bai/.virtualenvs/tensorflow2/lib/python3.6/site-packages/tornado/ioloop.py\", line 743, in _run_callback\n    ret = callback()\n  File \"/home/bai/.virtualenvs/tensorflow2/lib/python3.6/site-packages/tornado/gen.py\", line 781, in inner\n    self.run()\n  File \"/home/bai/.virtualenvs/tensorflow2/lib/python3.6/site-packages/tornado/gen.py\", line 742, in run\n    yielded = self.gen.send(value)\n  File \"/home/bai/.virtualenvs/tensorflow2/lib/python3.6/site-packages/ipykernel/kernelbase.py\", line 365, in process_one\n    yield gen.maybe_future(dispatch(*args))\n  File \"/home/bai/.virtualenvs/tensorflow2/lib/python3.6/site-packages/tornado/gen.py\", line 209, in wrapper\n    yielded = next(result)\n  File \"/home/bai/.virtualenvs/tensorflow2/lib/python3.6/site-packages/ipykernel/kernelbase.py\", line 272, in dispatch_shell\n    yield gen.maybe_future(handler(stream, idents, msg))\n  File \"/home/bai/.virtualenvs/tensorflow2/lib/python3.6/site-packages/tornado/gen.py\", line 209, in wrapper\n    yielded = next(result)\n  File \"/home/bai/.virtualenvs/tensorflow2/lib/python3.6/site-packages/ipykernel/kernelbase.py\", line 542, in execute_request\n    user_expressions, allow_stdin,\n  File \"/home/bai/.virtualenvs/tensorflow2/lib/python3.6/site-packages/tornado/gen.py\", line 209, in wrapper\n    yielded = next(result)\n  File \"/home/bai/.virtualenvs/tensorflow2/lib/python3.6/site-packages/ipykernel/ipkernel.py\", line 294, in do_execute\n    res = shell.run_cell(code, store_history=store_history, silent=silent)\n  File \"/home/bai/.virtualenvs/tensorflow2/lib/python3.6/site-packages/ipykernel/zmqshell.py\", line 536, in run_cell\n    return super(ZMQInteractiveShell, self).run_cell(*args, **kwargs)\n  File \"/home/bai/.virtualenvs/tensorflow2/lib/python3.6/site-packages/IPython/core/interactiveshell.py\", line 2848, in run_cell\n    raw_cell, store_history, silent, shell_futures)\n  File \"/home/bai/.virtualenvs/tensorflow2/lib/python3.6/site-packages/IPython/core/interactiveshell.py\", line 2874, in _run_cell\n    return runner(coro)\n  File \"/home/bai/.virtualenvs/tensorflow2/lib/python3.6/site-packages/IPython/core/async_helpers.py\", line 67, in _pseudo_sync_runner\n    coro.send(None)\n  File \"/home/bai/.virtualenvs/tensorflow2/lib/python3.6/site-packages/IPython/core/interactiveshell.py\", line 3049, in run_cell_async\n    interactivity=interactivity, compiler=compiler, result=result)\n  File \"/home/bai/.virtualenvs/tensorflow2/lib/python3.6/site-packages/IPython/core/interactiveshell.py\", line 3220, in run_ast_nodes\n    if (yield from self.run_code(code, result)):\n  File \"/home/bai/.virtualenvs/tensorflow2/lib/python3.6/site-packages/IPython/core/interactiveshell.py\", line 3296, in run_code\n    exec(code_obj, self.user_global_ns, self.user_ns)\n  File \"<ipython-input-7-2e84ee3fa94d>\", line 1, in <module>\n    baseline_estimator.evaluate(input_fn=lambda: make_dataset(\n  File \"/home/bai/.virtualenvs/tensorflow2/lib/python3.6/site-packages/tensorflow_estimator/python/estimator/estimator.py\", line 477, in evaluate\n    name=name)\n  File \"/home/bai/.virtualenvs/tensorflow2/lib/python3.6/site-packages/tensorflow_estimator/python/estimator/estimator.py\", line 519, in _actual_eval\n    return _evaluate()\n  File \"/home/bai/.virtualenvs/tensorflow2/lib/python3.6/site-packages/tensorflow_estimator/python/estimator/estimator.py\", line 501, in _evaluate\n    self._evaluate_build_graph(input_fn, hooks, checkpoint_path))\n  File \"/home/bai/.virtualenvs/tensorflow2/lib/python3.6/site-packages/tensorflow_estimator/python/estimator/estimator.py\", line 1501, in _evaluate_build_graph\n    self._call_model_fn_eval(input_fn, self.config))\n  File \"/home/bai/.virtualenvs/tensorflow2/lib/python3.6/site-packages/tensorflow_estimator/python/estimator/estimator.py\", line 1534, in _call_model_fn_eval\n    input_fn, ModeKeys.EVAL)\n  File \"/home/bai/.virtualenvs/tensorflow2/lib/python3.6/site-packages/tensorflow_estimator/python/estimator/estimator.py\", line 1022, in _get_features_and_labels_from_input_fn\n    self._call_input_fn(input_fn, mode))\n  File \"/home/bai/.virtualenvs/tensorflow2/lib/python3.6/site-packages/tensorflow_estimator/python/estimator/util.py\", line 65, in parse_input_fn_result\n    result = iterator.get_next()\n  File \"/home/bai/.virtualenvs/tensorflow2/lib/python3.6/site-packages/tensorflow/python/data/ops/iterator_ops.py\", line 426, in get_next\n    output_shapes=self._structure._flat_shapes, name=name)\n  File \"/home/bai/.virtualenvs/tensorflow2/lib/python3.6/site-packages/tensorflow/python/ops/gen_dataset_ops.py\", line 1947, in iterator_get_next\n    output_shapes=output_shapes, name=name)\n  File \"/home/bai/.virtualenvs/tensorflow2/lib/python3.6/site-packages/tensorflow/python/framework/op_def_library.py\", line 788, in _apply_op_helper\n    op_def=op_def)\n  File \"/home/bai/.virtualenvs/tensorflow2/lib/python3.6/site-packages/tensorflow/python/util/deprecation.py\", line 507, in new_func\n    return func(*args, **kwargs)\n  File \"/home/bai/.virtualenvs/tensorflow2/lib/python3.6/site-packages/tensorflow/python/framework/ops.py\", line 3296, in create_op\n    op_def=op_def)\n  File \"/home/bai/.virtualenvs/tensorflow2/lib/python3.6/site-packages/tensorflow/python/framework/ops.py\", line 1692, in __init__\n    self._traceback = tf_stack.extract_stack()\n",
     "output_type": "error",
     "traceback": [
      "Traceback \u001b[0;36m(most recent call last)\u001b[0m:\n",
      "  File \u001b[1;32m\"<ipython-input-7-2e84ee3fa94d>\"\u001b[0m, line \u001b[1;32m1\u001b[0m, in \u001b[1;35m<module>\u001b[0m\n    baseline_estimator.evaluate(input_fn=lambda: make_dataset(\n",
      "  File \u001b[1;32m\"/home/bai/.virtualenvs/tensorflow2/lib/python3.6/site-packages/tensorflow_estimator/python/estimator/estimator.py\"\u001b[0m, line \u001b[1;32m477\u001b[0m, in \u001b[1;35mevaluate\u001b[0m\n    name=name)\n",
      "  File \u001b[1;32m\"/home/bai/.virtualenvs/tensorflow2/lib/python3.6/site-packages/tensorflow_estimator/python/estimator/estimator.py\"\u001b[0m, line \u001b[1;32m519\u001b[0m, in \u001b[1;35m_actual_eval\u001b[0m\n    return _evaluate()\n",
      "  File \u001b[1;32m\"/home/bai/.virtualenvs/tensorflow2/lib/python3.6/site-packages/tensorflow_estimator/python/estimator/estimator.py\"\u001b[0m, line \u001b[1;32m508\u001b[0m, in \u001b[1;35m_evaluate\u001b[0m\n    output_dir=self.eval_dir(name))\n",
      "  File \u001b[1;32m\"/home/bai/.virtualenvs/tensorflow2/lib/python3.6/site-packages/tensorflow_estimator/python/estimator/estimator.py\"\u001b[0m, line \u001b[1;32m1609\u001b[0m, in \u001b[1;35m_evaluate_run\u001b[0m\n    config=self._session_config)\n",
      "  File \u001b[1;32m\"/home/bai/.virtualenvs/tensorflow2/lib/python3.6/site-packages/tensorflow/python/training/evaluation.py\"\u001b[0m, line \u001b[1;32m269\u001b[0m, in \u001b[1;35m_evaluate_once\u001b[0m\n    session_creator=session_creator, hooks=hooks) as session:\n",
      "  File \u001b[1;32m\"/home/bai/.virtualenvs/tensorflow2/lib/python3.6/site-packages/tensorflow/python/training/monitored_session.py\"\u001b[0m, line \u001b[1;32m1007\u001b[0m, in \u001b[1;35m__init__\u001b[0m\n    stop_grace_period_secs=stop_grace_period_secs)\n",
      "  File \u001b[1;32m\"/home/bai/.virtualenvs/tensorflow2/lib/python3.6/site-packages/tensorflow/python/training/monitored_session.py\"\u001b[0m, line \u001b[1;32m725\u001b[0m, in \u001b[1;35m__init__\u001b[0m\n    self._sess = _RecoverableSession(self._coordinated_creator)\n",
      "  File \u001b[1;32m\"/home/bai/.virtualenvs/tensorflow2/lib/python3.6/site-packages/tensorflow/python/training/monitored_session.py\"\u001b[0m, line \u001b[1;32m1200\u001b[0m, in \u001b[1;35m__init__\u001b[0m\n    _WrappedSession.__init__(self, self._create_session())\n",
      "  File \u001b[1;32m\"/home/bai/.virtualenvs/tensorflow2/lib/python3.6/site-packages/tensorflow/python/training/monitored_session.py\"\u001b[0m, line \u001b[1;32m1205\u001b[0m, in \u001b[1;35m_create_session\u001b[0m\n    return self._sess_creator.create_session()\n",
      "  File \u001b[1;32m\"/home/bai/.virtualenvs/tensorflow2/lib/python3.6/site-packages/tensorflow/python/training/monitored_session.py\"\u001b[0m, line \u001b[1;32m871\u001b[0m, in \u001b[1;35mcreate_session\u001b[0m\n    self.tf_sess = self._session_creator.create_session()\n",
      "  File \u001b[1;32m\"/home/bai/.virtualenvs/tensorflow2/lib/python3.6/site-packages/tensorflow/python/training/monitored_session.py\"\u001b[0m, line \u001b[1;32m647\u001b[0m, in \u001b[1;35mcreate_session\u001b[0m\n    init_fn=self._scaffold.init_fn)\n",
      "  File \u001b[1;32m\"/home/bai/.virtualenvs/tensorflow2/lib/python3.6/site-packages/tensorflow/python/training/session_manager.py\"\u001b[0m, line \u001b[1;32m296\u001b[0m, in \u001b[1;35mprepare_session\u001b[0m\n    sess.run(init_op, feed_dict=init_feed_dict)\n",
      "  File \u001b[1;32m\"/home/bai/.virtualenvs/tensorflow2/lib/python3.6/site-packages/tensorflow/python/client/session.py\"\u001b[0m, line \u001b[1;32m950\u001b[0m, in \u001b[1;35mrun\u001b[0m\n    run_metadata_ptr)\n",
      "  File \u001b[1;32m\"/home/bai/.virtualenvs/tensorflow2/lib/python3.6/site-packages/tensorflow/python/client/session.py\"\u001b[0m, line \u001b[1;32m1173\u001b[0m, in \u001b[1;35m_run\u001b[0m\n    feed_dict_tensor, options, run_metadata)\n",
      "  File \u001b[1;32m\"/home/bai/.virtualenvs/tensorflow2/lib/python3.6/site-packages/tensorflow/python/client/session.py\"\u001b[0m, line \u001b[1;32m1350\u001b[0m, in \u001b[1;35m_do_run\u001b[0m\n    run_metadata)\n",
      "\u001b[0;36m  File \u001b[0;32m\"/home/bai/.virtualenvs/tensorflow2/lib/python3.6/site-packages/tensorflow/python/client/session.py\"\u001b[0;36m, line \u001b[0;32m1370\u001b[0;36m, in \u001b[0;35m_do_call\u001b[0;36m\u001b[0m\n\u001b[0;31m    raise type(e)(node_def, op, message)\u001b[0m\n",
      "\u001b[0;31mFailedPreconditionError\u001b[0m\u001b[0;31m:\u001b[0m GetNext() failed because the iterator has not been initialized. Ensure that you have run the initializer operation for this iterator before getting the next element.\n\t [[node IteratorGetNext (defined at <ipython-input-7-2e84ee3fa94d>:1) ]]\n\nOriginal stack trace for 'IteratorGetNext':\n  File \"/usr/lib/python3.6/runpy.py\", line 193, in _run_module_as_main\n    \"__main__\", mod_spec)\n  File \"/usr/lib/python3.6/runpy.py\", line 85, in _run_code\n    exec(code, run_globals)\n  File \"/home/bai/.virtualenvs/tensorflow2/lib/python3.6/site-packages/spyder_kernels/console/__main__.py\", line 11, in <module>\n    start.main()\n  File \"/home/bai/.virtualenvs/tensorflow2/lib/python3.6/site-packages/spyder_kernels/console/start.py\", line 318, in main\n    kernel.start()\n  File \"/home/bai/.virtualenvs/tensorflow2/lib/python3.6/site-packages/ipykernel/kernelapp.py\", line 505, in start\n    self.io_loop.start()\n  File \"/home/bai/.virtualenvs/tensorflow2/lib/python3.6/site-packages/tornado/platform/asyncio.py\", line 148, in start\n    self.asyncio_loop.run_forever()\n  File \"/usr/lib/python3.6/asyncio/base_events.py\", line 438, in run_forever\n    self._run_once()\n  File \"/usr/lib/python3.6/asyncio/base_events.py\", line 1451, in _run_once\n    handle._run()\n  File \"/usr/lib/python3.6/asyncio/events.py\", line 145, in _run\n    self._callback(*self._args)\n  File \"/home/bai/.virtualenvs/tensorflow2/lib/python3.6/site-packages/tornado/ioloop.py\", line 690, in <lambda>\n    lambda f: self._run_callback(functools.partial(callback, future))\n  File \"/home/bai/.virtualenvs/tensorflow2/lib/python3.6/site-packages/tornado/ioloop.py\", line 743, in _run_callback\n    ret = callback()\n  File \"/home/bai/.virtualenvs/tensorflow2/lib/python3.6/site-packages/tornado/gen.py\", line 781, in inner\n    self.run()\n  File \"/home/bai/.virtualenvs/tensorflow2/lib/python3.6/site-packages/tornado/gen.py\", line 742, in run\n    yielded = self.gen.send(value)\n  File \"/home/bai/.virtualenvs/tensorflow2/lib/python3.6/site-packages/ipykernel/kernelbase.py\", line 365, in process_one\n    yield gen.maybe_future(dispatch(*args))\n  File \"/home/bai/.virtualenvs/tensorflow2/lib/python3.6/site-packages/tornado/gen.py\", line 209, in wrapper\n    yielded = next(result)\n  File \"/home/bai/.virtualenvs/tensorflow2/lib/python3.6/site-packages/ipykernel/kernelbase.py\", line 272, in dispatch_shell\n    yield gen.maybe_future(handler(stream, idents, msg))\n  File \"/home/bai/.virtualenvs/tensorflow2/lib/python3.6/site-packages/tornado/gen.py\", line 209, in wrapper\n    yielded = next(result)\n  File \"/home/bai/.virtualenvs/tensorflow2/lib/python3.6/site-packages/ipykernel/kernelbase.py\", line 542, in execute_request\n    user_expressions, allow_stdin,\n  File \"/home/bai/.virtualenvs/tensorflow2/lib/python3.6/site-packages/tornado/gen.py\", line 209, in wrapper\n    yielded = next(result)\n  File \"/home/bai/.virtualenvs/tensorflow2/lib/python3.6/site-packages/ipykernel/ipkernel.py\", line 294, in do_execute\n    res = shell.run_cell(code, store_history=store_history, silent=silent)\n  File \"/home/bai/.virtualenvs/tensorflow2/lib/python3.6/site-packages/ipykernel/zmqshell.py\", line 536, in run_cell\n    return super(ZMQInteractiveShell, self).run_cell(*args, **kwargs)\n  File \"/home/bai/.virtualenvs/tensorflow2/lib/python3.6/site-packages/IPython/core/interactiveshell.py\", line 2848, in run_cell\n    raw_cell, store_history, silent, shell_futures)\n  File \"/home/bai/.virtualenvs/tensorflow2/lib/python3.6/site-packages/IPython/core/interactiveshell.py\", line 2874, in _run_cell\n    return runner(coro)\n  File \"/home/bai/.virtualenvs/tensorflow2/lib/python3.6/site-packages/IPython/core/async_helpers.py\", line 67, in _pseudo_sync_runner\n    coro.send(None)\n  File \"/home/bai/.virtualenvs/tensorflow2/lib/python3.6/site-packages/IPython/core/interactiveshell.py\", line 3049, in run_cell_async\n    interactivity=interactivity, compiler=compiler, result=result)\n  File \"/home/bai/.virtualenvs/tensorflow2/lib/python3.6/site-packages/IPython/core/interactiveshell.py\", line 3220, in run_ast_nodes\n    if (yield from self.run_code(code, result)):\n  File \"/home/bai/.virtualenvs/tensorflow2/lib/python3.6/site-packages/IPython/core/interactiveshell.py\", line 3296, in run_code\n    exec(code_obj, self.user_global_ns, self.user_ns)\n  File \"<ipython-input-7-2e84ee3fa94d>\", line 1, in <module>\n    baseline_estimator.evaluate(input_fn=lambda: make_dataset(\n  File \"/home/bai/.virtualenvs/tensorflow2/lib/python3.6/site-packages/tensorflow_estimator/python/estimator/estimator.py\", line 477, in evaluate\n    name=name)\n  File \"/home/bai/.virtualenvs/tensorflow2/lib/python3.6/site-packages/tensorflow_estimator/python/estimator/estimator.py\", line 519, in _actual_eval\n    return _evaluate()\n  File \"/home/bai/.virtualenvs/tensorflow2/lib/python3.6/site-packages/tensorflow_estimator/python/estimator/estimator.py\", line 501, in _evaluate\n    self._evaluate_build_graph(input_fn, hooks, checkpoint_path))\n  File \"/home/bai/.virtualenvs/tensorflow2/lib/python3.6/site-packages/tensorflow_estimator/python/estimator/estimator.py\", line 1501, in _evaluate_build_graph\n    self._call_model_fn_eval(input_fn, self.config))\n  File \"/home/bai/.virtualenvs/tensorflow2/lib/python3.6/site-packages/tensorflow_estimator/python/estimator/estimator.py\", line 1534, in _call_model_fn_eval\n    input_fn, ModeKeys.EVAL)\n  File \"/home/bai/.virtualenvs/tensorflow2/lib/python3.6/site-packages/tensorflow_estimator/python/estimator/estimator.py\", line 1022, in _get_features_and_labels_from_input_fn\n    self._call_input_fn(input_fn, mode))\n  File \"/home/bai/.virtualenvs/tensorflow2/lib/python3.6/site-packages/tensorflow_estimator/python/estimator/util.py\", line 65, in parse_input_fn_result\n    result = iterator.get_next()\n  File \"/home/bai/.virtualenvs/tensorflow2/lib/python3.6/site-packages/tensorflow/python/data/ops/iterator_ops.py\", line 426, in get_next\n    output_shapes=self._structure._flat_shapes, name=name)\n  File \"/home/bai/.virtualenvs/tensorflow2/lib/python3.6/site-packages/tensorflow/python/ops/gen_dataset_ops.py\", line 1947, in iterator_get_next\n    output_shapes=output_shapes, name=name)\n  File \"/home/bai/.virtualenvs/tensorflow2/lib/python3.6/site-packages/tensorflow/python/framework/op_def_library.py\", line 788, in _apply_op_helper\n    op_def=op_def)\n  File \"/home/bai/.virtualenvs/tensorflow2/lib/python3.6/site-packages/tensorflow/python/util/deprecation.py\", line 507, in new_func\n    return func(*args, **kwargs)\n  File \"/home/bai/.virtualenvs/tensorflow2/lib/python3.6/site-packages/tensorflow/python/framework/ops.py\", line 3296, in create_op\n    op_def=op_def)\n  File \"/home/bai/.virtualenvs/tensorflow2/lib/python3.6/site-packages/tensorflow/python/framework/ops.py\", line 1692, in __init__\n    self._traceback = tf_stack.extract_stack()\n\n"
     ]
    }
   ],
   "source": [
    "baseline_estimator.evaluate(input_fn = lambda: make_dataset(\n",
    "    eval_df, y_eval, epochs = 1, shuffle = False, batch_size = 20))"
   ]
  },
  {
   "cell_type": "code",
   "execution_count": null,
   "metadata": {},
   "outputs": [],
   "source": []
  },
  {
   "cell_type": "code",
   "execution_count": null,
   "metadata": {},
   "outputs": [],
   "source": []
  },
  {
   "cell_type": "code",
   "execution_count": null,
   "metadata": {},
   "outputs": [],
   "source": [
    "# 2. use estimator (alternative to fit)\n",
    "estimator = keras.estimator.model_to_estimator(model)\n",
    "\n",
    "# input_fn -> must be a function i.g. a lambda function\n",
    "# return \n",
    "# a. (features, labels)\n",
    "# b. dataset(feature, label)\n",
    "estimator.train(\n",
    "    input_fn = lambda: make_dataset(train_df, y_train, epochs = 100)\n",
    ")"
   ]
  }
 ],
 "metadata": {
  "kernelspec": {
   "display_name": "Python 3 (Spyder)",
   "language": "python3",
   "name": "python3"
  },
  "language_info": {
   "codemirror_mode": {
    "name": "ipython",
    "version": 3
   },
   "file_extension": ".py",
   "mimetype": "text/x-python",
   "name": "python",
   "nbconvert_exporter": "python",
   "pygments_lexer": "ipython3",
   "version": "3.6.7"
  },
  "pycharm": {
   "stem_cell": {
    "cell_type": "raw",
    "metadata": {
     "collapsed": false
    },
    "source": []
   }
  }
 },
 "nbformat": 4,
 "nbformat_minor": 2
}
