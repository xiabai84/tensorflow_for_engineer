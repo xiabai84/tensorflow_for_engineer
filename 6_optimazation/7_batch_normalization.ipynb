{
 "cells": [
  {
   "cell_type": "markdown",
   "metadata": {
    "pycharm": {
     "is_executing": false
    }
   },
   "source": [
    "## Mega geile Klärung zum Thema Batch Normalization\n",
    "<br>\n",
    "https://github.com/udacity/deep-learning/blob/master/batch-norm/Batch_Normalization_Lesson.ipynb"
   ]
  },
  {
   "cell_type": "code",
   "execution_count": null,
   "metadata": {},
   "outputs": [],
   "source": [
    "import tensorflow as tf\n",
    "import pickle\n",
    "import numpy as np\n",
    "from tensorflow import keras\n",
    "\n",
    "\n",
    "def load(data_path):\n",
    "    with open(data_path,'rb') as f:\n",
    "        mnist = pickle.load(f)\n",
    "    return mnist[\"training_images\"], mnist[\"training_labels\"], mnist[\"test_images\"], mnist[\"test_labels\"]\n",
    "\n",
    "class MnistData:\n",
    "    def __init__(self, filenames, need_shuffle, datatype='training'):\n",
    "        all_data = []\n",
    "        all_labels = []\n",
    "        x_train, y_train, x_test, y_test = load(filenames) #\"data/mnist.pkl\"\n",
    "        \n",
    "        if datatype=='training':\n",
    "            self._data = x_train / 127.5 -1\n",
    "            self._labels = y_train\n",
    "            print(self._data.shape)\n",
    "            print(self._labels.shape)\n",
    "        else:\n",
    "            self._data = x_test / 127.5 -1\n",
    "            self._labels = y_test\n",
    "            print(self._data.shape)\n",
    "            print(self._labels.shape)\n",
    "            \n",
    "        self._num_examples = self._data.shape[0]\n",
    "        self._need_shuffle = need_shuffle\n",
    "        self._indicator = 0\n",
    "        if self._need_shuffle:\n",
    "            self._shuffle_data()\n",
    "            \n",
    "    def _shuffle_data(self):\n",
    "        # [0,1,2,3,4,5] -> [5,3,2,4,0,1]\n",
    "        p = np.random.permutation(self._num_examples)\n",
    "        self._data = self._data[p]\n",
    "        self._labels = self._labels[p]\n",
    "    \n",
    "    def next_batch(self, batch_size):\n",
    "        \"\"\"return batch_size examples as a batch.\"\"\"\n",
    "        end_indicator = self._indicator + batch_size\n",
    "        if end_indicator > self._num_examples:\n",
    "            if self._need_shuffle:\n",
    "                self._shuffle_data()\n",
    "                self._indicator = 0\n",
    "                end_indicator = batch_size\n",
    "            else:\n",
    "                raise Exception(\"have no more examples\")\n",
    "        if end_indicator > self._num_examples:\n",
    "            raise Exception(\"batch size is larger than all examples\")\n",
    "        batch_data = self._data[self._indicator: end_indicator]\n",
    "        batch_labels = self._labels[self._indicator: end_indicator]\n",
    "        self._indicator = end_indicator\n",
    "        return batch_data, batch_labels"
   ]
  },
  {
   "cell_type": "code",
   "execution_count": null,
   "metadata": {
    "pycharm": {}
   },
   "outputs": [],
   "source": [
    "data = \"../4_basic_image_recognition/data/mnist.pkl\"\n",
    "train_data = MnistData(data, True, 'training')\n",
    "test_data = MnistData(data, False, 'test')"
   ]
  },
  {
   "cell_type": "markdown",
   "metadata": {
    "pycharm": {}
   },
   "source": [
    "## Batch Normalization\n",
    "<br>\n",
    "\n",
    "**Steps:**\n",
    "\n",
    "\n",
    "1. add convolutional layer with out activation function <br>\n",
    "2. use tf.layers.batch_normalization(your_conv_layer, training=True) <br>\n",
    "3. assign activition function for results"
   ]
  },
  {
   "cell_type": "code",
   "execution_count": null,
   "metadata": {
    "pycharm": {}
   },
   "outputs": [],
   "source": [
    "with tf.name_scope('input'):\n",
    "    x = tf.placeholder(tf.float32, [None, 28*28], name='x-intput')\n",
    "    y = tf.placeholder(tf.int64, [None], name='y-input')\n",
    "    x_image = tf.reshape(x, [-1, 28, 28, 1], name='x-input-image')\n",
    "\n",
    "# for tensorboard image visualization\n",
    "with tf.name_scope('input_reshape'):\n",
    "    image_shaped_input = tf.reshape(x, [-1, 28, 28, 1]) # see x.shape\n",
    "\n",
    "with tf.name_scope('layers'):\n",
    "    # add a new convolutional layer\n",
    "    conv_1 = tf.layers.conv2d(inputs=x_image, \n",
    "                              filters=32, \n",
    "                              kernel_size=(5, 5),\n",
    "                              padding = 'same',\n",
    "                              activation=None,\n",
    "                              name= 'conv1')\n",
    "    # add batch normalization\n",
    "    conv_1 = tf.layers.batch_normalization(conv_1, training=True)\n",
    "    # use activation function\n",
    "    conv_1 = tf.nn.relu(conv_1)\n",
    "    \n",
    "    pool1 = tf.layers.max_pooling2d(inputs=conv_1,\n",
    "                                    pool_size=(2, 2),\n",
    "                                    strides=(2,2),\n",
    "                                    name='pool1')\n",
    "\n",
    "    conv_2 = tf.layers.conv2d(inputs=pool1,\n",
    "                              filters=64,\n",
    "                              kernel_size=(5, 5),\n",
    "                              padding = 'same',\n",
    "                              activation=None,\n",
    "                              name='conv2')\n",
    "    \n",
    "    conv_2 = tf.layers.batch_normalization(conv_2, training=True)\n",
    "    conv_2 = tf.nn.relu(conv_2)\n",
    "\n",
    "    pool2 = tf.layers.max_pooling2d(inputs=conv_2,\n",
    "                                    pool_size=(2,2),\n",
    "                                    strides=(2,2),\n",
    "                                    name= 'pool2')\n",
    "\n",
    "    # fc layer1\n",
    "    flatten = tf.layers.flatten(pool2, name= 'fc1_flatten')\n",
    "    # fc layer2\n",
    "    y_ = tf.layers.dense(flatten, 10, name= 'fc2_flatten')\n",
    "\n",
    "with tf.name_scope('loss'):\n",
    "    #sparse_softmax_cross_entropy include one_hot encoding\n",
    "    loss = tf.losses.sparse_softmax_cross_entropy(labels=y, logits=y_)\n",
    "\n",
    "with tf.name_scope('accuracy'):\n",
    "    \n",
    "    predict = tf.argmax(y_, 1)\n",
    "    correct_prediction = tf.equal(predict, y)\n",
    "    accuracy = tf.reduce_mean(tf.cast(correct_prediction, tf.float64))\n",
    "    \n",
    "    with tf.name_scope('accuracy'):\n",
    "        tf.summary.scalar('accuracy', accuracy)\n",
    "    \n",
    "with tf.name_scope('train_op'):\n",
    "    train_op = tf.train.AdamOptimizer(1e-4).minimize(loss)\n"
   ]
  },
  {
   "cell_type": "code",
   "execution_count": null,
   "metadata": {
    "pycharm": {}
   },
   "outputs": [],
   "source": [
    "init = tf.global_variables_initializer()\n",
    "batch_size = 20\n",
    "train_steps = 10000\n",
    "test_steps = 50\n",
    "\n",
    "\n",
    "# train 10k: %\n",
    "with tf.Session() as sess:\n",
    "    sess.run(init)\n",
    "    # start training\n",
    "    for i in range(train_steps):\n",
    "        batch_data, batch_labels = train_data.next_batch(batch_size)\n",
    "        loss_val, acc_val, _ = sess.run([loss, accuracy, train_op], feed_dict={x: batch_data, y: batch_labels})\n",
    "                \n",
    "        # print train kpi\n",
    "        if (i+1) % 100 == 0:\n",
    "            print('[Train] Step: %d, loss: %4.5f, acc: %4.5f' % (i+1, loss_val, acc_val))\n",
    "        \n",
    "        # perform test and test kpi\n",
    "        if (i+1) % 1000 == 0:\n",
    "            all_test_acc_val = []\n",
    "            for j in range(test_steps):\n",
    "                test_batch_data, test_batch_labels = test_data.next_batch(batch_size)\n",
    "                test_acc_val = sess.run([accuracy], feed_dict = {x: test_batch_data, y: test_batch_labels})\n",
    "                all_test_acc_val.append(test_acc_val)\n",
    "            test_acc = np.mean(all_test_acc_val)\n",
    "            print('[Test ] Step: %d, acc: %4.5f' % (i+1, test_acc))\n"
   ]
  },
  {
   "cell_type": "code",
   "execution_count": null,
   "metadata": {},
   "outputs": [],
   "source": []
  }
 ],
 "metadata": {
  "kernelspec": {
   "display_name": "Python 3",
   "language": "python",
   "name": "python3"
  },
  "language_info": {
   "codemirror_mode": {
    "name": "ipython",
    "version": 3
   },
   "file_extension": ".py",
   "mimetype": "text/x-python",
   "name": "python",
   "nbconvert_exporter": "python",
   "pygments_lexer": "ipython3",
   "version": "3.6.7"
  }
 },
 "nbformat": 4,
 "nbformat_minor": 2
}
