{
  "cells": [
    {
      "cell_type": "markdown",
      "metadata": {
        "pycharm": {}
      },
      "source": [
        "## Method for building hidden layer"
      ]
    },
    {
      "cell_type": "code",
      "execution_count": 1,
      "metadata": {
        "pycharm": {
          "is_executing": false
        }
      },
      "outputs": [],
      "source": [
        "import tensorflow as tf\n",
        "\n",
        "\n",
        "def add_layer(inputs, in_size, out_size, activation_function\u003dNone):\n",
        "    \"\"\"\n",
        "    input: intput data\n",
        "    in_size: number of input neurons\n",
        "    out_size: number of output neurons\n",
        "    \"\"\"\n",
        "    #initializer \u003d tf.truncated_normal([in_size, out_size], stddev\u003d0.5)\n",
        "    initializer \u003d tf.contrib.layers.xavier_initializer()\n",
        "    #tf.keras.initializers.he_normal()\n",
        "    #Weights \u003d tf.Variable(initializer([in_size, out_size]))\n",
        "    \n",
        "    Weights \u003d tf.Variable(tf.random_normal([in_size, out_size]))\n",
        "    bias \u003d tf.Variable(initializer([1, out_size]))\n",
        "    Wx_plus_b \u003d tf.matmul(inputs, Weights) + bias\n",
        "    \n",
        "    if activation_function is None:\n",
        "        outputs \u003d Wx_plus_b\n",
        "    else:\n",
        "        outputs \u003d activation_function(Wx_plus_b)\n",
        "    return outputs"
      ]
    },
    {
      "cell_type": "code",
      "execution_count": 2,
      "metadata": {
        "pycharm": {}
      },
      "outputs": [],
      "source": [
        "from numpy import genfromtxt\n",
        "data \u003d genfromtxt(\u0027data/body_data.csv\u0027, delimiter\u003d\u0027;\u0027, skip_header\u003d1)\n",
        "\n",
        "height \u003d data[:,[0]]\n",
        "weight \u003d data[:,[1]]\n",
        "#print(weight)"
      ]
    },
    {
      "cell_type": "markdown",
      "metadata": {
        "pycharm": {}
      },
      "source": [
        "## Build a simple neural network\n",
        "\n",
        "### Normalization\n",
        "a \u003d your dataset\n",
        "\n",
        "Normalization(a) \u003d mean(a) / (max(a) - min(a))"
      ]
    },
    {
      "cell_type": "code",
      "execution_count": 3,
      "metadata": {
        "pycharm": {}
      },
      "outputs": [
        {
          "name": "stdout",
          "output_type": "stream",
          "text": [
            "\n",
            "WARNING: The TensorFlow contrib module will not be included in TensorFlow 2.0.\n",
            "For more information, please see:\n",
            "  * https://github.com/tensorflow/community/blob/master/rfcs/20180907-contrib-sunset.md\n",
            "  * https://github.com/tensorflow/addons\n",
            "If you depend on functionality not listed there, please file an issue.\n",
            "\n",
            "WARNING:tensorflow:From /home/bai/.virtualenvs/tensorflow/lib/python3.6/site-packages/tensorflow/python/framework/op_def_library.py:263: colocate_with (from tensorflow.python.framework.ops) is deprecated and will be removed in a future version.\n",
            "Instructions for updating:\n",
            "Colocations handled automatically by placer.\n",
            "WARNING:tensorflow:From /home/bai/.virtualenvs/tensorflow/lib/python3.6/site-packages/tensorflow/python/ops/losses/losses_impl.py:667: to_float (from tensorflow.python.ops.math_ops) is deprecated and will be removed in a future version.\n",
            "Instructions for updating:\n",
            "Use tf.cast instead.\n",
            "[2.5086842]\n",
            "[0.02277619]\n",
            "[0.017481226]\n",
            "[0.013628858]\n",
            "[0.011379096]\n",
            "[0.010414692]\n",
            "[0.010094243]\n",
            "[0.009967554]\n",
            "[0.009866032]\n",
            "[0.009756012]\n"
          ]
        },
        {
          "data": {
            "image/png": "[encoded data removed]",
            "text/plain": [
              "\u003cFigure size 432x288 with 1 Axes\u003e"
            ]
          },
          "metadata": {
            "needs_background": "light"
          },
          "output_type": "display_data"
        }
      ],
      "source": [
        "import numpy as np\n",
        "import matplotlib.pyplot as plt\n",
        "%matplotlib inline\n",
        "#%matplotlib notebook\n",
        "\n",
        "import matplotlib.pyplot as plt\n",
        "import matplotlib\n",
        "\n",
        "\n",
        "#x_data \u003d height\n",
        "x_data \u003d np.array([1.60, 1.62, 1.68, 1.69, 1.70, 1.70, 1.71, 1.72, 1.80, 1.76, 1.77, 1.78, 1.77, 1.78, 1.79, 1.80, 1.81, 1.82, 1.83, 1.94])\n",
        "x_data \u003d x_data[:, np.newaxis]\n",
        "x_data \u003d (x_data - np.mean(x_data)) / (np.amax(x_data) - np.amin(x_data))\n",
        "\n",
        "#y_data \u003d weight\n",
        "y_data \u003d np.array([60.5, 58.8, 62.7, 62.8, 63.1, 58.9, 61.5, 65.8, 70.0, 65.8, 66.8, 68.0, 66.7, 60.8, 72.4, 70.5, 72.8, 75.8, 74.6, 83.2])\n",
        "y_data \u003d y_data[:, np.newaxis]\n",
        "y_data \u003d (y_data - np.mean(y_data)) / (np.amax(y_data) - np.amin(y_data))\n",
        "\n",
        "xs \u003d tf.placeholder(tf.float32, [None,1])\n",
        "ys \u003d tf.placeholder(tf.float32, [None,1])\n",
        "\n",
        "l1 \u003d add_layer(xs, 1, 10, activation_function\u003dtf.nn.tanh)\n",
        "prediction \u003d add_layer(l1, 10, 1, activation_function\u003dNone)\n",
        "\n",
        "#prediction \u003d tf.nn.tanh(l2)\n",
        "#prediction \u003d tf.nn.relu(l2) # gradient decent only\n",
        "#prediction \u003d tf.nn.leaky_rtalu(l2)\n",
        "#prediction \u003d tf.nn.sigmoid(l2)\n",
        "\n",
        "loss \u003d tf.losses.mean_squared_error(labels\u003dys, predictions\u003dprediction)\n",
        "\n",
        "#train_step \u003d tf.train.GradientDescentOptimizer(1e-1).minimize(loss)\n",
        "train_step \u003d tf.train.AdamOptimizer(1e-3).minimize(loss)\n",
        "\n",
        "init \u003d tf.global_variables_initializer()\n",
        "\n",
        "# train a overfitting model\n",
        "with tf.Session() as sess:\n",
        "    sess.run(init)\n",
        "    \n",
        "    fig \u003d plt.figure()\n",
        "    ax \u003d fig.add_subplot(1,1,1)\n",
        "    ax.scatter(x_data, y_data)\n",
        "    plt.ion\n",
        "    \n",
        "    for i in range(5000):\n",
        "        sess.run(train_step, feed_dict\u003d{xs: x_data, ys: y_data})\n",
        "        if i%500 \u003d\u003d 0:\n",
        "            print(sess.run([loss], feed_dict\u003d{xs: x_data, ys: y_data}))\n",
        "            try:\n",
        "                ax.lines.remove(lines[0])\n",
        "            except Exception:\n",
        "                pass\n",
        "            \n",
        "            ######################## not working part ########################\n",
        "            prediction_value \u003d sess.run(prediction, feed_dict\u003d{xs:x_data})\n",
        "            lines \u003d ax.plot(x_data, prediction_value, \u0027r-\u0027, lw\u003d5)\n",
        "            #plt.pause(0.1)\n"
      ]
    }
  ],
  "metadata": {
    "kernelspec": {
      "display_name": "Python 3",
      "language": "python",
      "name": "python3"
    },
    "language_info": {
      "codemirror_mode": {
        "name": "ipython",
        "version": 3
      },
      "file_extension": ".py",
      "mimetype": "text/x-python",
      "name": "python",
      "nbconvert_exporter": "python",
      "pygments_lexer": "ipython3",
      "version": "3.6.7"
    }
  },
  "nbformat": 4,
  "nbformat_minor": 2
}