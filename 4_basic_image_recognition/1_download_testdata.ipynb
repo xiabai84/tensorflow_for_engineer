{
  "cells": [
    {
      "cell_type": "code",
      "execution_count": 1,
      "metadata": {
        "pycharm": {
          "is_executing": false
        }
      },
      "outputs": [],
      "source": [
        "destination_folder \u003d \u0027data/\u0027\n",
        "\n",
        "file_names \u003d [\u0027train-images-idx3-ubyte.gz\u0027,\n",
        "              \u0027train-labels-idx1-ubyte.gz\u0027,\n",
        "              \u0027t10k-images-idx3-ubyte.gz\u0027,\n",
        "              \u0027t10k-labels-idx1-ubyte.gz\u0027]\n",
        "\n",
        "download_url \u003d \u0027http://yann.lecun.com/exdb/mnist/\u0027"
      ]
    },
    {
      "cell_type": "markdown",
      "metadata": {
        "pycharm": {}
      },
      "source": [
        "## Download test data from internet, make sure you have internet access"
      ]
    },
    {
      "cell_type": "code",
      "execution_count": 4,
      "metadata": {
        "pycharm": {}
      },
      "outputs": [
        {
          "name": "stdout",
          "output_type": "stream",
          "text": [
            "Donwload and extract train-images-idx3-ubyte.gz from http://yann.lecun.com/exdb/mnist/train-images-idx3-ubyte.gz\n",
            "Donwload and extract train-labels-idx1-ubyte.gz from http://yann.lecun.com/exdb/mnist/train-labels-idx1-ubyte.gz\n",
            "Donwload and extract t10k-images-idx3-ubyte.gz from http://yann.lecun.com/exdb/mnist/t10k-images-idx3-ubyte.gz\n",
            "Donwload and extract t10k-labels-idx1-ubyte.gz from http://yann.lecun.com/exdb/mnist/t10k-labels-idx1-ubyte.gz\n"
          ]
        }
      ],
      "source": [
        "import wget\n",
        "from sh import gunzip\n",
        "\n",
        "for file in file_names:\n",
        "    print(\"Donwload and extract %s from %s\" % (file, download_url+file))\n",
        "    wget.download(url\u003ddownload_url + file, out\u003d\u0027data/\u0027)\n",
        "    #gunzip(destination_folder + file)\n",
        "    "
      ]
    },
    {
      "cell_type": "code",
      "execution_count": null,
      "metadata": {
        "pycharm": {}
      },
      "outputs": [],
      "source": [
        "for file in file_names:\n",
        "    gunzip(destination_folder + file)\n",
        "\n",
        "print(\u0027finished!\u0027)"
      ]
    }
  ],
  "metadata": {
    "kernelspec": {
      "display_name": "Python 3",
      "language": "python",
      "name": "python3"
    },
    "language_info": {
      "codemirror_mode": {
        "name": "ipython",
        "version": 3
      },
      "file_extension": ".py",
      "mimetype": "text/x-python",
      "name": "python",
      "nbconvert_exporter": "python",
      "pygments_lexer": "ipython3",
      "version": "3.6.7"
    }
  },
  "nbformat": 4,
  "nbformat_minor": 2
}