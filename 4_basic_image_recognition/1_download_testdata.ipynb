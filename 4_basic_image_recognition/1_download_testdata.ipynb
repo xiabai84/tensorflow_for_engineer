{
 "cells": [
  {
   "cell_type": "code",
   "execution_count": null,
   "metadata": {},
   "outputs": [],
   "source": [
    "destination_folder = 'data/'\n",
    "\n",
    "file_names = ['train-images-idx3-ubyte.gz',\n",
    "              'train-labels-idx1-ubyte.gz',\n",
    "              't10k-images-idx3-ubyte.gz',\n",
    "              't10k-labels-idx1-ubyte.gz']\n",
    "\n",
    "download_url = 'http://yann.lecun.com/exdb/mnist/'"
   ]
  },
  {
   "cell_type": "markdown",
   "metadata": {},
   "source": [
    "## Download test data from internet, make sure you have internet access"
   ]
  },
  {
   "cell_type": "code",
   "execution_count": null,
   "metadata": {},
   "outputs": [],
   "source": [
    "import wget\n",
    "from sh import gunzip\n",
    "\n",
    "for file in file_names:\n",
    "    print(\"Donwload and extract %s from %s\" % (file, download_url+file))\n",
    "    wget.download(url=download_url + file, out='data/')\n",
    "    #gunzip(destination_folder + file)\n",
    "    "
   ]
  },
  {
   "cell_type": "code",
   "execution_count": null,
   "metadata": {},
   "outputs": [],
   "source": [
    "for file in file_names:\n",
    "    gunzip(destination_folder + file)\n",
    "\n",
    "print('finished!')"
   ]
  }
 ],
 "metadata": {
  "kernelspec": {
   "display_name": "Python 3",
   "language": "python",
   "name": "python3"
  },
  "language_info": {
   "codemirror_mode": {
    "name": "ipython",
    "version": 3
   },
   "file_extension": ".py",
   "mimetype": "text/x-python",
   "name": "python",
   "nbconvert_exporter": "python",
   "pygments_lexer": "ipython3",
   "version": "3.6.7"
  }
 },
 "nbformat": 4,
 "nbformat_minor": 2
}
