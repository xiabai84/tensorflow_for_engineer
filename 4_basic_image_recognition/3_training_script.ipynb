{
  "cells": [
    {
      "cell_type": "markdown",
      "metadata": {
        "pycharm": {}
      },
      "source": [
        "## Stolen thing works !"
      ]
    },
    {
      "cell_type": "code",
      "execution_count": 1,
      "metadata": {
        "pycharm": {
          "is_executing": false
        }
      },
      "outputs": [
        {
          "name": "stdout",
          "text": [
            "WARNING:tensorflow:From \u003cipython-input-1-1c38fe433da6\u003e:8: read_data_sets (from tensorflow.contrib.learn.python.learn.datasets.mnist) is deprecated and will be removed in a future version.\nInstructions for updating:\nPlease use alternatives such as official/mnist/dataset.py from tensorflow/models.\n",
            "WARNING:tensorflow:From /home/bai/.virtualenvs/tensorflow/lib/python3.6/site-packages/tensorflow/contrib/learn/python/learn/datasets/mnist.py:260: maybe_download (from tensorflow.contrib.learn.python.learn.datasets.base) is deprecated and will be removed in a future version.\nInstructions for updating:\nPlease write your own downloading logic.\n",
            "WARNING:tensorflow:From /home/bai/.virtualenvs/tensorflow/lib/python3.6/site-packages/tensorflow/contrib/learn/python/learn/datasets/mnist.py:262: extract_images (from tensorflow.contrib.learn.python.learn.datasets.mnist) is deprecated and will be removed in a future version.\nInstructions for updating:\nPlease use tf.data to implement this functionality.\n",
            "Extracting MNIST_data/train-images-idx3-ubyte.gz\n",
            "WARNING:tensorflow:From /home/bai/.virtualenvs/tensorflow/lib/python3.6/site-packages/tensorflow/contrib/learn/python/learn/datasets/mnist.py:267: extract_labels (from tensorflow.contrib.learn.python.learn.datasets.mnist) is deprecated and will be removed in a future version.\nInstructions for updating:\nPlease use tf.data to implement this functionality.\n",
            "Extracting MNIST_data/train-labels-idx1-ubyte.gz\nWARNING:tensorflow:From /home/bai/.virtualenvs/tensorflow/lib/python3.6/site-packages/tensorflow/contrib/learn/python/learn/datasets/mnist.py:110: dense_to_one_hot (from tensorflow.contrib.learn.python.learn.datasets.mnist) is deprecated and will be removed in a future version.\nInstructions for updating:\nPlease use tf.one_hot on tensors.\n",
            "Extracting MNIST_data/t10k-images-idx3-ubyte.gz\nExtracting MNIST_data/t10k-labels-idx1-ubyte.gz\nWARNING:tensorflow:From /home/bai/.virtualenvs/tensorflow/lib/python3.6/site-packages/tensorflow/contrib/learn/python/learn/datasets/mnist.py:290: DataSet.__init__ (from tensorflow.contrib.learn.python.learn.datasets.mnist) is deprecated and will be removed in a future version.\nInstructions for updating:\nPlease use alternatives such as official/mnist/dataset.py from tensorflow/models.\n",
            "WARNING:tensorflow:From /home/bai/.virtualenvs/tensorflow/lib/python3.6/site-packages/tensorflow/python/framework/op_def_library.py:263: colocate_with (from tensorflow.python.framework.ops) is deprecated and will be removed in a future version.\nInstructions for updating:\nColocations handled automatically by placer.\n",
            "Iter 1,Testing Accuracy 0.8319\n",
            "Iter 2,Testing Accuracy 0.8713\n",
            "Iter 3,Testing Accuracy 0.8812\n",
            "Iter 4,Testing Accuracy 0.8875\n",
            "Iter 5,Testing Accuracy 0.8941\n",
            "Iter 6,Testing Accuracy 0.8973\n",
            "Iter 7,Testing Accuracy 0.8999\n",
            "Iter 8,Testing Accuracy 0.9007\n",
            "Iter 9,Testing Accuracy 0.9041\n",
            "Iter 10,Testing Accuracy 0.9051\n",
            "Iter 11,Testing Accuracy 0.9056\n",
            "Iter 12,Testing Accuracy 0.908\n",
            "Iter 13,Testing Accuracy 0.9084\n",
            "Iter 14,Testing Accuracy 0.9085\n",
            "Iter 15,Testing Accuracy 0.9101\n",
            "Iter 16,Testing Accuracy 0.9108\n",
            "Iter 17,Testing Accuracy 0.912\n",
            "Iter 18,Testing Accuracy 0.9126\n",
            "Iter 19,Testing Accuracy 0.9138\n",
            "Iter 20,Testing Accuracy 0.9135\n"
          ],
          "output_type": "stream"
        }
      ],
      "source": [
        "# coding: utf-8\n",
        "\n",
        "import tensorflow as tf\n",
        "from tensorflow.examples.tutorials.mnist import input_data\n",
        "# https://github.com/tensorflow/tensorflow/blob/master/tensorflow/contrib/learn/python/learn/datasets/mnist.py\n",
        "\n",
        "# load data \n",
        "mnist \u003d input_data.read_data_sets(\"MNIST_data\", one_hot\u003dTrue)\n",
        "\n",
        "# define batch size\n",
        "batch_size \u003d 100\n",
        "# calculate num of batches for each epoch\n",
        "n_batch \u003d mnist.train.num_examples // batch_size\n",
        "\n",
        "# old trick again...\n",
        "x \u003d tf.placeholder(tf.float32, [None, 784])\n",
        "y \u003d tf.placeholder(tf.float32, [None, 10])\n",
        "\n",
        "W \u003d tf.Variable(tf.zeros([784, 10]))\n",
        "b \u003d tf.Variable(tf.zeros([10]))\n",
        "prediction \u003d tf.nn.softmax(tf.matmul(x, W) + b)\n",
        "\n",
        "# use mse\n",
        "loss \u003d tf.reduce_mean(tf.square(y-prediction))\n",
        "# use cross entropy as loss func\n",
        "# loss \u003d tf.reduce_mean(tf.nn.softmax_cross_entropy_with_logits(labels\u003dy, logits\u003dprediction))\n",
        "\n",
        "train_step \u003d tf.train.GradientDescentOptimizer(0.2).minimize(loss)\n",
        "\n",
        "init \u003d tf.global_variables_initializer()\n",
        "\n",
        "# add results to a boolean list\n",
        "correct_prediction \u003d tf.equal(tf.argmax(y, 1), tf.argmax(prediction, 1))  # \n",
        "\n",
        "accuracy \u003d tf.reduce_mean(tf.cast(correct_prediction, tf.float32))\n",
        "\n",
        "with tf.Session() as sess:\n",
        "    sess.run(init)\n",
        "    for epoch in range(20):\n",
        "        for batch in range(n_batch):\n",
        "            batch_xs, batch_ys \u003d mnist.train.next_batch(batch_size)\n",
        "            #sess.run(train_step, feed_dict\u003d{x: batch_xs, y: batch_ys})\n",
        "            sess.run(train_step, feed_dict\u003d{x: batch_xs, y: batch_ys})\n",
        "            #print(sess.run([W, b], feed_dict\u003d{x: batch_xs, y: batch_ys}))\n",
        "        acc \u003d sess.run(accuracy, feed_dict\u003d{x: mnist.test.images, y: mnist.test.labels})\n",
        "        print(\"Iter \" + str(epoch + 1) + \",Testing Accuracy \" + str(acc))"
      ]
    }
  ],
  "metadata": {
    "kernelspec": {
      "display_name": "Python 3",
      "language": "python",
      "name": "python3"
    },
    "language_info": {
      "codemirror_mode": {
        "name": "ipython",
        "version": 3
      },
      "file_extension": ".py",
      "mimetype": "text/x-python",
      "name": "python",
      "nbconvert_exporter": "python",
      "pygments_lexer": "ipython3",
      "version": "3.6.7"
    }
  },
  "nbformat": 4,
  "nbformat_minor": 2
}