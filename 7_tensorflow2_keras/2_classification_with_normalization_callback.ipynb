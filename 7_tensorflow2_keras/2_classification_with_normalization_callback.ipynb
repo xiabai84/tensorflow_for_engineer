{
 "cells": [
  {
   "cell_type": "code",
   "execution_count": 19,
   "metadata": {},
   "outputs": [
    {
     "name": "stdout",
     "output_type": "stream",
     "text": [
      "tensorflow 2.0.0-alpha0\n",
      "matplotlib 3.1.0\n",
      "numpy 1.16.4\n",
      "pandas 0.24.2\n",
      "tensorflow.python.keras.api._v2.keras 2.2.4-tf\n"
     ]
    }
   ],
   "source": [
    "import tensorflow as tf\n",
    "import matplotlib as mpl\n",
    "import matplotlib.pyplot as plt\n",
    "%matplotlib inline\n",
    "import numpy as np\n",
    "import pandas as pd\n",
    "import os\n",
    "import sys\n",
    "import time\n",
    "from tensorflow import keras\n",
    "\n",
    "for module in (tf, mpl, np, pd, keras):\n",
    "    print(module.__name__, module.__version__)"
   ]
  },
  {
   "cell_type": "markdown",
   "metadata": {},
   "source": [
    "## Load play datasets"
   ]
  },
  {
   "cell_type": "code",
   "execution_count": 2,
   "metadata": {},
   "outputs": [
    {
     "name": "stdout",
     "output_type": "stream",
     "text": [
      "(5000, 28, 28) (5000,)\n",
      "(55000, 28, 28) (55000,)\n",
      "(10000, 28, 28) (10000,)\n"
     ]
    }
   ],
   "source": [
    "fashion_mnist = keras.datasets.fashion_mnist\n",
    "(x_train_all, y_train_all), (x_test, y_test) = fashion_mnist.load_data()\n",
    "x_valid, x_train = x_train_all[:5000], x_train_all[5000:]\n",
    "y_valid, y_train = y_train_all[:5000], y_train_all[5000:]\n",
    "\n",
    "print(x_valid.shape, y_valid.shape)\n",
    "print(x_train.shape, y_train.shape)\n",
    "print(x_test.shape, y_test.shape)"
   ]
  },
  {
   "cell_type": "markdown",
   "metadata": {},
   "source": [
    "## Normalize inputdata by using Sklearn Standscalar\n",
    "\n",
    "- made x = (x - u) / std"
   ]
  },
  {
   "cell_type": "code",
   "execution_count": 10,
   "metadata": {},
   "outputs": [
    {
     "name": "stdout",
     "output_type": "stream",
     "text": [
      "255 0\n",
      "2.0231433 -0.8105136\n"
     ]
    }
   ],
   "source": [
    "from sklearn.preprocessing import StandardScaler\n",
    "\n",
    "# before normalization\n",
    "print(np.max(x_train), np.min(x_train))\n",
    "\n",
    "# perform normalization\n",
    "scaler = StandardScaler()\n",
    "# 1. data in x_train is int32, we need to convert them to float32 first \n",
    "# 2. convert x_train data from \n",
    "#    [None, 28, 28] -> [None, 784] \n",
    "#       -> after all reshape back to [None, 28, 28]\n",
    "x_train_scaled = scaler.fit_transform(x_train.astype(np.float32).reshape(-1, 1)).reshape(-1, 28, 28)\n",
    "x_valid_scaled = scaler.transform(x_valid.astype(np.float32).reshape(-1, 1)).reshape(-1, 28, 28)\n",
    "x_test_scaled  = scaler.transform(x_test.astype(np.float32).reshape(-1, 1)).reshape(-1, 28, 28)\n",
    "\n",
    "# after normalization\n",
    "print(np.max(x_train_scaled), np.min(x_train_scaled))"
   ]
  },
  {
   "cell_type": "markdown",
   "metadata": {},
   "source": [
    "## Build model by using tf.keras high level API"
   ]
  },
  {
   "cell_type": "code",
   "execution_count": 11,
   "metadata": {},
   "outputs": [],
   "source": [
    "model = keras.models.Sequential()\n",
    "model.add(keras.layers.Flatten(input_shape = [28, 28]))\n",
    "model.add(keras.layers.Dense(300, activation = \"relu\"))\n",
    "model.add(keras.layers.Dense(100, activation = \"relu\"))\n",
    "model.add(keras.layers.Dense(10, activation = \"softmax\"))\n",
    "\n",
    "# if y is one_hot vector then use categorical_crossentropy as loss function\n",
    "model.compile(loss = \"sparse_categorical_crossentropy\",\n",
    "              optimizer = \"sgd\",\n",
    "              metrics = [\"accuracy\"])"
   ]
  },
  {
   "cell_type": "markdown",
   "metadata": {},
   "source": [
    "## Train model with callback"
   ]
  },
  {
   "cell_type": "code",
   "execution_count": 36,
   "metadata": {},
   "outputs": [
    {
     "name": "stdout",
     "output_type": "stream",
     "text": [
      "Train on 55000 samples, validate on 5000 samples\n",
      "Epoch 1/10\n",
      "55000/55000 [==============================] - 5s 93us/sample - loss: 0.3864 - accuracy: 0.8626 - val_loss: 0.3866 - val_accuracy: 0.8626\n",
      "Epoch 2/10\n",
      "55000/55000 [==============================] - 5s 97us/sample - loss: 0.3798 - accuracy: 0.8661 - val_loss: 0.3862 - val_accuracy: 0.8660\n",
      "Epoch 3/10\n",
      "55000/55000 [==============================] - 5s 94us/sample - loss: 0.3739 - accuracy: 0.8669 - val_loss: 0.3776 - val_accuracy: 0.8672\n",
      "Epoch 4/10\n",
      "55000/55000 [==============================] - 5s 95us/sample - loss: 0.3679 - accuracy: 0.8697 - val_loss: 0.3750 - val_accuracy: 0.8684\n",
      "Epoch 5/10\n",
      "55000/55000 [==============================] - 5s 90us/sample - loss: 0.3627 - accuracy: 0.8706 - val_loss: 0.3719 - val_accuracy: 0.8676\n",
      "Epoch 6/10\n",
      "55000/55000 [==============================] - 5s 97us/sample - loss: 0.3578 - accuracy: 0.8735 - val_loss: 0.3681 - val_accuracy: 0.8732\n",
      "Epoch 7/10\n",
      "55000/55000 [==============================] - 5s 94us/sample - loss: 0.3534 - accuracy: 0.8740 - val_loss: 0.3692 - val_accuracy: 0.8692\n",
      "Epoch 8/10\n",
      "55000/55000 [==============================] - 5s 89us/sample - loss: 0.3490 - accuracy: 0.8759 - val_loss: 0.3613 - val_accuracy: 0.8692\n",
      "Epoch 9/10\n",
      "55000/55000 [==============================] - 5s 89us/sample - loss: 0.3452 - accuracy: 0.8776 - val_loss: 0.3649 - val_accuracy: 0.8690\n",
      "Epoch 10/10\n",
      "55000/55000 [==============================] - 5s 96us/sample - loss: 0.3412 - accuracy: 0.8783 - val_loss: 0.3609 - val_accuracy: 0.8734\n"
     ]
    }
   ],
   "source": [
    "# Tensorboard, EarlyStopping, ModelCheckPoint\n",
    "# https://www.tensorflow.org/versions/r2.0/api_docs/python/tf/keras/callbacks\n",
    "\n",
    "logdir = './callbacks' # logdir for tensorboard logdata\n",
    "if not os.path.exists(logdir):\n",
    "    os.mkdir(logdir)\n",
    "output_model_file = os.path.join(logdir, \"fashion_mnist_model.h5\")    \n",
    "\n",
    "callbacks = [\n",
    "    keras.callbacks.TensorBoard(log_dir=logdir),\n",
    "    keras.callbacks.ModelCheckpoint(output_model_file, save_best_only = True),\n",
    "    keras.callbacks.EarlyStopping(patience = 5, min_delta = 1e-3)\n",
    "]\n",
    "\n",
    "history = model.fit(x = x_train_scaled, y = y_train, epochs = 10, \n",
    "                    validation_data = (x_valid_scaled, y_valid),\n",
    "                    callbacks = callbacks)\n",
    "\n",
    "# once training is finished, you can use tensorboard to visualize results\n",
    "# tensorboard --logdir=callbacks"
   ]
  },
  {
   "cell_type": "markdown",
   "metadata": {},
   "source": [
    "## Result visualization"
   ]
  },
  {
   "cell_type": "code",
   "execution_count": 24,
   "metadata": {},
   "outputs": [
    {
     "name": "stdout",
     "output_type": "stream",
     "text": [
      "<built-in method keys of dict object at 0x7f39fd6a98b8>\n"
     ]
    },
    {
     "data": {
      "image/png": "[encoded data removed]",
      "text/plain": [
       "<Figure size 576x360 with 1 Axes>"
      ]
     },
     "metadata": {
      "needs_background": "light"
     },
     "output_type": "display_data"
    }
   ],
   "source": [
    "from tensorflow.python.keras.callbacks import History\n",
    "\n",
    "def plot_learning_curves(history: History):\n",
    "    pd.DataFrame(history.history).plot(figsize = (8, 5))\n",
    "    plt.grid(True)\n",
    "    plt.gca().set_ylim(0, 1)\n",
    "    plt.show()\n",
    "\n",
    "plot_learning_curves(history)"
   ]
  },
  {
   "cell_type": "markdown",
   "metadata": {},
   "source": [
    "## Evaluate model with test dataset"
   ]
  },
  {
   "cell_type": "code",
   "execution_count": 33,
   "metadata": {},
   "outputs": [
    {
     "name": "stdout",
     "output_type": "stream",
     "text": [
      "10000/10000 [==============================] - 0s 47us/sample - loss: 0.4323 - accuracy: 0.8436\n"
     ]
    }
   ],
   "source": [
    "test_loss, test_acc = model.evaluate(x_test_scaled, y_test)"
   ]
  },
  {
   "cell_type": "markdown",
   "metadata": {},
   "source": [
    "## Made a simple prediction on test dataset"
   ]
  },
  {
   "cell_type": "code",
   "execution_count": 37,
   "metadata": {},
   "outputs": [
    {
     "name": "stdout",
     "output_type": "stream",
     "text": [
      "[0. 0. 0. 0. 0. 0. 0. 0. 0. 1.]\n",
      "9 9\n"
     ]
    }
   ],
   "source": [
    "# one_hot encoded results\n",
    "predictions = model.predict(x_test)\n",
    "print(predictions[0])\n",
    "\n",
    "# compare ml-prediction to test label\n",
    "print(np.argmax(predictions[0]), y_test[0])"
   ]
  }
 ],
 "metadata": {
  "kernelspec": {
   "display_name": "Python 3",
   "language": "python",
   "name": "python3"
  },
  "language_info": {
   "codemirror_mode": {
    "name": "ipython",
    "version": 3
   },
   "file_extension": ".py",
   "mimetype": "text/x-python",
   "name": "python",
   "nbconvert_exporter": "python",
   "pygments_lexer": "ipython3",
   "version": "3.6.7"
  }
 },
 "nbformat": 4,
 "nbformat_minor": 2
}
