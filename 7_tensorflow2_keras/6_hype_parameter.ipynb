{
 "cells": [
  {
   "cell_type": "markdown",
   "metadata": {},
   "source": [
    "### 1 Hyperparameters Search\n",
    "\n",
    "During training of nn there are parameters, which never change for example:\n",
    "* Net-Parameters: number of layers, number of input neurons or activation functions\n",
    "* Training Parameters: batch_size, learning_rate etc.\n",
    "<br>\n",
    "\n",
    "To avoid set such parameters manually, can HyperparameterSearch good be used"
   ]
  },
  {
   "cell_type": "markdown",
   "metadata": {},
   "source": [
    "### 2 Methods\n",
    "* Grid Search (user predefined parameters)\n",
    "* Random Search (random generated parameters)\n",
    "* Evolutionary optimization\n",
    "* Population-based\n",
    "* etc.\n",
    "<br>\n",
    "\n",
    "for more: https://blog.floydhub.com/guide-to-hyperparameters-search-for-deep-learning-models/"
   ]
  },
  {
   "cell_type": "code",
   "execution_count": null,
   "metadata": {},
   "outputs": [],
   "source": []
  }
 ],
 "metadata": {
  "kernelspec": {
   "display_name": "Python 3 (Spyder)",
   "language": "python3",
   "name": "python3"
  },
  "language_info": {
   "codemirror_mode": {
    "name": "ipython",
    "version": 3
   },
   "file_extension": ".py",
   "mimetype": "text/x-python",
   "name": "python",
   "nbconvert_exporter": "python",
   "pygments_lexer": "ipython3",
   "version": "3.7.4"
  },
  "pycharm": {
   "stem_cell": {
    "cell_type": "raw",
    "metadata": {
     "collapsed": false
    },
    "source": []
   }
  }
 },
 "nbformat": 4,
 "nbformat_minor": 2
}
