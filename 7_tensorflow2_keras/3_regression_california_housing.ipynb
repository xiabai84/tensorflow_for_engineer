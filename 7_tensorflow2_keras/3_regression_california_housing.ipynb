{
 "cells": [
  {
   "cell_type": "code",
   "execution_count": 3,
   "metadata": {
    "pycharm": {
     "is_executing": false
    }
   },
   "outputs": [
    {
     "name": "stdout",
     "output_type": "stream",
     "text": [
      "tensorflow 2.0.0-beta1\n",
      "matplotlib 3.1.0\n",
      "numpy 1.16.4\n",
      "pandas 0.24.2\n",
      "tensorflow.python.keras.api._v2.keras 2.2.4-tf\n"
     ]
    }
   ],
   "source": [
    "import tensorflow as tf\n",
    "import matplotlib as mpl\n",
    "import matplotlib.pyplot as plt\n",
    "%matplotlib inline\n",
    "import numpy as np\n",
    "import pandas as pd\n",
    "import os\n",
    "import sys\n",
    "import time\n",
    "from tensorflow import keras\n",
    "\n",
    "for module in (tf, mpl, np, pd, keras):\n",
    "    print(module.__name__, module.__version__)"
   ]
  },
  {
   "cell_type": "markdown",
   "metadata": {},
   "source": [
    "## Load play datasets"
   ]
  },
  {
   "cell_type": "code",
   "execution_count": 2,
   "metadata": {},
   "outputs": [
    {
     "name": "stdout",
     "output_type": "stream",
     "text": [
      ".. _california_housing_dataset:\n",
      "\n",
      "California Housing dataset\n",
      "--------------------------\n",
      "\n",
      "**Data Set Characteristics:**\n",
      "\n",
      "    :Number of Instances: 20640\n",
      "\n",
      "    :Number of Attributes: 8 numeric, predictive attributes and the target\n",
      "\n",
      "    :Attribute Information:\n",
      "        - MedInc        median income in block\n",
      "        - HouseAge      median house age in block\n",
      "        - AveRooms      average number of rooms\n",
      "        - AveBedrms     average number of bedrooms\n",
      "        - Population    block population\n",
      "        - AveOccup      average house occupancy\n",
      "        - Latitude      house block latitude\n",
      "        - Longitude     house block longitude\n",
      "\n",
      "    :Missing Attribute Values: None\n",
      "\n",
      "This dataset was obtained from the StatLib repository.\n",
      "http://lib.stat.cmu.edu/datasets/\n",
      "\n",
      "The target variable is the median house value for California districts.\n",
      "\n",
      "This dataset was derived from the 1990 U.S. census, using one row per census\n",
      "block group. A block group is the smallest geographical unit for which the U.S.\n",
      "Census Bureau publishes sample data (a block group typically has a population\n",
      "of 600 to 3,000 people).\n",
      "\n",
      "It can be downloaded/loaded using the\n",
      ":func:`sklearn.datasets.fetch_california_housing` function.\n",
      "\n",
      ".. topic:: References\n",
      "\n",
      "    - Pace, R. Kelley and Ronald Barry, Sparse Spatial Autoregressions,\n",
      "      Statistics and Probability Letters, 33 (1997) 291-297\n",
      "\n",
      "(20640, 8)\n",
      "(20640,)\n",
      "array([   8.3252    ,   41.        ,    6.98412698,    1.02380952,\n",
      "        322.        ,    2.55555556,   37.88      , -122.23      ])\n",
      "4.526\n"
     ]
    }
   ],
   "source": [
    "from sklearn.datasets import fetch_california_housing\n",
    "\n",
    "housing = fetch_california_housing()\n",
    "print(housing.DESCR)\n",
    "print(housing.data.shape)\n",
    "print(housing.target.shape)\n",
    "\n",
    "import pprint\n",
    "pprint.pprint(housing.datfashion_mnista[0])\n",
    "pprint.pprint(housing.target[0])"
   ]
  },
  {
   "cell_type": "markdown",
   "metadata": {},
   "source": [
    "## Split input data in train and test"
   ]
  },
  {
   "cell_type": "code",
   "execution_count": 3,
   "metadata": {},
   "outputs": [
    {
     "name": "stdout",
     "output_type": "stream",
     "text": [
      "(11610, 8) (11610,)\n",
      "(3870, 8) (3870,)\n",
      "(5160, 8) (5160,)\n"
     ]
    }
   ],
   "source": [
    "from sklearn.model_selection import train_test_split\n",
    "\n",
    "# by default train_test_split split data in 3: 1 -> train and test -> default param -> test_size = 0.25\n",
    "x_train_all, x_test, y_train_all, y_test = train_test_split(housing.data, housing.target, random_state = 7)\n",
    "x_train, x_valid, y_train, y_valid = train_test_split(x_train_all, y_train_all, random_state = 11)\n",
    "\n",
    "print(x_train.shape, y_train.shape)\n",
    "print(x_valid.shape, y_valid.shape)\n",
    "print(x_test.shape, y_test.shape)"
   ]
  },
  {
   "cell_type": "markdown",
   "metadata": {},
   "source": [
    "## Normalize inputdata by using Sklearn Standscalar\n",
    "\n",
    "- Z-score: x = ( x - u ) / std      (what we used for this case)\n",
    "- Min-max: x = ( x - min ) / ( max - min )"
   ]
  },
  {
   "cell_type": "code",
   "execution_count": 4,
   "metadata": {},
   "outputs": [
    {
     "name": "stdout",
     "output_type": "stream",
     "text": [
      "28566.0 -124.3\n",
      "81.80221745207753 -2.3594398206242224\n"
     ]
    }
   ],
   "source": [
    "from sklearn.preprocessing import StandardScaler\n",
    "\n",
    "# before normalization\n",
    "print(np.max(x_train), np.min(x_train))\n",
    "\n",
    "# perform normalization\n",
    "scaler = StandardScaler()\n",
    "# 1. data in x_train is int32, we need to convert them to float32 first \n",
    "# 2. convert x_train data from \n",
    "#    [None, 28, 28] -> [None, 784] \n",
    "#       -> after all reshape back to [None, 28, 28]\n",
    "x_train_scaled = scaler.fit_transform(x_train)\n",
    "x_valid_scaled = scaler.transform(x_valid)\n",
    "x_test_scaled  = scaler.transform(x_test)\n",
    "\n",
    "# after normalization\n",
    "print(np.max(x_train_scaled), np.min(x_train_scaled))"
   ]
  },
  {
   "cell_type": "markdown",
   "metadata": {},
   "source": [
    "## Build model by using tf.keras high level API"
   ]
  },
  {
   "cell_type": "code",
   "execution_count": 6,
   "metadata": {},
   "outputs": [
    {
     "name": "stdout",
     "output_type": "stream",
     "text": [
      "Model: \"sequential_1\"\n",
      "_________________________________________________________________\n",
      "Layer (type)                 Output Shape              Param #   \n",
      "=================================================================\n",
      "dense_1 (Dense)              (None, 30)                270       \n",
      "_________________________________________________________________\n",
      "dense_2 (Dense)              (None, 50)                1550      \n",
      "_________________________________________________________________\n",
      "dense_3 (Dense)              (None, 50)                2550      \n",
      "_________________________________________________________________\n",
      "dense_4 (Dense)              (None, 30)                1530      \n",
      "_________________________________________________________________\n",
      "dense_5 (Dense)              (None, 1)                 31        \n",
      "=================================================================\n",
      "Total params: 5,931\n",
      "Trainable params: 5,931\n",
      "Non-trainable params: 0\n",
      "_________________________________________________________________\n"
     ]
    }
   ],
   "source": [
    "model = keras.models.Sequential()\n",
    "model.add(keras.layers.Dense(30, activation = 'tanh', input_shape=x_train.shape[1:]))\n",
    "model.add(keras.layers.Dense(50, activation = 'tanh', input_shape=x_train.shape[1:]))\n",
    "model.add(keras.layers.Dense(50, activation = 'tanh', input_shape=x_train.shape[1:]))\n",
    "model.add(keras.layers.Dense(30, activation = 'tanh', input_shape=x_train.shape[1:]))\n",
    "model.add(keras.layers.Dense(1))\n",
    "\n",
    "model.summary()\n",
    "# mean_squared_error make model as regression\n",
    "model.compile(loss = \"mean_squared_error\", optimizer = \"sgd\", metrics = [\"accuracy\"])\n",
    "callbacks = [\n",
    "    keras.callbacks.EarlyStopping(patience = 5, min_delta = 1e-3)\n",
    "]"
   ]
  },
  {
   "cell_type": "markdown",
   "metadata": {},
   "source": [
    "## Train model with callback"
   ]
  },
  {
   "cell_type": "code",
   "execution_count": 7,
   "metadata": {},
   "outputs": [
    {
     "name": "stdout",
     "output_type": "stream",
     "text": [
      "Train on 11610 samples, validate on 3870 samples\n",
      "Epoch 1/100\n",
      "11610/11610 [==============================] - 1s 49us/sample - loss: 0.5676 - accuracy: 0.0031 - val_loss: 0.4739 - val_accuracy: 0.0023\n",
      "Epoch 2/100\n",
      "11610/11610 [==============================] - 0s 36us/sample - loss: 0.4392 - accuracy: 0.0031 - val_loss: 0.4609 - val_accuracy: 0.0023\n",
      "Epoch 3/100\n",
      "11610/11610 [==============================] - 0s 37us/sample - loss: 0.4151 - accuracy: 0.0031 - val_loss: 0.4295 - val_accuracy: 0.0023\n",
      "Epoch 4/100\n",
      "11610/11610 [==============================] - 0s 31us/sample - loss: 0.3983 - accuracy: 0.0031 - val_loss: 0.4319 - val_accuracy: 0.0023\n",
      "Epoch 5/100\n",
      "11610/11610 [==============================] - 0s 33us/sample - loss: 0.3900 - accuracy: 0.0031 - val_loss: 0.4316 - val_accuracy: 0.0023\n",
      "Epoch 6/100\n",
      "11610/11610 [==============================] - 0s 32us/sample - loss: 0.3797 - accuracy: 0.0031 - val_loss: 0.3967 - val_accuracy: 0.0023\n",
      "Epoch 7/100\n",
      "11610/11610 [==============================] - 0s 31us/sample - loss: 0.3708 - accuracy: 0.0031 - val_loss: 0.3808 - val_accuracy: 0.0023\n",
      "Epoch 8/100\n",
      "11610/11610 [==============================] - 0s 31us/sample - loss: 0.3644 - accuracy: 0.0031 - val_loss: 0.3875 - val_accuracy: 0.0023\n",
      "Epoch 9/100\n",
      "11610/11610 [==============================] - 0s 32us/sample - loss: 0.3593 - accuracy: 0.0030 - val_loss: 0.3746 - val_accuracy: 0.0023\n",
      "Epoch 10/100\n",
      "11610/11610 [==============================] - 0s 33us/sample - loss: 0.3542 - accuracy: 0.0031 - val_loss: 0.3694 - val_accuracy: 0.0023\n",
      "Epoch 11/100\n",
      "11610/11610 [==============================] - 0s 33us/sample - loss: 0.3499 - accuracy: 0.0031 - val_loss: 0.3617 - val_accuracy: 0.0023\n",
      "Epoch 12/100\n",
      "11610/11610 [==============================] - 0s 34us/sample - loss: 0.3448 - accuracy: 0.0031 - val_loss: 0.3741 - val_accuracy: 0.0023\n",
      "Epoch 13/100\n",
      "11610/11610 [==============================] - 0s 34us/sample - loss: 0.3420 - accuracy: 0.0031 - val_loss: 0.3538 - val_accuracy: 0.0023\n",
      "Epoch 14/100\n",
      "11610/11610 [==============================] - 1s 43us/sample - loss: 0.3387 - accuracy: 0.0030 - val_loss: 0.3539 - val_accuracy: 0.0023\n",
      "Epoch 15/100\n",
      "11610/11610 [==============================] - 0s 42us/sample - loss: 0.3365 - accuracy: 0.0031 - val_loss: 0.3666 - val_accuracy: 0.0023\n",
      "Epoch 16/100\n",
      "11610/11610 [==============================] - 1s 43us/sample - loss: 0.3342 - accuracy: 0.0031 - val_loss: 0.3475 - val_accuracy: 0.0023\n",
      "Epoch 17/100\n",
      "11610/11610 [==============================] - 0s 42us/sample - loss: 0.3313 - accuracy: 0.0031 - val_loss: 0.3453 - val_accuracy: 0.0023\n",
      "Epoch 18/100\n",
      "11610/11610 [==============================] - 0s 33us/sample - loss: 0.3284 - accuracy: 0.0031 - val_loss: 0.3436 - val_accuracy: 0.0023\n",
      "Epoch 19/100\n",
      "11610/11610 [==============================] - 0s 34us/sample - loss: 0.3254 - accuracy: 0.0030 - val_loss: 0.3434 - val_accuracy: 0.0023\n",
      "Epoch 20/100\n",
      "11610/11610 [==============================] - 0s 34us/sample - loss: 0.3236 - accuracy: 0.0030 - val_loss: 0.3432 - val_accuracy: 0.0023\n",
      "Epoch 21/100\n",
      "11610/11610 [==============================] - 0s 34us/sample - loss: 0.3213 - accuracy: 0.0030 - val_loss: 0.3370 - val_accuracy: 0.0023\n",
      "Epoch 22/100\n",
      "11610/11610 [==============================] - 0s 34us/sample - loss: 0.3187 - accuracy: 0.0031 - val_loss: 0.3362 - val_accuracy: 0.0023\n",
      "Epoch 23/100\n",
      "11610/11610 [==============================] - 0s 33us/sample - loss: 0.3167 - accuracy: 0.0031 - val_loss: 0.3317 - val_accuracy: 0.0023\n",
      "Epoch 24/100\n",
      "11610/11610 [==============================] - 1s 48us/sample - loss: 0.3150 - accuracy: 0.0031 - val_loss: 0.3397 - val_accuracy: 0.0023\n",
      "Epoch 25/100\n",
      "11610/11610 [==============================] - 1s 47us/sample - loss: 0.3113 - accuracy: 0.0030 - val_loss: 0.3312 - val_accuracy: 0.0023\n",
      "Epoch 26/100\n",
      "11610/11610 [==============================] - 0s 35us/sample - loss: 0.3098 - accuracy: 0.0031 - val_loss: 0.3210 - val_accuracy: 0.0023\n",
      "Epoch 27/100\n",
      "11610/11610 [==============================] - 0s 34us/sample - loss: 0.3064 - accuracy: 0.0031 - val_loss: 0.3324 - val_accuracy: 0.0023\n",
      "Epoch 28/100\n",
      "11610/11610 [==============================] - 1s 43us/sample - loss: 0.3052 - accuracy: 0.0030 - val_loss: 0.3297 - val_accuracy: 0.0023\n",
      "Epoch 29/100\n",
      "11610/11610 [==============================] - 0s 34us/sample - loss: 0.3029 - accuracy: 0.0030 - val_loss: 0.3197 - val_accuracy: 0.0023\n",
      "Epoch 30/100\n",
      "11610/11610 [==============================] - 0s 34us/sample - loss: 0.3009 - accuracy: 0.0031 - val_loss: 0.3158 - val_accuracy: 0.0023\n",
      "Epoch 31/100\n",
      "11610/11610 [==============================] - 0s 34us/sample - loss: 0.2988 - accuracy: 0.0029 - val_loss: 0.3120 - val_accuracy: 0.0023\n",
      "Epoch 32/100\n",
      "11610/11610 [==============================] - 1s 43us/sample - loss: 0.2975 - accuracy: 0.0031 - val_loss: 0.3286 - val_accuracy: 0.0023\n",
      "Epoch 33/100\n",
      "11610/11610 [==============================] - 0s 33us/sample - loss: 0.2938 - accuracy: 0.0030 - val_loss: 0.3221 - val_accuracy: 0.0023\n",
      "Epoch 34/100\n",
      "11610/11610 [==============================] - 0s 34us/sample - loss: 0.2944 - accuracy: 0.0029 - val_loss: 0.3209 - val_accuracy: 0.0023\n",
      "Epoch 35/100\n",
      "11610/11610 [==============================] - 0s 34us/sample - loss: 0.2919 - accuracy: 0.0029 - val_loss: 0.3102 - val_accuracy: 0.0023\n",
      "Epoch 36/100\n",
      "11610/11610 [==============================] - 0s 31us/sample - loss: 0.2910 - accuracy: 0.0031 - val_loss: 0.3034 - val_accuracy: 0.0023\n",
      "Epoch 37/100\n",
      "11610/11610 [==============================] - 0s 30us/sample - loss: 0.2913 - accuracy: 0.0030 - val_loss: 0.3132 - val_accuracy: 0.0023\n",
      "Epoch 38/100\n",
      "11610/11610 [==============================] - 0s 30us/sample - loss: 0.2892 - accuracy: 0.0030 - val_loss: 0.3026 - val_accuracy: 0.0023\n",
      "Epoch 39/100\n",
      "11610/11610 [==============================] - 0s 32us/sample - loss: 0.2874 - accuracy: 0.0030 - val_loss: 0.3014 - val_accuracy: 0.0023\n",
      "Epoch 40/100\n",
      "11610/11610 [==============================] - 0s 40us/sample - loss: 0.2866 - accuracy: 0.0031 - val_loss: 0.3399 - val_accuracy: 0.0023\n",
      "Epoch 41/100\n",
      "11610/11610 [==============================] - 0s 31us/sample - loss: 0.2850 - accuracy: 0.0031 - val_loss: 0.3048 - val_accuracy: 0.0023\n",
      "Epoch 42/100\n",
      "11610/11610 [==============================] - 0s 30us/sample - loss: 0.2848 - accuracy: 0.0031 - val_loss: 0.3073 - val_accuracy: 0.0023\n",
      "Epoch 43/100\n",
      "11610/11610 [==============================] - 0s 31us/sample - loss: 0.2828 - accuracy: 0.0030 - val_loss: 0.3011 - val_accuracy: 0.0023\n",
      "Epoch 44/100\n",
      "11610/11610 [==============================] - 0s 31us/sample - loss: 0.2818 - accuracy: 0.0030 - val_loss: 0.3041 - val_accuracy: 0.0023\n"
     ]
    }
   ],
   "source": [
    "history = model.fit(x_train_scaled, y_train, \n",
    "                    validation_data=(x_valid_scaled, y_valid),\n",
    "                    epochs = 100, \n",
    "                    callbacks = callbacks)"
   ]
  },
  {
   "cell_type": "markdown",
   "metadata": {},
   "source": [
    "## Result visualization"
   ]
  },
  {
   "cell_type": "code",
   "execution_count": 8,
   "metadata": {},
   "outputs": [
    {
     "data": {
      "image/png": "[encoded data removed]",
      "text/plain": [
       "<Figure size 576x360 with 1 Axes>"
      ]
     },
     "metadata": {
      "needs_background": "light"
     },
     "output_type": "display_data"
    }
   ],
   "source": [
    "from tensorflow.python.keras.callbacks import History\n",
    "\n",
    "def plot_learning_curves(history: History):\n",
    "    pd.DataFrame(history.history).plot(figsize = (8, 5))\n",
    "    plt.grid(True)\n",
    "    plt.gca().set_ylim(0, 1)\n",
    "    plt.show()\n",
    "\n",
    "plot_learning_curves(history)"
   ]
  },
  {
   "cell_type": "markdown",
   "metadata": {},
   "source": [
    "## Evaluate model with test dataset"
   ]
  },
  {
   "cell_type": "code",
   "execution_count": 9,
   "metadata": {},
   "outputs": [
    {
     "name": "stdout",
     "output_type": "stream",
     "text": [
      "5160/5160 [==============================] - 0s 26us/sample - loss: 0.3118 - accuracy: 0.0033\n"
     ]
    }
   ],
   "source": [
    "test_loss, test_acc = model.evaluate(x_test_scaled, y_test)"
   ]
  },
  {
   "cell_type": "markdown",
   "metadata": {},
   "source": [
    "## Made a simple prediction on test dataset"
   ]
  },
  {
   "cell_type": "code",
   "execution_count": 26,
   "metadata": {},
   "outputs": [
    {
     "name": "stdout",
     "output_type": "stream",
     "text": [
      "3.6 [1.8960091]\n",
      "3.36 [2.3538742]\n",
      "2.699 [2.8626623]\n",
      "2.875 [2.5205355]\n",
      "5.00001 [4.9282513]\n",
      "5.00001 [4.7540374]\n",
      "1.602 [2.307542]\n",
      "0.734 [1.9518358]\n",
      "0.921 [1.106729]\n",
      "5.00001 [3.9632137]\n",
      "3.5 [1.7170655]\n",
      "2.446 [2.4003892]\n",
      "1.289 [1.0547318]\n",
      "2.636 [1.9445143]\n",
      "1.682 [1.8877268]\n",
      "1.875 [2.649747]\n",
      "0.476 [0.5106474]\n",
      "1.438 [1.2281287]\n",
      "1.752 [1.5043125]\n",
      "2.253 [2.692064]\n",
      "0.58 [0.8691]\n",
      "2.104 [2.219089]\n",
      "0.922 [0.7487239]\n",
      "5.00001 [4.512229]\n",
      "2.29 [2.227934]\n",
      "2.712 [2.358491]\n",
      "3.324 [3.4329965]\n",
      "1.403 [1.6354028]\n",
      "0.615 [0.8703749]\n",
      "2.139 [2.1389065]\n",
      "1.651 [1.384217]\n",
      "2.241 [1.6922106]\n",
      "1.522 [1.5475147]\n",
      "2.613 [2.9608574]\n",
      "2.526 [1.9265505]\n",
      "5.00001 [4.3735695]\n",
      "1.225 [1.3896776]\n",
      "2.464 [2.487222]\n",
      "1.636 [1.2399635]\n",
      "2.625 [2.9405088]\n",
      "2.398\n",
      "[3.1449316]\n"
     ]
    }
   ],
   "source": [
    "# one_hot encoded results\n",
    "predictions = model.predict(x_test_scaled)\n",
    "\n",
    "index = 40\n",
    "\n",
    "for indx in range(index):\n",
    "    print(y_test[indx], predictions[indx])"
   ]
  },
  {
   "cell_type": "code",
   "execution_count": null,
   "metadata": {},
   "outputs": [],
   "source": []
  }
 ],
 "metadata": {
  "kernelspec": {
   "display_name": "Python 3",
   "language": "python",
   "name": "python3"
  },
  "language_info": {
   "codemirror_mode": {
    "name": "ipython",
    "version": 3
   },
   "file_extension": ".py",
   "mimetype": "text/x-python",
   "name": "python",
   "nbconvert_exporter": "python",
   "pygments_lexer": "ipython3",
   "version": "3.6.7"
  }
 },
 "nbformat": 4,
 "nbformat_minor": 2
}
