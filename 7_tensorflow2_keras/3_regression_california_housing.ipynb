{
 "cells": [
  {
   "cell_type": "code",
   "execution_count": 34,
   "metadata": {},
   "outputs": [
    {
     "name": "stdout",
     "output_type": "stream",
     "text": [
      "tensorflow 2.0.0-alpha0\n",
      "matplotlib 3.1.0\n",
      "numpy 1.16.4\n",
      "pandas 0.24.2\n",
      "tensorflow.python.keras.api._v2.keras 2.2.4-tf\n"
     ]
    }
   ],
   "source": [
    "import tensorflow as tf\n",
    "import matplotlib as mpl\n",
    "import matplotlib.pyplot as plt\n",
    "%matplotlib inline\n",
    "import numpy as np\n",
    "import pandas as pd\n",
    "import os\n",
    "import sys\n",
    "import time\n",
    "from tensorflow import keras\n",
    "\n",
    "for module in (tf, mpl, np, pd, keras):\n",
    "    print(module.__name__, module.__version__)"
   ]
  },
  {
   "cell_type": "markdown",
   "metadata": {},
   "source": [
    "## Load play datasets"
   ]
  },
  {
   "cell_type": "code",
   "execution_count": 2,
   "metadata": {},
   "outputs": [
    {
     "name": "stdout",
     "output_type": "stream",
     "text": [
      ".. _california_housing_dataset:\n",
      "\n",
      "California Housing dataset\n",
      "--------------------------\n",
      "\n",
      "**Data Set Characteristics:**\n",
      "\n",
      "    :Number of Instances: 20640\n",
      "\n",
      "    :Number of Attributes: 8 numeric, predictive attributes and the target\n",
      "\n",
      "    :Attribute Information:\n",
      "        - MedInc        median income in block\n",
      "        - HouseAge      median house age in block\n",
      "        - AveRooms      average number of rooms\n",
      "        - AveBedrms     average number of bedrooms\n",
      "        - Population    block population\n",
      "        - AveOccup      average house occupancy\n",
      "        - Latitude      house block latitude\n",
      "        - Longitude     house block longitude\n",
      "\n",
      "    :Missing Attribute Values: None\n",
      "\n",
      "This dataset was obtained from the StatLib repository.\n",
      "http://lib.stat.cmu.edu/datasets/\n",
      "\n",
      "The target variable is the median house value for California districts.\n",
      "\n",
      "This dataset was derived from the 1990 U.S. census, using one row per census\n",
      "block group. A block group is the smallest geographical unit for which the U.S.\n",
      "Census Bureau publishes sample data (a block group typically has a population\n",
      "of 600 to 3,000 people).\n",
      "\n",
      "It can be downloaded/loaded using the\n",
      ":func:`sklearn.datasets.fetch_california_housing` function.\n",
      "\n",
      ".. topic:: References\n",
      "\n",
      "    - Pace, R. Kelley and Ronald Barry, Sparse Spatial Autoregressions,\n",
      "      Statistics and Probability Letters, 33 (1997) 291-297\n",
      "\n",
      "(20640, 8)\n",
      "(20640,)\n"
     ]
    }
   ],
   "source": [
    "from sklearn.datasets import fetch_california_housing\n",
    "\n",
    "housing = fetch_california_housing()\n",
    "print(housing.DESCR)\n",
    "print(housing.data.shape)\n",
    "print(housing.target.shape)\n",
    "\n",
    "import pprint\n",
    "pprint.pprint(housing.data[0])\n",
    "pprint.pprint(housing.target[0])"
   ]
  },
  {
   "cell_type": "markdown",
   "metadata": {},
   "source": [
    "## Split input data in train and test"
   ]
  },
  {
   "cell_type": "code",
   "execution_count": 10,
   "metadata": {},
   "outputs": [
    {
     "name": "stdout",
     "output_type": "stream",
     "text": [
      "(11610, 8) (11610,)\n",
      "(3870, 8) (3870,)\n",
      "(5160, 8) (5160,)\n"
     ]
    }
   ],
   "source": [
    "from sklearn.model_selection import train_test_split\n",
    "\n",
    "# by default train_test_split split data in 3: 1 -> train and test -> default param -> test_size = 0.25\n",
    "x_train_all, x_test, y_train_all, y_test = train_test_split(housing.data, housing.target, random_state = 7)\n",
    "x_train, x_valid, y_train, y_valid = train_test_split(x_train_all, y_train_all, random_state = 11)\n",
    "\n",
    "print(x_train.shape, y_train.shape)\n",
    "print(x_valid.shape, y_valid.shape)\n",
    "print(x_test.shape, y_test.shape)"
   ]
  },
  {
   "cell_type": "markdown",
   "metadata": {},
   "source": [
    "## Normalize inputdata by using Sklearn Standscalar\n",
    "\n",
    "- Z-score: x = ( x - u ) / std      (what we used for this case)\n",
    "- Min-max: x = ( x - min ) / ( max - min )"
   ]
  },
  {
   "cell_type": "code",
   "execution_count": 13,
   "metadata": {},
   "outputs": [
    {
     "name": "stdout",
     "output_type": "stream",
     "text": [
      "28566.0 -124.3\n",
      "81.80221745207753 -2.3594398206242224\n"
     ]
    }
   ],
   "source": [
    "from sklearn.preprocessing import StandardScaler\n",
    "\n",
    "# before normalization\n",
    "print(np.max(x_train), np.min(x_train))\n",
    "\n",
    "# perform normalization\n",
    "scaler = StandardScaler()\n",
    "# 1. data in x_train is int32, we need to convert them to float32 first \n",
    "# 2. convert x_train data from \n",
    "#    [None, 28, 28] -> [None, 784] \n",
    "#       -> after all reshape back to [None, 28, 28]\n",
    "x_train_scaled = scaler.fit_transform(x_train)\n",
    "x_valid_scaled = scaler.transform(x_valid)\n",
    "x_test_scaled  = scaler.transform(x_test)\n",
    "\n",
    "# after normalization\n",
    "print(np.max(x_train_scaled), np.min(x_train_scaled))"
   ]
  },
  {
   "cell_type": "markdown",
   "metadata": {},
   "source": [
    "## Build model by using tf.keras high level API"
   ]
  },
  {
   "cell_type": "code",
   "execution_count": 33,
   "metadata": {},
   "outputs": [
    {
     "name": "stdout",
     "output_type": "stream",
     "text": [
      "Model: \"sequential_7\"\n",
      "_________________________________________________________________\n",
      "Layer (type)                 Output Shape              Param #   \n",
      "=================================================================\n",
      "dense_12 (Dense)             (None, 30)                270       \n",
      "_________________________________________________________________\n",
      "dense_13 (Dense)             (None, 1)                 31        \n",
      "=================================================================\n",
      "Total params: 301\n",
      "Trainable params: 301\n",
      "Non-trainable params: 0\n",
      "_________________________________________________________________\n"
     ]
    }
   ],
   "source": [
    "model = keras.models.Sequential()\n",
    "model.add(keras.layers.Dense(30, activation = 'relu', input_shape=x_train.shape[1:]))\n",
    "model.add(keras.layers.Dense(1))\n",
    "\n",
    "model.summary()\n",
    "# mean_squared_error make model as regression\n",
    "model.compile(loss = \"mean_squared_error\", optimizer = \"sgd\", metrics = [\"accuracy\"])\n",
    "callbacks = [\n",
    "    keras.callbacks.EarlyStopping(patience = 5, min_delta = 1e-3)\n",
    "]"
   ]
  },
  {
   "cell_type": "markdown",
   "metadata": {},
   "source": [
    "## Train model with callback"
   ]
  },
  {
   "cell_type": "code",
   "execution_count": 39,
   "metadata": {},
   "outputs": [
    {
     "name": "stdout",
     "output_type": "stream",
     "text": [
      "Train on 11610 samples, validate on 3870 samples\n",
      "Epoch 1/100\n",
      "11610/11610 [==============================] - 1s 53us/sample - loss: 2.4139 - accuracy: 0.0028 - val_loss: 1.2115 - val_accuracy: 0.0023\n",
      "Epoch 2/100\n",
      "11610/11610 [==============================] - 1s 60us/sample - loss: 0.9090 - accuracy: 0.0031 - val_loss: 0.8205 - val_accuracy: 0.0023\n",
      "Epoch 3/100\n",
      "11610/11610 [==============================] - 1s 51us/sample - loss: 0.7091 - accuracy: 0.0031 - val_loss: 0.7197 - val_accuracy: 0.0023\n",
      "Epoch 4/100\n",
      "11610/11610 [==============================] - 0s 41us/sample - loss: 0.6434 - accuracy: 0.0031 - val_loss: 0.6734 - val_accuracy: 0.0023\n",
      "Epoch 5/100\n",
      "11610/11610 [==============================] - 1s 49us/sample - loss: 0.6065 - accuracy: 0.0031 - val_loss: 0.6428 - val_accuracy: 0.0023\n",
      "Epoch 6/100\n",
      "11610/11610 [==============================] - 1s 59us/sample - loss: 0.5816 - accuracy: 0.0031 - val_loss: 0.6238 - val_accuracy: 0.0023\n",
      "Epoch 7/100\n",
      "11610/11610 [==============================] - 1s 56us/sample - loss: 0.5631 - accuracy: 0.0031 - val_loss: 0.6047 - val_accuracy: 0.0023\n",
      "Epoch 8/100\n",
      "11610/11610 [==============================] - 1s 44us/sample - loss: 0.5488 - accuracy: 0.0031 - val_loss: 0.5877 - val_accuracy: 0.0023\n",
      "Epoch 9/100\n",
      "11610/11610 [==============================] - 1s 58us/sample - loss: 0.5383 - accuracy: 0.0030 - val_loss: 0.5763 - val_accuracy: 0.0023\n",
      "Epoch 10/100\n",
      "11610/11610 [==============================] - 1s 52us/sample - loss: 0.5285 - accuracy: 0.0030 - val_loss: 0.5697 - val_accuracy: 0.0023\n",
      "Epoch 11/100\n",
      "11610/11610 [==============================] - 0s 41us/sample - loss: 0.5216 - accuracy: 0.0030 - val_loss: 0.5590 - val_accuracy: 0.0023\n",
      "Epoch 12/100\n",
      "11610/11610 [==============================] - 1s 47us/sample - loss: 0.5139 - accuracy: 0.0030 - val_loss: 0.5529 - val_accuracy: 0.0023\n",
      "Epoch 13/100\n",
      "11610/11610 [==============================] - 1s 57us/sample - loss: 0.5078 - accuracy: 0.0030 - val_loss: 0.5456 - val_accuracy: 0.0023\n",
      "Epoch 14/100\n",
      "11610/11610 [==============================] - 1s 53us/sample - loss: 0.5022 - accuracy: 0.0030 - val_loss: 0.5398 - val_accuracy: 0.0023\n",
      "Epoch 15/100\n",
      "11610/11610 [==============================] - 0s 39us/sample - loss: 0.4969 - accuracy: 0.0030 - val_loss: 0.5324 - val_accuracy: 0.0023\n",
      "Epoch 16/100\n",
      "11610/11610 [==============================] - 1s 55us/sample - loss: 0.4925 - accuracy: 0.0030 - val_loss: 0.5275 - val_accuracy: 0.0023\n",
      "Epoch 17/100\n",
      "11610/11610 [==============================] - 1s 56us/sample - loss: 0.4876 - accuracy: 0.0030 - val_loss: 0.5228 - val_accuracy: 0.0023\n",
      "Epoch 18/100\n",
      "11610/11610 [==============================] - 1s 48us/sample - loss: 0.4838 - accuracy: 0.0030 - val_loss: 0.5198 - val_accuracy: 0.0023\n",
      "Epoch 19/100\n",
      "11610/11610 [==============================] - 1s 53us/sample - loss: 0.4798 - accuracy: 0.0030 - val_loss: 0.5143 - val_accuracy: 0.0023\n",
      "Epoch 20/100\n",
      "11610/11610 [==============================] - 1s 60us/sample - loss: 0.4763 - accuracy: 0.0030 - val_loss: 0.5111 - val_accuracy: 0.0023\n",
      "Epoch 21/100\n",
      "11610/11610 [==============================] - 1s 55us/sample - loss: 0.4728 - accuracy: 0.0030 - val_loss: 0.5074 - val_accuracy: 0.0023\n",
      "Epoch 22/100\n",
      "11610/11610 [==============================] - 1s 45us/sample - loss: 0.4698 - accuracy: 0.0030 - val_loss: 0.5040 - val_accuracy: 0.0023\n",
      "Epoch 23/100\n",
      "11610/11610 [==============================] - 1s 60us/sample - loss: 0.4670 - accuracy: 0.0030 - val_loss: 0.5008 - val_accuracy: 0.0023\n",
      "Epoch 24/100\n",
      "11610/11610 [==============================] - 1s 51us/sample - loss: 0.4640 - accuracy: 0.0030 - val_loss: 0.4966 - val_accuracy: 0.0023\n",
      "Epoch 25/100\n",
      "11610/11610 [==============================] - 0s 43us/sample - loss: 0.4612 - accuracy: 0.0030 - val_loss: 0.4935 - val_accuracy: 0.0023\n",
      "Epoch 26/100\n",
      "11610/11610 [==============================] - 1s 46us/sample - loss: 0.4588 - accuracy: 0.0030 - val_loss: 0.4907 - val_accuracy: 0.0023\n",
      "Epoch 27/100\n",
      "11610/11610 [==============================] - 1s 55us/sample - loss: 0.4561 - accuracy: 0.0030 - val_loss: 0.4883 - val_accuracy: 0.0023\n",
      "Epoch 28/100\n",
      "11610/11610 [==============================] - 1s 58us/sample - loss: 0.4541 - accuracy: 0.0030 - val_loss: 0.4857 - val_accuracy: 0.0023\n",
      "Epoch 29/100\n",
      "11610/11610 [==============================] - 1s 54us/sample - loss: 0.4517 - accuracy: 0.0030 - val_loss: 0.4830 - val_accuracy: 0.0023\n",
      "Epoch 30/100\n",
      "11610/11610 [==============================] - 1s 60us/sample - loss: 0.4495 - accuracy: 0.0031 - val_loss: 0.4807 - val_accuracy: 0.0023\n",
      "Epoch 31/100\n",
      "11610/11610 [==============================] - 1s 59us/sample - loss: 0.4480 - accuracy: 0.0031 - val_loss: 0.4774 - val_accuracy: 0.0023\n",
      "Epoch 32/100\n",
      "11610/11610 [==============================] - 0s 40us/sample - loss: 0.4455 - accuracy: 0.0031 - val_loss: 0.4755 - val_accuracy: 0.0023\n",
      "Epoch 33/100\n",
      "11610/11610 [==============================] - 1s 51us/sample - loss: 0.4437 - accuracy: 0.0031 - val_loss: 0.4732 - val_accuracy: 0.0023\n",
      "Epoch 34/100\n",
      "11610/11610 [==============================] - 1s 57us/sample - loss: 0.4416 - accuracy: 0.0031 - val_loss: 0.4705 - val_accuracy: 0.0023\n",
      "Epoch 35/100\n",
      "11610/11610 [==============================] - 1s 48us/sample - loss: 0.4398 - accuracy: 0.0031 - val_loss: 0.4683 - val_accuracy: 0.0023\n",
      "Epoch 36/100\n",
      "11610/11610 [==============================] - 0s 42us/sample - loss: 0.4378 - accuracy: 0.0031 - val_loss: 0.4658 - val_accuracy: 0.0023\n",
      "Epoch 37/100\n",
      "11610/11610 [==============================] - 1s 56us/sample - loss: 0.4359 - accuracy: 0.0031 - val_loss: 0.4645 - val_accuracy: 0.0023\n",
      "Epoch 38/100\n",
      "11610/11610 [==============================] - 1s 55us/sample - loss: 0.4341 - accuracy: 0.0031 - val_loss: 0.4623 - val_accuracy: 0.0023\n",
      "Epoch 39/100\n",
      "11610/11610 [==============================] - 1s 47us/sample - loss: 0.4325 - accuracy: 0.0031 - val_loss: 0.4608 - val_accuracy: 0.0023\n",
      "Epoch 40/100\n",
      "11610/11610 [==============================] - 1s 50us/sample - loss: 0.4312 - accuracy: 0.0031 - val_loss: 0.4586 - val_accuracy: 0.0023\n",
      "Epoch 41/100\n",
      "11610/11610 [==============================] - 1s 52us/sample - loss: 0.4298 - accuracy: 0.0031 - val_loss: 0.4565 - val_accuracy: 0.0023\n",
      "Epoch 42/100\n",
      "11610/11610 [==============================] - 1s 53us/sample - loss: 0.4279 - accuracy: 0.0031 - val_loss: 0.4560 - val_accuracy: 0.0023\n",
      "Epoch 43/100\n",
      "11610/11610 [==============================] - 0s 41us/sample - loss: 0.4265 - accuracy: 0.0031 - val_loss: 0.4529 - val_accuracy: 0.0023\n",
      "Epoch 44/100\n",
      "11610/11610 [==============================] - 1s 50us/sample - loss: 0.4248 - accuracy: 0.0031 - val_loss: 0.4515 - val_accuracy: 0.0023\n",
      "Epoch 45/100\n",
      "11610/11610 [==============================] - 1s 54us/sample - loss: 0.4238 - accuracy: 0.0031 - val_loss: 0.4498 - val_accuracy: 0.0023\n",
      "Epoch 46/100\n",
      "11610/11610 [==============================] - 1s 48us/sample - loss: 0.4221 - accuracy: 0.0031 - val_loss: 0.4480 - val_accuracy: 0.0023\n",
      "Epoch 47/100\n",
      "11610/11610 [==============================] - 1s 48us/sample - loss: 0.4207 - accuracy: 0.0031 - val_loss: 0.4464 - val_accuracy: 0.0023\n",
      "Epoch 48/100\n",
      "11610/11610 [==============================] - 1s 45us/sample - loss: 0.4198 - accuracy: 0.0031 - val_loss: 0.4449 - val_accuracy: 0.0023\n",
      "Epoch 49/100\n",
      "11610/11610 [==============================] - 1s 53us/sample - loss: 0.4183 - accuracy: 0.0031 - val_loss: 0.4433 - val_accuracy: 0.0023\n",
      "Epoch 50/100\n",
      "11610/11610 [==============================] - 1s 45us/sample - loss: 0.4170 - accuracy: 0.0031 - val_loss: 0.4418 - val_accuracy: 0.0023\n",
      "Epoch 51/100\n",
      "11610/11610 [==============================] - 1s 49us/sample - loss: 0.4156 - accuracy: 0.0031 - val_loss: 0.4409 - val_accuracy: 0.0023\n",
      "Epoch 52/100\n",
      "11610/11610 [==============================] - 1s 56us/sample - loss: 0.4144 - accuracy: 0.0031 - val_loss: 0.4392 - val_accuracy: 0.0023\n",
      "Epoch 53/100\n",
      "11610/11610 [==============================] - 1s 55us/sample - loss: 0.4135 - accuracy: 0.0031 - val_loss: 0.4381 - val_accuracy: 0.0023\n",
      "Epoch 54/100\n",
      "11610/11610 [==============================] - 1s 45us/sample - loss: 0.4120 - accuracy: 0.0031 - val_loss: 0.4363 - val_accuracy: 0.0023\n"
     ]
    },
    {
     "name": "stdout",
     "output_type": "stream",
     "text": [
      "Epoch 55/100\n",
      "11610/11610 [==============================] - 1s 57us/sample - loss: 0.4107 - accuracy: 0.0031 - val_loss: 0.4359 - val_accuracy: 0.0023\n",
      "Epoch 56/100\n",
      "11610/11610 [==============================] - 1s 58us/sample - loss: 0.4096 - accuracy: 0.0031 - val_loss: 0.4336 - val_accuracy: 0.0023\n",
      "Epoch 57/100\n",
      "11610/11610 [==============================] - 0s 41us/sample - loss: 0.4087 - accuracy: 0.0031 - val_loss: 0.4327 - val_accuracy: 0.0023\n",
      "Epoch 58/100\n",
      "11610/11610 [==============================] - 1s 54us/sample - loss: 0.4079 - accuracy: 0.0031 - val_loss: 0.4313 - val_accuracy: 0.0023\n",
      "Epoch 59/100\n",
      "11610/11610 [==============================] - 1s 56us/sample - loss: 0.4066 - accuracy: 0.0031 - val_loss: 0.4301 - val_accuracy: 0.0023\n",
      "Epoch 60/100\n",
      "11610/11610 [==============================] - 1s 57us/sample - loss: 0.4056 - accuracy: 0.0031 - val_loss: 0.4290 - val_accuracy: 0.0023\n",
      "Epoch 61/100\n",
      "11610/11610 [==============================] - 1s 47us/sample - loss: 0.4046 - accuracy: 0.0031 - val_loss: 0.4274 - val_accuracy: 0.0023\n",
      "Epoch 62/100\n",
      "11610/11610 [==============================] - 1s 51us/sample - loss: 0.4037 - accuracy: 0.0031 - val_loss: 0.4268 - val_accuracy: 0.0023\n",
      "Epoch 63/100\n",
      "11610/11610 [==============================] - 1s 54us/sample - loss: 0.4029 - accuracy: 0.0031 - val_loss: 0.4262 - val_accuracy: 0.0023\n",
      "Epoch 64/100\n",
      "11610/11610 [==============================] - 1s 51us/sample - loss: 0.4017 - accuracy: 0.0031 - val_loss: 0.4244 - val_accuracy: 0.0023\n",
      "Epoch 65/100\n",
      "11610/11610 [==============================] - 1s 50us/sample - loss: 0.4009 - accuracy: 0.0031 - val_loss: 0.4240 - val_accuracy: 0.0023\n",
      "Epoch 66/100\n",
      "11610/11610 [==============================] - 1s 56us/sample - loss: 0.4004 - accuracy: 0.0031 - val_loss: 0.4220 - val_accuracy: 0.0023\n",
      "Epoch 67/100\n",
      "11610/11610 [==============================] - 1s 53us/sample - loss: 0.3996 - accuracy: 0.0031 - val_loss: 0.4210 - val_accuracy: 0.0023\n",
      "Epoch 68/100\n",
      "11610/11610 [==============================] - 0s 41us/sample - loss: 0.3986 - accuracy: 0.0031 - val_loss: 0.4203 - val_accuracy: 0.0023\n",
      "Epoch 69/100\n",
      "11610/11610 [==============================] - 1s 62us/sample - loss: 0.3975 - accuracy: 0.0031 - val_loss: 0.4197 - val_accuracy: 0.0023\n",
      "Epoch 70/100\n",
      "11610/11610 [==============================] - 1s 60us/sample - loss: 0.3968 - accuracy: 0.0031 - val_loss: 0.4185 - val_accuracy: 0.0023\n",
      "Epoch 71/100\n",
      "11610/11610 [==============================] - 0s 41us/sample - loss: 0.3960 - accuracy: 0.0031 - val_loss: 0.4177 - val_accuracy: 0.0023\n",
      "Epoch 72/100\n",
      "11610/11610 [==============================] - 1s 55us/sample - loss: 0.3952 - accuracy: 0.0031 - val_loss: 0.4162 - val_accuracy: 0.0023\n",
      "Epoch 73/100\n",
      "11610/11610 [==============================] - 1s 51us/sample - loss: 0.3947 - accuracy: 0.0031 - val_loss: 0.4153 - val_accuracy: 0.0023\n",
      "Epoch 74/100\n",
      "11610/11610 [==============================] - 1s 54us/sample - loss: 0.3936 - accuracy: 0.0031 - val_loss: 0.4143 - val_accuracy: 0.0023\n",
      "Epoch 75/100\n",
      "11610/11610 [==============================] - 1s 45us/sample - loss: 0.3929 - accuracy: 0.0031 - val_loss: 0.4140 - val_accuracy: 0.0023\n",
      "Epoch 76/100\n",
      "11610/11610 [==============================] - 1s 57us/sample - loss: 0.3919 - accuracy: 0.0031 - val_loss: 0.4128 - val_accuracy: 0.0023\n",
      "Epoch 77/100\n",
      "11610/11610 [==============================] - 1s 51us/sample - loss: 0.3920 - accuracy: 0.0031 - val_loss: 0.4118 - val_accuracy: 0.0023\n",
      "Epoch 78/100\n",
      "11610/11610 [==============================] - 1s 47us/sample - loss: 0.3912 - accuracy: 0.0031 - val_loss: 0.4107 - val_accuracy: 0.0023\n",
      "Epoch 79/100\n",
      "11610/11610 [==============================] - 1s 49us/sample - loss: 0.3904 - accuracy: 0.0031 - val_loss: 0.4107 - val_accuracy: 0.0023\n",
      "Epoch 80/100\n",
      "11610/11610 [==============================] - 1s 56us/sample - loss: 0.3893 - accuracy: 0.0031 - val_loss: 0.4104 - val_accuracy: 0.0023\n",
      "Epoch 81/100\n",
      "11610/11610 [==============================] - 1s 57us/sample - loss: 0.3892 - accuracy: 0.0031 - val_loss: 0.4090 - val_accuracy: 0.0023\n",
      "Epoch 82/100\n",
      "11610/11610 [==============================] - 0s 40us/sample - loss: 0.3882 - accuracy: 0.0031 - val_loss: 0.4080 - val_accuracy: 0.0023\n",
      "Epoch 83/100\n",
      "11610/11610 [==============================] - 1s 53us/sample - loss: 0.3873 - accuracy: 0.0031 - val_loss: 0.4081 - val_accuracy: 0.0023\n",
      "Epoch 84/100\n",
      "11610/11610 [==============================] - 1s 54us/sample - loss: 0.3871 - accuracy: 0.0031 - val_loss: 0.4068 - val_accuracy: 0.0023\n",
      "Epoch 85/100\n",
      "11610/11610 [==============================] - 0s 40us/sample - loss: 0.3860 - accuracy: 0.0031 - val_loss: 0.4067 - val_accuracy: 0.0023\n",
      "Epoch 86/100\n",
      "11610/11610 [==============================] - 0s 41us/sample - loss: 0.3860 - accuracy: 0.0031 - val_loss: 0.4055 - val_accuracy: 0.0023\n",
      "Epoch 87/100\n",
      "11610/11610 [==============================] - 1s 50us/sample - loss: 0.3850 - accuracy: 0.0031 - val_loss: 0.4044 - val_accuracy: 0.0023\n",
      "Epoch 88/100\n",
      "11610/11610 [==============================] - 1s 52us/sample - loss: 0.3847 - accuracy: 0.0031 - val_loss: 0.4039 - val_accuracy: 0.0023\n",
      "Epoch 89/100\n",
      "11610/11610 [==============================] - 0s 41us/sample - loss: 0.3838 - accuracy: 0.0031 - val_loss: 0.4028 - val_accuracy: 0.0023\n",
      "Epoch 90/100\n",
      "11610/11610 [==============================] - 1s 50us/sample - loss: 0.3834 - accuracy: 0.0031 - val_loss: 0.4027 - val_accuracy: 0.0023\n",
      "Epoch 91/100\n",
      "11610/11610 [==============================] - 1s 58us/sample - loss: 0.3828 - accuracy: 0.0031 - val_loss: 0.4016 - val_accuracy: 0.0023\n",
      "Epoch 92/100\n",
      "11610/11610 [==============================] - 1s 52us/sample - loss: 0.3821 - accuracy: 0.0031 - val_loss: 0.4013 - val_accuracy: 0.0023\n",
      "Epoch 93/100\n",
      "11610/11610 [==============================] - 1s 43us/sample - loss: 0.3817 - accuracy: 0.0031 - val_loss: 0.4003 - val_accuracy: 0.0023\n",
      "Epoch 94/100\n",
      "11610/11610 [==============================] - 1s 50us/sample - loss: 0.3815 - accuracy: 0.0031 - val_loss: 0.4001 - val_accuracy: 0.0023\n",
      "Epoch 95/100\n",
      "11610/11610 [==============================] - 1s 56us/sample - loss: 0.3806 - accuracy: 0.0031 - val_loss: 0.4007 - val_accuracy: 0.0023\n",
      "Epoch 96/100\n",
      "11610/11610 [==============================] - 1s 49us/sample - loss: 0.3801 - accuracy: 0.0031 - val_loss: 0.3981 - val_accuracy: 0.0023\n",
      "Epoch 97/100\n",
      "11610/11610 [==============================] - 0s 41us/sample - loss: 0.3795 - accuracy: 0.0031 - val_loss: 0.3981 - val_accuracy: 0.0023\n",
      "Epoch 98/100\n",
      "11610/11610 [==============================] - 1s 57us/sample - loss: 0.3791 - accuracy: 0.0031 - val_loss: 0.3979 - val_accuracy: 0.0023\n",
      "Epoch 99/100\n",
      "11610/11610 [==============================] - 1s 57us/sample - loss: 0.3789 - accuracy: 0.0031 - val_loss: 0.3963 - val_accuracy: 0.0023\n",
      "Epoch 100/100\n",
      "11610/11610 [==============================] - 0s 39us/sample - loss: 0.3786 - accuracy: 0.0031 - val_loss: 0.3960 - val_accuracy: 0.0023\n"
     ]
    }
   ],
   "source": [
    "history = model.fit(x_train_scaled, y_train, \n",
    "                    validation_data=(x_valid_scaled, y_valid),\n",
    "                    epochs = 100, \n",
    "                    callbacks = callbacks)"
   ]
  },
  {
   "cell_type": "markdown",
   "metadata": {},
   "source": [
    "## Result visualization"
   ]
  },
  {
   "cell_type": "code",
   "execution_count": 40,
   "metadata": {},
   "outputs": [
    {
     "data": {
      "image/png": "[encoded data removed]",
      "text/plain": [
       "<Figure size 576x360 with 1 Axes>"
      ]
     },
     "metadata": {
      "needs_background": "light"
     },
     "output_type": "display_data"
    }
   ],
   "source": [
    "from tensorflow.python.keras.callbacks import History\n",
    "\n",
    "def plot_learning_curves(history: History):\n",
    "    pd.DataFrame(history.history).plot(figsize = (8, 5))\n",
    "    plt.grid(True)\n",
    "    plt.gca().set_ylim(0, 1)\n",
    "    plt.show()\n",
    "\n",
    "plot_learning_curves(history)"
   ]
  },
  {
   "cell_type": "markdown",
   "metadata": {},
   "source": [
    "## Evaluate model with test dataset"
   ]
  },
  {
   "cell_type": "code",
   "execution_count": 41,
   "metadata": {},
   "outputs": [
    {
     "name": "stdout",
     "output_type": "stream",
     "text": [
      "5160/5160 [==============================] - 0s 24us/sample - loss: 0.3972 - accuracy: 0.0033\n"
     ]
    }
   ],
   "source": [
    "test_loss, test_acc = model.evaluate(x_test_scaled, y_test)"
   ]
  },
  {
   "cell_type": "markdown",
   "metadata": {},
   "source": [
    "## Made a simple prediction on test dataset"
   ]
  },
  {
   "cell_type": "code",
   "execution_count": 42,
   "metadata": {},
   "outputs": [
    {
     "name": "stdout",
     "output_type": "stream",
     "text": [
      "[ 2.02780000e+00  3.10000000e+01  2.84692850e+00  1.09164149e+00\n",
      "  3.10700000e+03  3.12890232e+00  3.40600000e+01 -1.18310000e+02]\n",
      "3.6\n",
      "[270.1904]\n"
     ]
    }
   ],
   "source": [
    "# one_hot encoded results\n",
    "predictions = model.predict(x_test)\n",
    "\n",
    "print(x_test[0])\n",
    "print(y_test[0])\n",
    "print(predictions[0])"
   ]
  }
 ],
 "metadata": {
  "kernelspec": {
   "display_name": "Python 3",
   "language": "python",
   "name": "python3"
  },
  "language_info": {
   "codemirror_mode": {
    "name": "ipython",
    "version": 3
   },
   "file_extension": ".py",
   "mimetype": "text/x-python",
   "name": "python",
   "nbconvert_exporter": "python",
   "pygments_lexer": "ipython3",
   "version": "3.6.4"
  }
 },
 "nbformat": 4,
 "nbformat_minor": 2
}
