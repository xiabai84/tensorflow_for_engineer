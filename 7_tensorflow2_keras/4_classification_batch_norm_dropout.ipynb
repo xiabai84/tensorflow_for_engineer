{
 "cells": [
  {
   "cell_type": "code",
   "execution_count": 1,
   "metadata": {
    "pycharm": {
     "is_executing": false
    }
   },
   "outputs": [
    {
     "name": "stdout",
     "text": [
      "tensorflow 2.0.0-beta1\nmatplotlib 3.1.0\nnumpy 1.16.4\npandas 0.24.2\ntensorflow.python.keras.api._v2.keras 2.2.4-tf\n"
     ],
     "output_type": "stream"
    }
   ],
   "source": [
    "import tensorflow as tf\n",
    "import matplotlib as mpl\n",
    "import matplotlib.pyplot as plt\n",
    "%matplotlib inline\n",
    "import numpy as np\n",
    "import pandas as pd\n",
    "import os\n",
    "from tensorflow import keras\n",
    "\n",
    "for module in (tf, mpl, np, pd, keras):\n",
    "    print(module.__name__, module.__version__)"
   ]
  },
  {
   "cell_type": "markdown",
   "metadata": {},
   "source": [
    "## Load play datasets"
   ]
  },
  {
   "cell_type": "code",
   "execution_count": 2,
   "metadata": {},
   "outputs": [
    {
     "name": "stdout",
     "output_type": "stream",
     "text": [
      "(5000, 28, 28) (5000,)\n",
      "(55000, 28, 28) (55000,)\n",
      "(10000, 28, 28) (10000,)\n"
     ]
    }
   ],
   "source": [
    "fashion_mnist = keras.datasets.fashion_mnist\n",
    "(x_train_all, y_train_all), (x_test, y_test) = fashion_mnist.load_data()\n",
    "x_valid, x_train = x_train_all[:5000], x_train_all[5000:]\n",
    "y_valid, y_train = y_train_all[:5000], y_train_all[5000:]\n",
    "\n",
    "print(x_valid.shape, y_valid.shape)\n",
    "print(x_train.shape, y_train.shape)\n",
    "print(x_test.shape, y_test.shape)"
   ]
  },
  {
   "cell_type": "markdown",
   "metadata": {},
   "source": [
    "## Normalize inputdata by using Sklearn Standscalar\n",
    "\n",
    "- made x = (x - u) / std"
   ]
  },
  {
   "cell_type": "code",
   "execution_count": 3,
   "metadata": {},
   "outputs": [
    {
     "name": "stdout",
     "output_type": "stream",
     "text": [
      "255 0\n",
      "2.0231433 -0.8105136\n"
     ]
    }
   ],
   "source": [
    "from sklearn.preprocessing import StandardScaler\n",
    "\n",
    "# before normalization\n",
    "print(np.max(x_train), np.min(x_train))\n",
    "\n",
    "# perform normalization\n",
    "scaler = StandardScaler()\n",
    "# 1. data in x_train is int32, we need to convert them to float32 first \n",
    "# 2. convert x_train data from \n",
    "#    [None, 28, 28] -> [None, 784] \n",
    "#       -> after all reshape back to [None, 28, 28]\n",
    "x_train_scaled = scaler.fit_transform(x_train.astype(np.float32).reshape(-1, 1)).reshape(-1, 28, 28)\n",
    "x_valid_scaled = scaler.transform(x_valid.astype(np.float32).reshape(-1, 1)).reshape(-1, 28, 28)\n",
    "x_test_scaled  = scaler.transform(x_test.astype(np.float32).reshape(-1, 1)).reshape(-1, 28, 28)\n",
    "\n",
    "# after normalization\n",
    "print(np.max(x_train_scaled), np.min(x_train_scaled))"
   ]
  },
  {
   "cell_type": "markdown",
   "metadata": {},
   "source": [
    "## Build model with BatchNormalization and Dropout by using tf.keras high level API\n",
    "<br>\n",
    "Use keras.layers.BatchNormalization() between to net layers to enable batch normalize data.\n",
    "\n",
    "### How\n",
    "In general there are two ways to implement batch normalization\n",
    "1. direct after convolutional layer (after activation function)\n",
    "2. before convolutional layer add a additional layer then batch normalization and explicit activation (keras.layers.Activation) is added behind batch normalization\n",
    "<br>\n",
    "\n",
    "In order to avoid overfiting problem, is dropout often used in the last few layers. For example you can add 2 - 4 Dropout from 20 layers to reduce training parameters. There are two common Dropout API:\n",
    "1. keras.layers.Dropout  -> normal dropout could change the distribution of dataset\n",
    "2. keras.layers.AlphaDropout -> a enhanced version of Dropout with following features...\n",
    "<br>\n",
    "    2.1 AlphaDroupout will keep standard deviation and standard variance\n",
    "    <br>\n",
    "    2.2 Cause of keeping std-dev and std-var after Dropout. You can combine some operations together alpha-dropout, batch-normalization and activation-function\n",
    "    <br>\n",
    "    2.3 It is recommended to set dropout rate to 0.5\n"
   ]
  },
  {
   "cell_type": "code",
   "execution_count": 4,
   "metadata": {},
   "outputs": [],
   "source": [
    "model = keras.models.Sequential()\n",
    "model.add(keras.layers.Flatten(input_shape = [28, 28]))\n",
    "\n",
    "for _ in range(10):\n",
    "    model.add(keras.layers.Dense(100, activation = \"relu\"))\n",
    "    model.add(keras.layers.BatchNormalization())\n",
    "    '''\n",
    "    model.add(keras.layers.Dense(100))\n",
    "    model.add(keras.layers.BatchNormalization())\n",
    "    model.add(keras.layers.Activation(activation = \"relu\"))\n",
    "    '''\n",
    "model.add(keras.layers.AlphaDropout(rate = 0.5))\n",
    "model.add(keras.layers.Dense(10, activation = \"softmax\"))\n",
    "\n",
    "# if y is one_hot vector then use categorical_crossentropy as loss function\n",
    "model.compile(loss = \"sparse_categorical_crossentropy\",\n",
    "              optimizer = \"sgd\",\n",
    "              metrics = [\"accuracy\"])"
   ]
  },
  {
   "cell_type": "markdown",
   "metadata": {},
   "source": [
    "## Train model with callback"
   ]
  },
  {
   "cell_type": "code",
   "execution_count": 5,
   "metadata": {},
   "outputs": [
    {
     "name": "stderr",
     "output_type": "stream",
     "text": [
      "WARNING: Logging before flag parsing goes to stderr.\n",
      "W0703 09:44:00.609814 140315510544192 deprecation.py:323] From /home/bai/.virtualenvs/tensorflow2/lib/python3.6/site-packages/tensorflow/python/ops/math_grad.py:1250: add_dispatch_support.<locals>.wrapper (from tensorflow.python.ops.array_ops) is deprecated and will be removed in a future version.\n",
      "Instructions for updating:\n",
      "Use tf.where in 2.0, which has the same broadcast rule as np.where\n"
     ]
    },
    {
     "name": "stdout",
     "output_type": "stream",
     "text": [
      "Train on 55000 samples, validate on 5000 samples\n",
      "Epoch 1/10\n",
      "55000/55000 [==============================] - 8s 153us/sample - loss: 1.1005 - accuracy: 0.6430 - val_loss: 0.6294 - val_accuracy: 0.8222\n",
      "Epoch 2/10\n",
      "55000/55000 [==============================] - 6s 111us/sample - loss: 0.6956 - accuracy: 0.7771 - val_loss: 0.6000 - val_accuracy: 0.8464\n",
      "Epoch 3/10\n",
      "55000/55000 [==============================] - 6s 114us/sample - loss: 0.6029 - accuracy: 0.8083 - val_loss: 0.5662 - val_accuracy: 0.8574\n",
      "Epoch 4/10\n",
      "55000/55000 [==============================] - 6s 117us/sample - loss: 0.5463 - accuracy: 0.8244 - val_loss: 0.5289 - val_accuracy: 0.8698\n",
      "Epoch 5/10\n",
      "55000/55000 [==============================] - 8s 139us/sample - loss: 0.5007 - accuracy: 0.8383 - val_loss: 0.5406 - val_accuracy: 0.8686\n",
      "Epoch 6/10\n",
      "55000/55000 [==============================] - 7s 132us/sample - loss: 0.4751 - accuracy: 0.8460 - val_loss: 0.5336 - val_accuracy: 0.8738\n",
      "Epoch 7/10\n",
      "55000/55000 [==============================] - 7s 125us/sample - loss: 0.4504 - accuracy: 0.8529 - val_loss: 0.4690 - val_accuracy: 0.8800\n",
      "Epoch 8/10\n",
      "55000/55000 [==============================] - 6s 116us/sample - loss: 0.4282 - accuracy: 0.8588 - val_loss: 0.5131 - val_accuracy: 0.8788\n",
      "Epoch 9/10\n",
      "55000/55000 [==============================] - 6s 116us/sample - loss: 0.4155 - accuracy: 0.8630 - val_loss: 0.5181 - val_accuracy: 0.8716\n",
      "Epoch 10/10\n",
      "55000/55000 [==============================] - 7s 125us/sample - loss: 0.4032 - accuracy: 0.8664 - val_loss: 0.5028 - val_accuracy: 0.8828\n"
     ]
    }
   ],
   "source": [
    "# Tensorboard, EarlyStopping, ModelCheckPoint\n",
    "# https://www.tensorflow.org/versions/r2.0/api_docs/python/tf/keras/callbacks\n",
    "\n",
    "logdir = './dnn_batch_norm_dropout' # logdir for tensorboard logdata\n",
    "if not os.path.exists(logdir):\n",
    "    os.mkdir(logdir)\n",
    "output_model_file = os.path.join(logdir, \"fashion_mnist_model.h5\")    \n",
    "\n",
    "callbacks = [\n",
    "    keras.callbacks.TensorBoard(log_dir=logdir),\n",
    "    keras.callbacks.ModelCheckpoint(output_model_file, save_best_only = True),\n",
    "    keras.callbacks.EarlyStopping(patience = 5, min_delta = 1e-3)\n",
    "]\n",
    "\n",
    "history = model.fit(x = x_train_scaled, y = y_train, epochs = 10, \n",
    "                    validation_data = (x_valid_scaled, y_valid),\n",
    "                    callbacks = callbacks)\n",
    "\n",
    "# once training is finished, you can use tensorboard to visualize results\n",
    "# tensorboard --logdir=callbacks"
   ]
  },
  {
   "cell_type": "markdown",
   "metadata": {},
   "source": [
    "## Result visualization"
   ]
  },
  {
   "cell_type": "code",
   "execution_count": 6,
   "metadata": {},
   "outputs": [
    {
     "data": {
      "image/png": "[encoded data removed]",
      "text/plain": [
       "<Figure size 576x360 with 1 Axes>"
      ]
     },
     "metadata": {
      "needs_background": "light"
     },
     "output_type": "display_data"
    }
   ],
   "source": [
    "from tensorflow.python.keras.callbacks import History\n",
    "\n",
    "def plot_learning_curves(history: History):\n",
    "    pd.DataFrame(history.history).plot(figsize = (8, 5))\n",
    "    plt.grid(True)\n",
    "    plt.gca().set_ylim(0, 1)\n",
    "    plt.show()\n",
    "\n",
    "plot_learning_curves(history)"
   ]
  },
  {
   "cell_type": "markdown",
   "metadata": {},
   "source": [
    "## Evaluate model with test dataset"
   ]
  },
  {
   "cell_type": "code",
   "execution_count": 7,
   "metadata": {},
   "outputs": [
    {
     "name": "stdout",
     "output_type": "stream",
     "text": [
      "10000/10000 [==============================] - 1s 67us/sample - loss: 0.5558 - accuracy: 0.8699\n"
     ]
    }
   ],
   "source": [
    "test_loss, test_acc = model.evaluate(x_test_scaled, y_test)"
   ]
  },
  {
   "cell_type": "markdown",
   "metadata": {},
   "source": [
    "## Made a simple prediction on test dataset"
   ]
  },
  {
   "cell_type": "code",
   "execution_count": 9,
   "metadata": {},
   "outputs": [
    {
     "name": "stdout",
     "output_type": "stream",
     "text": [
      "0 9\n",
      "2 2\n",
      "6 1\n",
      "6 1\n",
      "6 6\n",
      "6 1\n",
      "4 4\n",
      "4 6\n",
      "1 5\n",
      "8 7\n",
      "6 4\n",
      "6 5\n",
      "3 7\n",
      "3 3\n",
      "2 4\n",
      "6 1\n",
      "2 2\n",
      "2 4\n",
      "6 8\n",
      "0 0\n"
     ]
    }
   ],
   "source": [
    "# one_hot encoded results\n",
    "predictions = model.predict(x_test)\n",
    "\n",
    "# compare ml-prediction to test label\n",
    "for pred_index in range(20):\n",
    "    print(np.argmax(predictions[pred_index]), y_test[pred_index])"
   ]
  },
  {
   "cell_type": "code",
   "execution_count": null,
   "metadata": {},
   "outputs": [],
   "source": []
  }
 ],
 "metadata": {
  "kernelspec": {
   "display_name": "Python 3",
   "language": "python",
   "name": "python3"
  },
  "language_info": {
   "codemirror_mode": {
    "name": "ipython",
    "version": 3
   },
   "file_extension": ".py",
   "mimetype": "text/x-python",
   "name": "python",
   "nbconvert_exporter": "python",
   "pygments_lexer": "ipython3",
   "version": "3.6.7"
  },
  "pycharm": {
   "stem_cell": {
    "cell_type": "raw",
    "metadata": {
     "collapsed": false
    },
    "source": []
   }
  }
 },
 "nbformat": 4,
 "nbformat_minor": 2
}