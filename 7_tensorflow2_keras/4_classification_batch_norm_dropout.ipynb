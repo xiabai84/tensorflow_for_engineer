{
 "cells": [
  {
   "cell_type": "code",
   "execution_count": 5,
   "metadata": {},
   "outputs": [
    {
     "name": "stdout",
     "output_type": "stream",
     "text": [
      "tensorflow 2.0.0-beta1\n",
      "matplotlib 3.1.0\n",
      "numpy 1.16.4\n",
      "pandas 0.24.2\n",
      "tensorflow.python.keras.api._v2.keras 2.2.4-tf\n"
     ]
    }
   ],
   "source": [
    "import tensorflow as tf\n",
    "import matplotlib as mpl\n",
    "import matplotlib.pyplot as plt\n",
    "%matplotlib inline\n",
    "import numpy as np\n",
    "import pandas as pd\n",
    "import os\n",
    "import sys\n",
    "import time\n",
    "from tensorflow import keras\n",
    "\n",
    "for module in (tf, mpl, np, pd, keras):\n",
    "    print(module.__name__, module.__version__)"
   ]
  },
  {
   "cell_type": "markdown",
   "metadata": {},
   "source": [
    "## Load play datasets"
   ]
  },
  {
   "cell_type": "code",
   "execution_count": 6,
   "metadata": {},
   "outputs": [
    {
     "name": "stdout",
     "output_type": "stream",
     "text": [
      "(5000, 28, 28) (5000,)\n",
      "(55000, 28, 28) (55000,)\n",
      "(10000, 28, 28) (10000,)\n"
     ]
    }
   ],
   "source": [
    "fashion_mnist = keras.datasets.fashion_mnist\n",
    "(x_train_all, y_train_all), (x_test, y_test) = fashion_mnist.load_data()\n",
    "x_valid, x_train = x_train_all[:5000], x_train_all[5000:]\n",
    "y_valid, y_train = y_train_all[:5000], y_train_all[5000:]\n",
    "\n",
    "print(x_valid.shape, y_valid.shape)\n",
    "print(x_train.shape, y_train.shape)\n",
    "print(x_test.shape, y_test.shape)"
   ]
  },
  {
   "cell_type": "markdown",
   "metadata": {},
   "source": [
    "## Normalize inputdata by using Sklearn Standscalar\n",
    "\n",
    "- made x = (x - u) / std"
   ]
  },
  {
   "cell_type": "code",
   "execution_count": 7,
   "metadata": {},
   "outputs": [
    {
     "name": "stdout",
     "output_type": "stream",
     "text": [
      "255 0\n",
      "2.0231433 -0.8105136\n"
     ]
    }
   ],
   "source": [
    "from sklearn.preprocessing import StandardScaler\n",
    "\n",
    "# before normalization\n",
    "print(np.max(x_train), np.min(x_train))\n",
    "\n",
    "# perform normalization\n",
    "scaler = StandardScaler()\n",
    "# 1. data in x_train is int32, we need to convert them to float32 first \n",
    "# 2. convert x_train data from \n",
    "#    [None, 28, 28] -> [None, 784] \n",
    "#       -> after all reshape back to [None, 28, 28]\n",
    "x_train_scaled = scaler.fit_transform(x_train.astype(np.float32).reshape(-1, 1)).reshape(-1, 28, 28)\n",
    "x_valid_scaled = scaler.transform(x_valid.astype(np.float32).reshape(-1, 1)).reshape(-1, 28, 28)\n",
    "x_test_scaled  = scaler.transform(x_test.astype(np.float32).reshape(-1, 1)).reshape(-1, 28, 28)\n",
    "\n",
    "# after normalization\n",
    "print(np.max(x_train_scaled), np.min(x_train_scaled))"
   ]
  },
  {
   "cell_type": "markdown",
   "metadata": {},
   "source": [
    "## Build model with BatchNormalization and Dropout by using tf.keras high level API\n",
    "<br>\n",
    "Use keras.layers.BatchNormalization() between to net layers to enable batch normalize data.\n",
    "\n",
    "### How\n",
    "In general there are two ways to implement batch normalization\n",
    "1. direct after convolutional layer (after activation function)\n",
    "2. before convolutional layer add a additional layer then batch normlization and explizit activation (keras.layers.Activation) is added behind batch normalization\n",
    "<br>\n",
    "\n",
    "In order to avoid overfiting problem, is Dropout often used in the last few layers. For example you can add 2 - 4 Dropout from 20 layers to reduce training parameters. There are to common Dropout API:\n",
    "1. keras.layers.Dropout  -> normal Dropout could change the distribution of dataset\n",
    "2. keras.layers.AlphaDropout -> a enhanced version of Dropout with following features...\n",
    "<br>\n",
    "    2.1 AlphaDroupout will keep standard deviation and starnard variance\n",
    "    <br>\n",
    "    2.2 Cause of keeping of std-dev and std-var after Dropout. You can combine operations together with AlphaDropout, batch-normalization and activation-function\n",
    "    <br>\n",
    "    2.3 It is recommended to set dropout rate to 0.5\n"
   ]
  },
  {
   "cell_type": "code",
   "execution_count": 9,
   "metadata": {},
   "outputs": [],
   "source": [
    "model = keras.models.Sequential()\n",
    "model.add(keras.layers.Flatten(input_shape = [28, 28]))\n",
    "\n",
    "for _ in range(10):\n",
    "    model.add(keras.layers.Dense(100, activation = \"relu\"))\n",
    "    model.add(keras.layers.BatchNormalization())\n",
    "    '''\n",
    "    model.add(keras.layers.Dense(100))\n",
    "    model.add(keras.layers.BatchNormalization())\n",
    "    model.add(keras.layers.Activation(activation = \"relu\"))\n",
    "    '''\n",
    "model.add(keras.layers.AlphaDropout(rate = 0.5))\n",
    "model.add(keras.layers.Dense(10, activation = \"softmax\"))\n",
    "\n",
    "# if y is one_hot vector then use categorical_crossentropy as loss function\n",
    "model.compile(loss = \"sparse_categorical_crossentropy\",\n",
    "              optimizer = \"sgd\",\n",
    "              metrics = [\"accuracy\"])"
   ]
  },
  {
   "cell_type": "markdown",
   "metadata": {},
   "source": [
    "## Train model with callback"
   ]
  },
  {
   "cell_type": "code",
   "execution_count": 11,
   "metadata": {},
   "outputs": [
    {
     "name": "stdout",
     "output_type": "stream",
     "text": [
      "Train on 55000 samples, validate on 5000 samples\n",
      "Epoch 1/10\n",
      "55000/55000 [==============================] - 7s 127us/sample - loss: 0.3921 - accuracy: 0.8685 - val_loss: 0.5332 - val_accuracy: 0.8804\n",
      "Epoch 2/10\n",
      "55000/55000 [==============================] - 6s 117us/sample - loss: 0.3769 - accuracy: 0.8740 - val_loss: 0.5038 - val_accuracy: 0.8860\n",
      "Epoch 3/10\n",
      "55000/55000 [==============================] - 7s 119us/sample - loss: 0.3663 - accuracy: 0.8778 - val_loss: 0.4955 - val_accuracy: 0.8888\n",
      "Epoch 4/10\n",
      "55000/55000 [==============================] - 7s 126us/sample - loss: 0.3579 - accuracy: 0.8797 - val_loss: 0.5041 - val_accuracy: 0.8878\n",
      "Epoch 5/10\n",
      "55000/55000 [==============================] - 7s 130us/sample - loss: 0.3464 - accuracy: 0.8831 - val_loss: 0.5038 - val_accuracy: 0.8834\n",
      "Epoch 6/10\n",
      "55000/55000 [==============================] - 8s 149us/sample - loss: 0.3393 - accuracy: 0.8833 - val_loss: 0.5193 - val_accuracy: 0.8854\n",
      "Epoch 7/10\n",
      "55000/55000 [==============================] - 8s 152us/sample - loss: 0.3345 - accuracy: 0.8848 - val_loss: 0.5009 - val_accuracy: 0.8840\n",
      "Epoch 8/10\n",
      "55000/55000 [==============================] - 10s 178us/sample - loss: 0.3290 - accuracy: 0.8876 - val_loss: 0.4750 - val_accuracy: 0.8878\n",
      "Epoch 9/10\n",
      "55000/55000 [==============================] - 8s 151us/sample - loss: 0.3230 - accuracy: 0.8893 - val_loss: 0.5033 - val_accuracy: 0.8812\n",
      "Epoch 10/10\n",
      "55000/55000 [==============================] - 9s 165us/sample - loss: 0.3092 - accuracy: 0.8919 - val_loss: 0.5039 - val_accuracy: 0.8862\n"
     ]
    }
   ],
   "source": [
    "# Tensorboard, EarlyStopping, ModelCheckPoint\n",
    "# https://www.tensorflow.org/versions/r2.0/api_docs/python/tf/keras/callbacks\n",
    "\n",
    "logdir = './dnn_batch_norm_dropout' # logdir for tensorboard logdata\n",
    "if not os.path.exists(logdir):\n",
    "    os.mkdir(logdir)\n",
    "output_model_file = os.path.join(logdir, \"fashion_mnist_model.h5\")    \n",
    "\n",
    "callbacks = [\n",
    "    keras.callbacks.TensorBoard(log_dir=logdir),\n",
    "    keras.callbacks.ModelCheckpoint(output_model_file, save_best_only = True),\n",
    "    keras.callbacks.EarlyStopping(patience = 5, min_delta = 1e-3)\n",
    "]\n",
    "\n",
    "history = model.fit(x = x_train_scaled, y = y_train, epochs = 10, \n",
    "                    validation_data = (x_valid_scaled, y_valid),\n",
    "                    callbacks = callbacks)\n",
    "\n",
    "# once training is finished, you can use tensorboard to visualize results\n",
    "# tensorboard --logdir=callbacks"
   ]
  },
  {
   "cell_type": "markdown",
   "metadata": {},
   "source": [
    "## Result visualization"
   ]
  },
  {
   "cell_type": "code",
   "execution_count": 12,
   "metadata": {},
   "outputs": [
    {
     "data": {
      "image/png": "[encoded data removed]",
      "text/plain": [
       "<Figure size 576x360 with 1 Axes>"
      ]
     },
     "metadata": {
      "needs_background": "light"
     },
     "output_type": "display_data"
    }
   ],
   "source": [
    "from tensorflow.python.keras.callbacks import History\n",
    "\n",
    "def plot_learning_curves(history: History):\n",
    "    pd.DataFrame(history.history).plot(figsize = (8, 5))\n",
    "    plt.grid(True)\n",
    "    plt.gca().set_ylim(0, 1)\n",
    "    plt.show()\n",
    "\n",
    "plot_learning_curves(history)"
   ]
  },
  {
   "cell_type": "markdown",
   "metadata": {},
   "source": [
    "## Evaluate model with test dataset"
   ]
  },
  {
   "cell_type": "code",
   "execution_count": 13,
   "metadata": {},
   "outputs": [
    {
     "name": "stdout",
     "output_type": "stream",
     "text": [
      "10000/10000 [==============================] - 1s 73us/sample - loss: 0.5782 - accuracy: 0.8780\n"
     ]
    }
   ],
   "source": [
    "test_loss, test_acc = model.evaluate(x_test_scaled, y_test)"
   ]
  },
  {
   "cell_type": "markdown",
   "metadata": {},
   "source": [
    "## Made a simple prediction on test dataset"
   ]
  },
  {
   "cell_type": "code",
   "execution_count": 17,
   "metadata": {},
   "outputs": [
    {
     "name": "stdout",
     "output_type": "stream",
     "text": [
      "8 9\n",
      "2 2\n",
      "1 1\n",
      "1 1\n",
      "2 6\n",
      "1 1\n",
      "1 4\n",
      "4 6\n",
      "8 5\n",
      "7 7\n",
      "4 4\n",
      "1 5\n",
      "8 7\n",
      "3 3\n",
      "4 4\n",
      "1 1\n",
      "2 2\n",
      "4 4\n",
      "8 8\n",
      "0 0\n"
     ]
    }
   ],
   "source": [
    "# one_hot encoded results\n",
    "predictions = model.predict(x_test)\n",
    "\n",
    "# compare ml-prediction to test label\n",
    "for pred_index in range(20):\n",
    "    print(np.argmax(predictions[pred_index]), y_test[pred_index])"
   ]
  },
  {
   "cell_type": "code",
   "execution_count": null,
   "metadata": {},
   "outputs": [],
   "source": []
  }
 ],
 "metadata": {
  "kernelspec": {
   "display_name": "Python 3",
   "language": "python",
   "name": "python3"
  },
  "language_info": {
   "codemirror_mode": {
    "name": "ipython",
    "version": 3
   },
   "file_extension": ".py",
   "mimetype": "text/x-python",
   "name": "python",
   "nbconvert_exporter": "python",
   "pygments_lexer": "ipython3",
   "version": "3.6.7"
  }
 },
 "nbformat": 4,
 "nbformat_minor": 2
}
