{
 "cells": [
  {
   "cell_type": "markdown",
   "metadata": {
    "pycharm": {}
   },
   "source": [
    "## Method for building hidden layer"
   ]
  },
  {
   "cell_type": "code",
   "execution_count": null,
   "metadata": {
    "pycharm": {
     "is_executing": false
    }
   },
   "outputs": [],
   "source": [
    "import tensorflow as tf\n",
    "\n",
    "\n",
    "def add_layer(inputs, in_size, out_size, activation_function=None):\n",
    "    \"\"\"\n",
    "    input: intput data\n",
    "    in_size: number of input neurons\n",
    "    out_size: number of output neurons\n",
    "    \"\"\"\n",
    "    #initializer = tf.truncated_normal([in_size, out_size], stddev=0.5)\n",
    "    initializer = tf.contrib.layers.xavier_initializer()\n",
    "    #tf.keras.initializers.he_normal()\n",
    "    #Weights = tf.Variable(initializer([in_size, out_size]))\n",
    "    \n",
    "    Weights = tf.Variable(tf.random_normal([in_size, out_size]))\n",
    "    bias = tf.Variable(initializer([1, out_size]))\n",
    "    Wx_plus_b = tf.matmul(inputs, Weights) + bias\n",
    "    \n",
    "    if activation_function is None:\n",
    "        outputs = Wx_plus_b\n",
    "    else:\n",
    "        outputs = activation_function(Wx_plus_b)\n",
    "    return outputs"
   ]
  },
  {
   "cell_type": "code",
   "execution_count": null,
   "metadata": {
    "pycharm": {}
   },
   "outputs": [],
   "source": [
    "from numpy import genfromtxt\n",
    "data = genfromtxt('data/body_data.csv', delimiter=';', skip_header=1)\n",
    "\n",
    "height = data[:,[0]]\n",
    "weight = data[:,[1]]\n",
    "#print(weight)"
   ]
  },
  {
   "cell_type": "markdown",
   "metadata": {
    "pycharm": {}
   },
   "source": [
    "## Build a simple neural network\n",
    "\n",
    "### Normalization\n",
    "a = your dataset\n",
    "\n",
    "Normalization(a) = mean(a) / (max(a) - min(a))"
   ]
  },
  {
   "cell_type": "code",
   "execution_count": null,
   "metadata": {
    "pycharm": {}
   },
   "outputs": [],
   "source": [
    "import numpy as np\n",
    "import matplotlib.pyplot as plt\n",
    "%matplotlib inline\n",
    "#%matplotlib notebook\n",
    "\n",
    "import matplotlib.pyplot as plt\n",
    "import matplotlib\n",
    "\n",
    "\n",
    "x_data = height\n",
    "#x_data = np.array([1.60, 1.62, 1.68, 1.69, 1.70, 1.70, 1.71, 1.72, 1.80, 1.76, 1.77, 1.78, 1.77, 1.78, 1.79, 1.80, 1.81, 1.82, 1.83, 1.94])\n",
    "#x_data = x_data[:, np.newaxis]\n",
    "x_data = (x_data - np.mean(x_data)) / (np.amax(x_data) - np.amin(x_data))\n",
    "\n",
    "y_data = weight\n",
    "#y_data = np.array([60.5, 58.8, 62.7, 62.8, 63.1, 58.9, 61.5, 65.8, 70.0, 65.8, 66.8, 68.0, 66.7, 60.8, 72.4, 70.5, 72.8, 75.8, 74.6, 83.2])\n",
    "#y_data = y_data[:, np.newaxis]\n",
    "y_data = (y_data - np.mean(y_data)) / (np.amax(y_data) - np.amin(y_data))\n",
    "\n",
    "xs = tf.placeholder(tf.float32, [None,1])\n",
    "ys = tf.placeholder(tf.float32, [None,1])\n",
    "\n",
    "l1 = add_layer(xs, 1, 10, activation_function=tf.nn.tanh)\n",
    "prediction = add_layer(l1, 10, 1, activation_function=None)\n",
    "\n",
    "#prediction = tf.nn.tanh(l2)\n",
    "#prediction = tf.nn.relu(l2) # gradient decent only\n",
    "#prediction = tf.nn.leaky_rtalu(l2)\n",
    "#prediction = tf.nn.sigmoid(l2)\n",
    "\n",
    "loss = tf.losses.mean_squared_error(labels=ys, predictions=prediction)\n",
    "\n",
    "#train_step = tf.train.GradientDescentOptimizer(1e-1).minimize(loss)\n",
    "train_step = tf.train.AdamOptimizer(1e-3).minimize(loss)\n",
    "\n",
    "init = tf.global_variables_initializer()\n",
    "\n",
    "# train a overfitting model\n",
    "with tf.Session() as sess:\n",
    "    sess.run(init)\n",
    "    \n",
    "    fig = plt.figure()\n",
    "    ax = fig.add_subplot(1,1,1)\n",
    "    ax.scatter(x_data, y_data)\n",
    "    plt.ion\n",
    "    \n",
    "    for i in range(10000):\n",
    "        sess.run(train_step, feed_dict={xs: x_data, ys: y_data})\n",
    "        if i%500 == 0:\n",
    "            print(sess.run([loss], feed_dict={xs: x_data, ys: y_data}))\n",
    "            try:\n",
    "                ax.lines.remove(lines[0])\n",
    "            except Exception:\n",
    "                pass\n",
    "            \n",
    "            ######################## not working part ########################\n",
    "            prediction_value = sess.run(prediction, feed_dict={xs:x_data})\n",
    "            lines = ax.plot(x_data, prediction_value, 'r-', lw=5)\n",
    "            #plt.pause(0.1)\n",
    "                       "
   ]
  },
  {
   "cell_type": "code",
   "execution_count": null,
   "metadata": {
    "pycharm": {}
   },
   "outputs": [],
   "source": []
  }
 ],
 "metadata": {
  "kernelspec": {
   "display_name": "Python 3",
   "language": "python",
   "name": "python3"
  },
  "language_info": {
   "codemirror_mode": {
    "name": "ipython",
    "version": 3
   },
   "file_extension": ".py",
   "mimetype": "text/x-python",
   "name": "python",
   "nbconvert_exporter": "python",
   "pygments_lexer": "ipython3",
   "version": "3.6.7"
  }
 },
 "nbformat": 4,
 "nbformat_minor": 2
}
