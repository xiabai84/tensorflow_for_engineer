{
 "cells": [
  {
   "cell_type": "markdown",
   "metadata": {},
   "source": [
    "### Dataset CSV API"
   ]
  },
  {
   "cell_type": "code",
   "execution_count": 1,
   "metadata": {},
   "outputs": [],
   "source": [
    "import tensorflow as tf\n",
    "import matplotlib as mpl\n",
    "import matplotlib.pyplot as plt\n",
    "%matplotlib inline\n",
    "import numpy as np\n",
    "from tensorflow import keras\n",
    "from tensorflow.python.keras.callbacks import History"
   ]
  },
  {
   "cell_type": "code",
   "execution_count": 14,
   "metadata": {},
   "outputs": [
    {
     "name": "stdout",
     "output_type": "stream",
     "text": [
      "(3870, 8) (3870,)\n",
      "(11610, 8) (11610,)\n",
      "(5160, 8) (5160,)\n"
     ]
    }
   ],
   "source": [
    "from sklearn.datasets import fetch_california_housing\n",
    "from sklearn.model_selection import train_test_split\n",
    "\n",
    "x_train_all, x_test, y_train_all, y_test = train_test_split(housing.data, housing.target, random_state = 7)\n",
    "x_train, x_valid, y_train, y_valid = train_test_split(x_train_all, y_train_all, random_state = 11)\n",
    "\n",
    "print(x_valid.shape, y_valid.shape)\n",
    "print(x_train.shape, y_train.shape)\n",
    "print(x_test.shape, y_test.shape)"
   ]
  },
  {
   "cell_type": "code",
   "execution_count": 17,
   "metadata": {},
   "outputs": [],
   "source": [
    "from sklearn.preprocessing import StandardScaler\n",
    "\n",
    "# perform normalization\n",
    "scaler = StandardScaler()\n",
    "x_train_scaled = scaler.fit_transform(x_train)\n",
    "x_valid_scaled = scaler.transform(x_valid)\n",
    "x_test_scaled  = scaler.transform(x_test)"
   ]
  },
  {
   "cell_type": "markdown",
   "metadata": {},
   "source": [
    "### Generate csv files by using numpy lib"
   ]
  },
  {
   "cell_type": "code",
   "execution_count": 8,
   "metadata": {},
   "outputs": [],
   "source": [
    "import os\n",
    "output_dir = \"generated_csv\"\n",
    "\n",
    "if not os.path.exists(output_dir):\n",
    "    os.mkdir(output_dir)"
   ]
  },
  {
   "cell_type": "code",
   "execution_count": 24,
   "metadata": {},
   "outputs": [],
   "source": [
    "def save_to_csv(output_dir, data, name_prefix, \n",
    "                header=None, n_parts=10):\n",
    "    \n",
    "    path_format = os.path.join(output_dir, \"{}_{:02d}.csv\")\n",
    "    filenames = []\n",
    "    for file_idx, row_indices in enumerate(np.array_split(np.arange(len(data)), n_parts)):\n",
    "        part_csv = path_format.format(name_prefix, file_idx)\n",
    "        filenames.append(part_csv)\n",
    "        \n",
    "        with open(part_csv, \"wt\", encoding=\"utf-8\") as f:\n",
    "            if header is not None:\n",
    "                f.write(header + \"\\n\")\n",
    "            for row_index in row_indices:\n",
    "                f.write(\",\".join(\n",
    "                    [repr(col) for col in data[row_index]]\n",
    "                ))\n",
    "                f.write('\\n')\n",
    "    return filenames"
   ]
  },
  {
   "cell_type": "code",
   "execution_count": 25,
   "metadata": {},
   "outputs": [],
   "source": [
    "# merge two dataset\n",
    "train_data = np.c_[x_train_scaled, y_train]\n",
    "valid_data = np.c_[x_valid_scaled, y_valid]\n",
    "test_data = np.c_[x_test_scaled, y_test]\n",
    "\n",
    "header_cols = housing.feature_names + [\"MidianHouseValue\"]\n",
    "header_str = \",\".join(header_cols)\n",
    "\n",
    "train_filenames = save_to_csv(output_dir, \n",
    "                              data = train_data, \n",
    "                              name_prefix = \"train\", \n",
    "                              header = header_str,\n",
    "                              n_parts = 20)\n",
    "\n",
    "valid_filenames = save_to_csv(output_dir, \n",
    "                              data = valid_data, \n",
    "                              name_prefix = \"valid\", \n",
    "                              header = header_str,\n",
    "                              n_parts = 10)\n",
    "\n",
    "test_filenames = save_to_csv(output_dir, \n",
    "                              data = test_data, \n",
    "                              name_prefix = \"test\", \n",
    "                              header = header_str,\n",
    "                              n_parts = 10)"
   ]
  },
  {
   "cell_type": "code",
   "execution_count": 28,
   "metadata": {},
   "outputs": [
    {
     "name": "stdout",
     "output_type": "stream",
     "text": [
      "['generated_csv/train_00.csv',\n",
      " 'generated_csv/train_01.csv',\n",
      " 'generated_csv/train_02.csv',\n",
      " 'generated_csv/train_03.csv',\n",
      " 'generated_csv/train_04.csv',\n",
      " 'generated_csv/train_05.csv',\n",
      " 'generated_csv/train_06.csv',\n",
      " 'generated_csv/train_07.csv',\n",
      " 'generated_csv/train_08.csv',\n",
      " 'generated_csv/train_09.csv',\n",
      " 'generated_csv/train_10.csv',\n",
      " 'generated_csv/train_11.csv',\n",
      " 'generated_csv/train_12.csv',\n",
      " 'generated_csv/train_13.csv',\n",
      " 'generated_csv/train_14.csv',\n",
      " 'generated_csv/train_15.csv',\n",
      " 'generated_csv/train_16.csv',\n",
      " 'generated_csv/train_17.csv',\n",
      " 'generated_csv/train_18.csv',\n",
      " 'generated_csv/train_19.csv']\n",
      "['generated_csv/test_00.csv',\n",
      " 'generated_csv/test_01.csv',\n",
      " 'generated_csv/test_02.csv',\n",
      " 'generated_csv/test_03.csv',\n",
      " 'generated_csv/test_04.csv',\n",
      " 'generated_csv/test_05.csv',\n",
      " 'generated_csv/test_06.csv',\n",
      " 'generated_csv/test_07.csv',\n",
      " 'generated_csv/test_08.csv',\n",
      " 'generated_csv/test_09.csv']\n",
      "['generated_csv/valid_00.csv',\n",
      " 'generated_csv/valid_01.csv',\n",
      " 'generated_csv/valid_02.csv',\n",
      " 'generated_csv/valid_03.csv',\n",
      " 'generated_csv/valid_04.csv',\n",
      " 'generated_csv/valid_05.csv',\n",
      " 'generated_csv/valid_06.csv',\n",
      " 'generated_csv/valid_07.csv',\n",
      " 'generated_csv/valid_08.csv',\n",
      " 'generated_csv/valid_09.csv']\n"
     ]
    }
   ],
   "source": [
    "import pprint\n",
    "pprint.pprint(train_filenames)\n",
    "pprint.pprint(test_filenames)\n",
    "pprint.pprint(valid_filenames)"
   ]
  },
  {
   "cell_type": "markdown",
   "metadata": {},
   "source": [
    "### Read csv files with tensorflow API"
   ]
  },
  {
   "cell_type": "code",
   "execution_count": null,
   "metadata": {},
   "outputs": [],
   "source": [
    "# 1. read filename to dataset\n",
    "# 2. read file -> dataset -> datasets -> merge\n",
    "# 3. parse csv"
   ]
  },
  {
   "cell_type": "code",
   "execution_count": 31,
   "metadata": {},
   "outputs": [
    {
     "name": "stdout",
     "output_type": "stream",
     "text": [
      "tf.Tensor(b'generated_csv/train_06.csv', shape=(), dtype=string)\n",
      "tf.Tensor(b'generated_csv/train_12.csv', shape=(), dtype=string)\n",
      "tf.Tensor(b'generated_csv/train_00.csv', shape=(), dtype=string)\n",
      "tf.Tensor(b'generated_csv/train_01.csv', shape=(), dtype=string)\n",
      "tf.Tensor(b'generated_csv/train_11.csv', shape=(), dtype=string)\n",
      "tf.Tensor(b'generated_csv/train_04.csv', shape=(), dtype=string)\n",
      "tf.Tensor(b'generated_csv/train_10.csv', shape=(), dtype=string)\n",
      "tf.Tensor(b'generated_csv/train_15.csv', shape=(), dtype=string)\n",
      "tf.Tensor(b'generated_csv/train_03.csv', shape=(), dtype=string)\n",
      "tf.Tensor(b'generated_csv/train_16.csv', shape=(), dtype=string)\n",
      "tf.Tensor(b'generated_csv/train_14.csv', shape=(), dtype=string)\n",
      "tf.Tensor(b'generated_csv/train_19.csv', shape=(), dtype=string)\n",
      "tf.Tensor(b'generated_csv/train_18.csv', shape=(), dtype=string)\n",
      "tf.Tensor(b'generated_csv/train_17.csv', shape=(), dtype=string)\n",
      "tf.Tensor(b'generated_csv/train_02.csv', shape=(), dtype=string)\n",
      "tf.Tensor(b'generated_csv/train_13.csv', shape=(), dtype=string)\n",
      "tf.Tensor(b'generated_csv/train_08.csv', shape=(), dtype=string)\n",
      "tf.Tensor(b'generated_csv/train_05.csv', shape=(), dtype=string)\n",
      "tf.Tensor(b'generated_csv/train_07.csv', shape=(), dtype=string)\n",
      "tf.Tensor(b'generated_csv/train_09.csv', shape=(), dtype=string)\n"
     ]
    }
   ],
   "source": [
    "# 1. read filename to dataset\n",
    "\n",
    "filename_dataset = tf.data.Dataset.list_files(train_filenames)\n",
    "for name in filename_dataset:\n",
    "    print(name)"
   ]
  },
  {
   "cell_type": "code",
   "execution_count": 32,
   "metadata": {},
   "outputs": [],
   "source": [
    "# 2. read file -> dataset -> datasets -> merge"
   ]
  },
  {
   "cell_type": "code",
   "execution_count": 34,
   "metadata": {},
   "outputs": [
    {
     "name": "stdout",
     "output_type": "stream",
     "text": [
      "b'-0.32652634129448693,0.43236189741438374,-0.09345459539684739,-0.08402991822890092,0.8460035745154013,-0.0266316482653991,-0.5617679242614233,0.1422875991184281,2.431'\n",
      "b'0.04971034572063198,-0.8492418886278699,-0.06214699417830008,0.17878747064657746,-0.8025354230744277,0.0005066066922077538,0.6466457006743215,-1.1060793768010604,2.286'\n",
      "b'0.801544314532886,0.27216142415910205,-0.11624392696666119,-0.2023115137272354,-0.5430515742518128,-0.021039615516440048,-0.5897620622908205,-0.08241845654707416,3.226'\n",
      "b'0.8115083791797953,-0.04823952235146133,0.5187339067174729,-0.029386394873127775,-0.034064024638222286,-0.05081594842905086,-0.7157356834231196,0.9162751241885168,2.147'\n",
      "b'2.51504373119231,1.0731637904355105,0.5574401201546321,-0.17273513019187772,-0.612912610473286,-0.01909156503651574,-0.5710993036045546,-0.027490309606616956,5.00001'\n",
      "b'2.2754266257529974,-1.249743071766074,1.0294788075585177,-0.17124431895714504,-0.45413752815175606,0.10527151658164971,-0.9023632702857819,0.9012947204774823,3.798'\n",
      "b'-1.453851024367546,1.874166156711919,-1.1315714708271856,0.3611276016530489,-0.3978857847006997,-0.03273859332533962,-0.7390641317809511,0.646627857389904,1.875'\n",
      "b'-0.2980728090942217,0.3522616607867429,-0.10920507530549702,-0.25055520947444,-0.034064024638222286,-0.006034004264459185,1.080554840130013,-1.0611381656679573,1.514'\n",
      "b'-0.6906143291679195,-0.1283397589791022,7.0201810347470595,5.624287386169439,-0.2663292879200034,-0.03662080416157129,-0.6457503383496215,1.2058962626018372,1.352'\n",
      "b'1.8444675088321243,0.5124621340420246,0.505783649224786,-0.20645711406004988,-0.021362018052499883,-0.05811312281214649,0.8332732875369839,-1.2658703497187516,4.513'\n",
      "b'-0.4394346460367383,0.1920611875314612,-0.39172440230167493,-0.06233787211356993,0.682692061270399,-0.012080008421921133,0.935918460311448,-1.2458964781040367,1.618'\n",
      "b'-1.1179501498535522,0.3522616607867429,-0.17415480367337632,0.1029357335256435,-0.24364713330264193,-0.06195252491676357,1.9063819119972951,-1.1210597805120879,0.603'\n",
      "b'-0.03058829290446139,-0.9293421252555106,0.2596214817762415,-0.00601274044096368,-0.5004091235711734,-0.030779867916061836,1.5984463936739026,-1.8151518191233238,1.598'\n",
      "b'-0.9868720801669367,0.832863080552588,-0.18684708416901633,-0.14888949288707784,-0.4532302419670616,-0.11504995754593579,1.6730974284189664,-0.7465496877362412,1.138'\n",
      "b'-0.8109823614533115,0.43236189741438374,-0.09614708870040699,-0.011052490243107498,-0.5884158834865357,-0.15275615510545787,-1.3036125820405071,1.15096811566138,4.889'\n"
     ]
    }
   ],
   "source": [
    "n_readers = 5\n",
    "#.skip(1) -> remove header\n",
    "dataset = filename_dataset.interleave(\n",
    "    lambda filename: tf.data.TextLineDataset(filenames=filename).skip(1),\n",
    "    cycle_length = n_readers,\n",
    ")\n",
    "\n",
    "for line in dataset.take(15):\n",
    "    print(line.numpy())"
   ]
  },
  {
   "cell_type": "code",
   "execution_count": 38,
   "metadata": {},
   "outputs": [],
   "source": [
    "# 3. parse csv\n",
    "sample_str = '1, 2, 3, 4, 5'\n",
    "record_defaults = [tf.constant(0, dtype=tf.int32)] * 5\n",
    "parsed_fields = tf.io.decode_csv(sample_str, record_defaults)"
   ]
  },
  {
   "cell_type": "markdown",
   "metadata": {},
   "source": [
    "### Use tf.data together with Keras"
   ]
  },
  {
   "cell_type": "code",
   "execution_count": 47,
   "metadata": {},
   "outputs": [],
   "source": [
    "def parse_csv_line(line, n_fields = 9):\n",
    "    defs = [tf.constant(np.nan)] * n_fields\n",
    "    parsed_fields = tf.io.decode_csv(line, defs)\n",
    "    x = tf.stack(parsed_fields[0: -1])  # train\n",
    "    y = tf.stack(parsed_fields[-1:])  # label\n",
    "    return x, y"
   ]
  },
  {
   "cell_type": "code",
   "execution_count": null,
   "metadata": {},
   "outputs": [],
   "source": []
  },
  {
   "cell_type": "markdown",
   "metadata": {},
   "source": [
    "### build data preprocessng pipeline"
   ]
  },
  {
   "cell_type": "code",
   "execution_count": 49,
   "metadata": {},
   "outputs": [],
   "source": [
    "def csv_reader_dataset(filenames, n_readers = 5, batch_size=32,\n",
    "                       n_parse_threads = 5, shuffle_buffer_size = 10000):\n",
    "    dataset = tf.data.Dataset.list_files(filenames)\n",
    "    dataset = dataset.repeat() # without number means, it should repeat unlimited times\n",
    "    dataset = dataset.interleave(\n",
    "        lambda filename: tf.data.TextLineDataset(filename).skip(1),\n",
    "        cycle_length = n_readers        \n",
    "    )\n",
    "    dataset.shuffle(shuffle_buffer_size)\n",
    "    # map is pretty like interleave but without joint multipole sets to one set\n",
    "    dataset = dataset.map(parse_csv_line, \n",
    "                          num_parallel_calls=n_parse_threads)\n",
    "    dataset = dataset.batch(batch_size)\n",
    "    return dataset"
   ]
  },
  {
   "cell_type": "code",
   "execution_count": 51,
   "metadata": {},
   "outputs": [
    {
     "name": "stdout",
     "output_type": "stream",
     "text": [
      "x:\n",
      "<tf.Tensor: id=499, shape=(3, 8), dtype=float32, numpy=\n",
      "array([[ 0.4240821 ,  0.91296333, -0.04437482, -0.15297213, -0.24727628,\n",
      "        -0.10539167,  0.86126745, -1.335779  ],\n",
      "       [ 0.63636464, -1.0895426 ,  0.09260903, -0.20538124,  1.2025671 ,\n",
      "        -0.03630123, -0.6784102 ,  0.18223535],\n",
      "       [ 0.8015443 ,  0.27216142, -0.11624393, -0.20231152, -0.5430516 ,\n",
      "        -0.02103962, -0.5897621 , -0.08241846]], dtype=float32)>\n",
      "y:\n",
      "<tf.Tensor: id=500, shape=(3, 1), dtype=float32, numpy=\n",
      "array([[3.955],\n",
      "       [2.429],\n",
      "       [3.226]], dtype=float32)>\n",
      "x:\n",
      "<tf.Tensor: id=503, shape=(3, 8), dtype=float32, numpy=\n",
      "array([[-1.1157656 ,  0.99306357, -0.334192  , -0.06535219, -0.32893205,\n",
      "         0.04343066, -0.12785879,  0.30707204],\n",
      "       [-1.119975  , -1.3298433 ,  0.14190045,  0.4658137 , -0.10301778,\n",
      "        -0.10744184, -0.7950524 ,  1.5304717 ],\n",
      "       [ 0.4369235 , -1.9706452 , -0.16642106,  0.05486205, -0.8379196 ,\n",
      "        -0.1323988 , -0.99567705,  0.94124246]], dtype=float32)>\n",
      "y:\n",
      "<tf.Tensor: id=504, shape=(3, 1), dtype=float32, numpy=\n",
      "array([[0.524],\n",
      "       [0.66 ],\n",
      "       [1.73 ]], dtype=float32)>\n"
     ]
    }
   ],
   "source": [
    "train_set = csv_reader_dataset(train_filenames, batch_size = 3)\n",
    "\n",
    "for x_batch, y_batch in train_set.take(2):\n",
    "    print(\"x:\")\n",
    "    pprint.pprint(x_batch)\n",
    "    print(\"y:\")\n",
    "    pprint.pprint(y_batch)"
   ]
  },
  {
   "cell_type": "code",
   "execution_count": 52,
   "metadata": {},
   "outputs": [],
   "source": [
    "batch_size = 32\n",
    "\n",
    "train_set = csv_reader_dataset(train_filenames, batch_size=batch_size)\n",
    "test_set = csv_reader_dataset(test_filenames, batch_size=batch_size)\n",
    "valid_set = csv_reader_dataset(valid_filenames, batch_size=batch_size)"
   ]
  },
  {
   "cell_type": "code",
   "execution_count": 55,
   "metadata": {},
   "outputs": [
    {
     "name": "stdout",
     "output_type": "stream",
     "text": [
      "Model: \"sequential_2\"\n",
      "_________________________________________________________________\n",
      "Layer (type)                 Output Shape              Param #   \n",
      "=================================================================\n",
      "dense_6 (Dense)              (None, 30)                270       \n",
      "_________________________________________________________________\n",
      "dense_7 (Dense)              (None, 1)                 31        \n",
      "=================================================================\n",
      "Total params: 301\n",
      "Trainable params: 301\n",
      "Non-trainable params: 0\n",
      "_________________________________________________________________\n"
     ]
    }
   ],
   "source": [
    "model = keras.models.Sequential()\n",
    "model.add(keras.layers.Dense(30, activation = 'relu', input_shape=[8]))\n",
    "model.add(keras.layers.Dense(1))\n",
    "\n",
    "model.summary()\n",
    "# mean_squared_error make model as regression\n",
    "model.compile(loss = \"mean_squared_error\", optimizer = \"sgd\", metrics = [\"accuracy\"])\n",
    "callbacks = [\n",
    "    keras.callbacks.EarlyStopping(patience = 5, min_delta = 1e-3)\n",
    "]"
   ]
  },
  {
   "cell_type": "code",
   "execution_count": 58,
   "metadata": {},
   "outputs": [
    {
     "name": "stdout",
     "output_type": "stream",
     "text": [
      "Epoch 1/100\n",
      "348/348 [==============================] - 1s 3ms/step - loss: 0.3377 - accuracy: 0.0029 - val_loss: 0.3579 - val_accuracy: 0.0023\n",
      "Epoch 2/100\n",
      "348/348 [==============================] - 1s 2ms/step - loss: 0.3360 - accuracy: 0.0035 - val_loss: 0.3499 - val_accuracy: 0.0023\n",
      "Epoch 3/100\n",
      "348/348 [==============================] - 1s 2ms/step - loss: 0.3310 - accuracy: 0.0031 - val_loss: 0.3553 - val_accuracy: 0.0023\n",
      "Epoch 4/100\n",
      "348/348 [==============================] - 1s 3ms/step - loss: 0.3438 - accuracy: 0.0031 - val_loss: 0.3532 - val_accuracy: 0.0023\n",
      "Epoch 5/100\n",
      "348/348 [==============================] - 1s 3ms/step - loss: 0.3317 - accuracy: 0.0028 - val_loss: 0.3452 - val_accuracy: 0.0023\n",
      "Epoch 6/100\n",
      "348/348 [==============================] - 1s 3ms/step - loss: 0.3355 - accuracy: 0.0037 - val_loss: 0.3458 - val_accuracy: 0.0023\n",
      "Epoch 7/100\n",
      "348/348 [==============================] - 1s 3ms/step - loss: 0.3324 - accuracy: 0.0031 - val_loss: 0.3917 - val_accuracy: 0.0023\n",
      "Epoch 8/100\n",
      "348/348 [==============================] - 1s 3ms/step - loss: 0.3217 - accuracy: 0.0022 - val_loss: 0.3425 - val_accuracy: 0.0023\n",
      "Epoch 9/100\n",
      "348/348 [==============================] - 1s 3ms/step - loss: 0.4092 - accuracy: 0.0040 - val_loss: 0.3539 - val_accuracy: 0.0023\n",
      "Epoch 10/100\n",
      "348/348 [==============================] - 1s 3ms/step - loss: 0.3347 - accuracy: 0.0025 - val_loss: 0.3492 - val_accuracy: 0.0023\n",
      "Epoch 11/100\n",
      "348/348 [==============================] - 1s 3ms/step - loss: 0.3264 - accuracy: 0.0031 - val_loss: 0.3509 - val_accuracy: 0.0023\n",
      "Epoch 12/100\n",
      "348/348 [==============================] - 1s 3ms/step - loss: 0.3315 - accuracy: 0.0034 - val_loss: 0.3430 - val_accuracy: 0.0023\n",
      "Epoch 13/100\n",
      "348/348 [==============================] - 1s 3ms/step - loss: 0.3424 - accuracy: 0.0028 - val_loss: 0.3462 - val_accuracy: 0.0023\n"
     ]
    }
   ],
   "source": [
    "history = model.fit(train_set, \n",
    "                    validation_data = valid_set,\n",
    "                    steps_per_epoch = 11160 // batch_size,\n",
    "                    validation_steps = 3870 // batch_size,\n",
    "                    epochs = 100, \n",
    "                    callbacks = callbacks)"
   ]
  },
  {
   "cell_type": "code",
   "execution_count": 59,
   "metadata": {},
   "outputs": [
    {
     "name": "stdout",
     "output_type": "stream",
     "text": [
      "161/161 [==============================] - 0s 2ms/step - loss: 0.3476 - accuracy: 0.0033\n"
     ]
    },
    {
     "data": {
      "text/plain": [
       "[0.34761891962948793, 0.0032996894]"
      ]
     },
     "execution_count": 59,
     "metadata": {},
     "output_type": "execute_result"
    }
   ],
   "source": [
    "model.evaluate(test_set, steps = 5160//batch_size)"
   ]
  },
  {
   "cell_type": "code",
   "execution_count": null,
   "metadata": {},
   "outputs": [],
   "source": []
  }
 ],
 "metadata": {
  "kernelspec": {
   "display_name": "Python 3 (Spyder)",
   "language": "python3",
   "name": "python3"
  },
  "language_info": {
   "codemirror_mode": {
    "name": "ipython",
    "version": 3
   },
   "file_extension": ".py",
   "mimetype": "text/x-python",
   "name": "python",
   "nbconvert_exporter": "python",
   "pygments_lexer": "ipython3",
   "version": "3.6.7"
  },
  "pycharm": {
   "stem_cell": {
    "cell_type": "raw",
    "metadata": {
     "collapsed": false
    },
    "source": []
   }
  }
 },
 "nbformat": 4,
 "nbformat_minor": 2
}
