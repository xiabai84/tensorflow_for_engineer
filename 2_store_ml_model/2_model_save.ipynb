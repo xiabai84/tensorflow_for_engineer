{
 "cells": [
  {
   "cell_type": "markdown",
   "metadata": {},
   "source": [
    "## Warm up"
   ]
  },
  {
   "cell_type": "markdown",
   "metadata": {},
   "source": [
    "### Train a new model and save it on disk"
   ]
  },
  {
   "cell_type": "code",
   "execution_count": null,
   "metadata": {},
   "outputs": [],
   "source": [
    "import tensorflow as tf\n",
    "import numpy as np\n",
    "\n",
    "height = np.array([1.60, 1.62, 1.68, 1.69, 1.70, 1.70, 1.71, 1.72, 1.80, 1.76, 1.77, 1.78, 1.77, 1.78, 1.79, 1.80, 1.81, 1.82, 1.83, 1.94])\n",
    "weight = np.array([60.5, 58.8, 62.7, 62.8, 63.1, 58.9, 61.5, 65.8, 70.0, 65.8, 66.8, 68.0, 66.7, 60.8, 72.4, 70.5, 72.8, 75.8, 74.6, 83.2])\n",
    "\n",
    "# create a linear model\n",
    "b = tf.Variable(0.)\n",
    "k = tf.Variable(0.)\n",
    "\n",
    "# predict_weight = k * x + b by given x\n",
    "x = tf.Variable(0.)\n",
    "mult_var = tf.multiply(k, x)\n",
    "predict_weight = tf.add(mult_var, b)\n",
    "\n",
    "weight_head = k * height + b \n",
    "\n",
    "# define loss function\n",
    "loss = tf.reduce_mean(tf.square(weight - weight_head))\n",
    "\n",
    "# define optimizer\n",
    "optimizer = tf.train.GradientDescentOptimizer(0.1)\n",
    "\n",
    "# minimiz loss function\n",
    "train = optimizer.minimize(loss)\n",
    "\n",
    "init = tf.global_variables_initializer()\n",
    "\n",
    "saver = tf.train.Saver()\n",
    "\n",
    "with tf.Session() as sess:\n",
    "    sess.run(init)\n",
    "    \n",
    "    for step in range(301):\n",
    "        sess.run(train)\n",
    "        #if step%25 == 0:\n",
    "        #    print(\"step: \", step, \" k and b: \", sess.run([k, b]))\n",
    "    saver.save(sess, \"./model_all/model.ckpt\")\n",
    "    print(\"model with parameters is saved!\")"
   ]
  },
  {
   "cell_type": "code",
   "execution_count": null,
   "metadata": {},
   "outputs": [],
   "source": [
    "with tf.Session() as sess:\n",
    "    sess.run(init)\n",
    "    saver = tf.train.import_meta_graph('./model_all/model.ckpt.meta')\n",
    "    saver.restore(sess, tf.train.latest_checkpoint('./model_all'))\n",
    "    \n",
    "    print(sess.run(predict_weight, feed_dict = {x: 1.90})) # print predict value by given height (x = 1.90)\n",
    "    k, b = sess.run([k, b])\n",
    "\n",
    "print(k, b)"
   ]
  },
  {
   "cell_type": "code",
   "execution_count": null,
   "metadata": {},
   "outputs": [],
   "source": [
    "'''\n",
    "with tf.Session() as sess:\n",
    "    sess.run(init)\n",
    "    saver = tf.train.import_meta_graph('./model_all/model.ckpt.meta')\n",
    "    saver.restore(sess, tf.train.latest_checkpoint('./model_all'))\n",
    "    k, b = sess.run([k,b])\n",
    "print(k, b)\n",
    "'''"
   ]
  },
  {
   "cell_type": "code",
   "execution_count": null,
   "metadata": {},
   "outputs": [],
   "source": [
    "x = 1.65\n",
    "y = k * x + b\n",
    "print(y)"
   ]
  },
  {
   "cell_type": "markdown",
   "metadata": {},
   "source": [
    "### Virutalization"
   ]
  },
  {
   "cell_type": "code",
   "execution_count": null,
   "metadata": {},
   "outputs": [],
   "source": [
    "import numpy as np\n",
    "import matplotlib.pyplot as plt\n",
    "%matplotlib inline\n",
    "\n",
    "height = np.array([1.60, 1.62, 1.68, 1.69, 1.70, 1.70, 1.71, 1.72, 1.80, 1.76, 1.77, 1.78, 1.77, 1.78, 1.79, 1.80, 1.81, 1.82, 1.83, 1.94])\n",
    "weight = np.array([60.5, 58.8, 62.7, 62.8, 63.1, 58.9, 61.5, 65.8, 70.0, 65.8, 66.8, 68.0, 66.7, 60.8, 72.4, 70.5, 72.8, 75.8, 74.6, 83.2])\n",
    "\n",
    "weight_predict = k * height + b\n",
    "plt.scatter(height, weight)\n",
    "plt.plot(height, weight_predict, 'r')"
   ]
  },
  {
   "cell_type": "markdown",
   "metadata": {},
   "source": [
    "\n",
    "\n",
    "## 1 Speichern des trainierten ML-Models"
   ]
  },
  {
   "cell_type": "markdown",
   "metadata": {},
   "source": [
    "### 1.1 Fürs Speicher des Models:\n",
    "\n",
    "    saver = tf.train.Saver()\n",
    "    saver.save(session, path_to_your_model)\n",
    "Per Default werden alle Variable von Graph in der Datei gespeichert. Falls du nicht alle Variables brauchst, kannst auch die zu speichernden Variable über tf.train.Saver() als Python Dictionary übergeben z.B. \n",
    "\n",
    "    v1 = tf.get_variable(\"v1\", [3], initializer = tf.zeros_initializer)\n",
    "    v2 = tf.get_variable(\"v2\", [5], initializer = tf.zeros_initializer)\n",
    "    saver = tf.train.Saver({\"v2\": v2})\n",
    "\n",
    "Hier wird nur v2 gespeichert.\n",
    "### 1.2 Model Speichern nach bestimmter Iterationen \n",
    "Es wird oft in Deep Learning erst nach bestimmten Iterationen (z.B. 1000 steps) das Model zu speichern. Durch Parameter **global_step** wird die Anzahl der Iteration bestimmt.\n",
    "\n",
    "    saver.save(sess, './modelname',global_step=1000)\n",
    "Dieses Model wird durch suffix \"-100\" gekennzeichnet\n",
    "\n",
    "### 1.3 Model Speichern periodisch\n",
    "In der Realität wird Model auch oft periodisch gepeichert z.B. alle zwei Stunden und zwar speichern nur die letzten fünf Model-Datei:\n",
    "    \n",
    "    tf.train.Saver(max_to_keep=5, keep_checkpoint_every_n_hours=2)\n",
    "Tensorflow speichert per default nur die letzten fünf Model. Wenn man mehr Modelle speichern möchte, kann durch Parameter **max_to_keep** bestimmen\n",
    "\n",
    "\n",
    "\n"
   ]
  },
  {
   "cell_type": "markdown",
   "metadata": {},
   "source": [
    "\n",
    "## 2 Laden vom trainierten Model:\n",
    "### 2.1 Laden via import_meta_graph\n",
    "wie besprochen Graph besagt, aus welchen Komponenten(Tensor, Op, Variable und Konstant) ein Model gebaut wird. Bei der Ausführung wird pro Session mindestens ein Model benötigt. Aber wir müssen nicht jedes mal diese Graph noch mal implementieren... Wenn wir das trainierte Model schon mal gespeichert haben, liegt schon die Graph des Models in .meta Datei.\n",
    "Wir können die Graph durch **import_meta_graph** wieder herstellen\n",
    "\n",
    "Um die Rechnung der Daten von Graph zu gestalten, wird hier auch eine **Session** benötigt. In der Session können wir vordefinierte Variables (k, b) wieder aufrufen:\n",
    "\n",
    "    with tf.Session() as sess:\n",
    "        sess.run(init)\n",
    "        saver = tf.train.import_meta_graph('./model_all/model.ckpt.meta')\n",
    "        saver.restore(sess, tf.train.latest_checkpoint('./model_all'))\n",
    "        k, b = sess.run([k,b])\n",
    "        \n",
    "### 2.2 Variable Übergabe \n",
    "You can also parse a variable by dictionary to perform prediction.\n",
    "\n",
    "    sess.run(predict_weight, feed_dict = {x: 1.90}))\n",
    "\n",
    "In training part we defined variables for parameter **predict_weight**\n",
    "\n",
    "    x = tf.Variable(0.)                   # define a value to parse\n",
    "    mult_var = tf.multiply(k, x)          # k * x\n",
    "    predict_weight = tf.add(mult_var, b)  # k * x + b\n",
    "\n",
    "## 3 Model Dateien\n",
    "Für jedes Model wird per default vier neuen Dateien erzeugt\n",
    "* checkpoint\n",
    "* modelname.ckpt.data-00000-of-00001\n",
    "* modelname.ckpt.index\n",
    "* modelname.ckpt.meta\n",
    "\n",
    "### 3.1 checkpoint\n",
    "checkpoit Datei führt allen Dateien vom gespeicherten Model als List zusammen und wird vom tf.train.Saver() gepflegt.\n",
    "### 3.2 model.ckpt.meta\n",
    "In Datei \"model.ckpt.meta\" wird Meta-Data von Graph  gespeichert z.B. Meta-Daten von Operationen und Tensor.\n",
    "### 3.3 model.ckpt\n",
    "ckpt ist eine binäre Datei, hier wird die Daten von Variables wie weights, biases, gradients etc. in SSTable-Format gespeichert (SSTable is ähnlich wie key, value pair)"
   ]
  },
  {
   "cell_type": "markdown",
   "metadata": {},
   "source": [
    "for more info see: \n",
    "https://cv-tricks.com/tensorflow-tutorial/save-restore-tensorflow-models-quick-complete-tutorial/"
   ]
  }
 ],
 "metadata": {
  "kernelspec": {
   "display_name": "Python 3",
   "language": "python",
   "name": "python3"
  },
  "language_info": {
   "codemirror_mode": {
    "name": "ipython",
    "version": 3
   },
   "file_extension": ".py",
   "mimetype": "text/x-python",
   "name": "python",
   "nbconvert_exporter": "python",
   "pygments_lexer": "ipython3",
   "version": "3.6.5"
  }
 },
 "nbformat": 4,
 "nbformat_minor": 2
}
