{
 "cells": [
  {
   "cell_type": "markdown",
   "metadata": {},
   "source": [
    "## Warm up"
   ]
  },
  {
   "cell_type": "markdown",
   "metadata": {},
   "source": [
    "### Train a new model and save it on disk"
   ]
  },
  {
   "cell_type": "code",
   "execution_count": null,
   "metadata": {},
   "outputs": [],
   "source": [
    "import tensorflow as tf\n",
    "import numpy as np\n",
    "\n",
    "height = np.array([1.60, 1.62, 1.68, 1.69, 1.70, 1.70, 1.71, 1.72, 1.80, 1.76, 1.77, 1.78, 1.77, 1.78, 1.79, 1.80, 1.81, 1.82, 1.83, 1.94])\n",
    "weight = np.array([60.5, 58.8, 62.7, 62.8, 63.1, 58.9, 61.5, 65.8, 70.0, 65.8, 66.8, 68.0, 66.7, 60.8, 72.4, 70.5, 72.8, 75.8, 74.6, 83.2])\n",
    "\n",
    "# create a linear model\n",
    "b = tf.Variable(0.)\n",
    "k = tf.Variable(0.)\n",
    "\n",
    "# predict_weight = k * x + b by given x\n",
    "x = tf.Variable(0.)\n",
    "mult_var = tf.multiply(k, x)\n",
    "predict_weight = tf.add(mult_var, b)\n",
    "\n",
    "weight_head = k * height + b \n",
    "\n",
    "# define loss function\n",
    "loss = tf.reduce_mean(tf.square(weight - weight_head))\n",
    "\n",
    "# define optimizer\n",
    "optimizer = tf.train.GradientDescentOptimizer(0.1)\n",
    "\n",
    "# minimiz loss function\n",
    "train = optimizer.minimize(loss)\n",
    "\n",
    "init = tf.global_variables_initializer()\n",
    "\n",
    "saver = tf.train.Saver()\n",
    "\n",
    "with tf.Session() as sess:\n",
    "    sess.run(init)\n",
    "    \n",
    "    for step in range(301):\n",
    "        sess.run(train)\n",
    "        #if step%25 == 0:\n",
    "        #    print(\"step: \", step, \" k and b: \", sess.run([k, b]))\n",
    "    saver.save(sess, \"./model_all/model.ckpt\")\n",
    "    print(\"model with parameters is saved!\")"
   ]
  },
  {
   "cell_type": "markdown",
   "metadata": {},
   "source": [
    "### Use variables from pre trained model"
   ]
  },
  {
   "cell_type": "code",
   "execution_count": null,
   "metadata": {},
   "outputs": [],
   "source": [
    "with tf.Session() as sess:\n",
    "    sess.run(init)\n",
    "    saver = tf.train.import_meta_graph('./model_all/model.ckpt.meta')\n",
    "    saver.restore(sess, tf.train.latest_checkpoint('./model_all'))\n",
    "    \n",
    "    print(sess.run(predict_weight, feed_dict = {x: 1.90})) # print predict value by given height (x = 1.90)\n",
    "    \n",
    "    k, b = sess.run([k, b]) # assign results to python variable k and b\n",
    "    \n",
    "print(k, b) # print current k, b from trained model"
   ]
  },
  {
   "cell_type": "code",
   "execution_count": null,
   "metadata": {},
   "outputs": [],
   "source": [
    "# predict y by given x\n",
    "x = 1.90\n",
    "y = k * x + b\n",
    "print(y)"
   ]
  },
  {
   "cell_type": "markdown",
   "metadata": {},
   "source": [
    "### Virutalization"
   ]
  },
  {
   "cell_type": "code",
   "execution_count": null,
   "metadata": {},
   "outputs": [],
   "source": [
    "import numpy as np\n",
    "import matplotlib.pyplot as plt\n",
    "%matplotlib inline\n",
    "\n",
    "weight_predict = k * height + b\n",
    "\n",
    "plt.scatter(height, weight)\n",
    "plt.plot(height, weight_predict, 'r')"
   ]
  }
 ],
 "metadata": {
  "kernelspec": {
   "display_name": "Python 3",
   "language": "python",
   "name": "python3"
  },
  "language_info": {
   "codemirror_mode": {
    "name": "ipython",
    "version": 3
   },
   "file_extension": ".py",
   "mimetype": "text/x-python",
   "name": "python",
   "nbconvert_exporter": "python",
   "pygments_lexer": "ipython3",
   "version": "3.6.5"
  }
 },
 "nbformat": 4,
 "nbformat_minor": 2
}
