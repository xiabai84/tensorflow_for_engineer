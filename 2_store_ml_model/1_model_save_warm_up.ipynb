{
  "cells": [
    {
      "cell_type": "markdown",
      "metadata": {
        "pycharm": {}
      },
      "source": [
        "## Warm up"
      ]
    },
    {
      "cell_type": "markdown",
      "metadata": {
        "pycharm": {}
      },
      "source": [
        "### Train a new model and save it on disk"
      ]
    },
    {
      "cell_type": "code",
      "execution_count": 1,
      "metadata": {
        "pycharm": {
          "is_executing": false
        }
      },
      "outputs": [
        {
          "name": "stdout",
          "text": [
            "WARNING:tensorflow:From /home/bai/.virtualenvs/tensorflow/lib/python3.6/site-packages/tensorflow/python/framework/op_def_library.py:263: colocate_with (from tensorflow.python.framework.ops) is deprecated and will be removed in a future version.\nInstructions for updating:\nColocations handled automatically by placer.\n",
            "model with parameters is saved!\n"
          ],
          "output_type": "stream"
        }
      ],
      "source": [
        "import tensorflow as tf\n",
        "import numpy as np\n",
        "\n",
        "height \u003d np.array([1.60, 1.62, 1.68, 1.69, 1.70, 1.70, 1.71, 1.72, 1.80, 1.76, 1.77, 1.78, 1.77, 1.78, 1.79, 1.80, 1.81, 1.82, 1.83, 1.94])\n",
        "weight \u003d np.array([60.5, 58.8, 62.7, 62.8, 63.1, 58.9, 61.5, 65.8, 70.0, 65.8, 66.8, 68.0, 66.7, 60.8, 72.4, 70.5, 72.8, 75.8, 74.6, 83.2])\n",
        "\n",
        "# create a linear model\n",
        "b \u003d tf.Variable(0.)\n",
        "k \u003d tf.Variable(0.)\n",
        "\n",
        "# predict_weight \u003d k * x + b by given x\n",
        "x \u003d tf.Variable(0.)\n",
        "mult_var \u003d tf.multiply(k, x)\n",
        "predict_weight \u003d tf.add(mult_var, b)\n",
        "\n",
        "weight_head \u003d k * height + b \n",
        "\n",
        "# define loss function\n",
        "loss \u003d tf.reduce_mean(tf.square(weight - weight_head))\n",
        "\n",
        "# define optimizer\n",
        "optimizer \u003d tf.train.GradientDescentOptimizer(0.1)\n",
        "\n",
        "# minimiz loss function\n",
        "train \u003d optimizer.minimize(loss)\n",
        "\n",
        "init \u003d tf.global_variables_initializer()\n",
        "\n",
        "saver \u003d tf.train.Saver()\n",
        "\n",
        "with tf.Session() as sess:\n",
        "    sess.run(init)\n",
        "    \n",
        "    for step in range(301):\n",
        "        sess.run(train)\n",
        "        #if step%25 \u003d\u003d 0:\n",
        "        #    print(\"step: \", step, \" k and b: \", sess.run([k, b]))\n",
        "    saver.save(sess, \"./model_all/model.ckpt\")\n",
        "    print(\"model with parameters is saved!\")"
      ]
    },
    {
      "cell_type": "markdown",
      "metadata": {
        "pycharm": {}
      },
      "source": [
        "### Use variables from pre trained model"
      ]
    },
    {
      "cell_type": "code",
      "execution_count": null,
      "metadata": {
        "pycharm": {}
      },
      "outputs": [],
      "source": [
        "with tf.Session() as sess:\n",
        "    sess.run(init)\n",
        "    saver \u003d tf.train.import_meta_graph(\u0027./model_all/model.ckpt.meta\u0027)\n",
        "    saver.restore(sess, tf.train.latest_checkpoint(\u0027./model_all\u0027))\n",
        "    \n",
        "    print(sess.run(predict_weight, feed_dict \u003d {x: 1.90})) # print predict value by given height (x \u003d 1.90)\n",
        "    \n",
        "    k, b \u003d sess.run([k, b]) # assign results to python variable k and b\n",
        "    \n",
        "print(k, b) # print current k, b from trained model"
      ]
    },
    {
      "cell_type": "code",
      "execution_count": null,
      "metadata": {
        "pycharm": {}
      },
      "outputs": [],
      "source": [
        "# predict y by given x\n",
        "x \u003d 1.70\n",
        "y \u003d k * x + b\n",
        "print(y)"
      ]
    },
    {
      "cell_type": "markdown",
      "metadata": {
        "pycharm": {}
      },
      "source": [
        "### Virutalization"
      ]
    },
    {
      "cell_type": "code",
      "execution_count": null,
      "metadata": {
        "pycharm": {}
      },
      "outputs": [],
      "source": [
        "import numpy as np\n",
        "import matplotlib.pyplot as plt\n",
        "%matplotlib inline\n",
        "\n",
        "weight_predict \u003d k * height + b\n",
        "\n",
        "plt.scatter(height, weight)\n",
        "plt.plot(height, weight_predict, \u0027r\u0027)"
      ]
    }
  ],
  "metadata": {
    "kernelspec": {
      "display_name": "Python 3",
      "language": "python",
      "name": "python3"
    },
    "language_info": {
      "codemirror_mode": {
        "name": "ipython",
        "version": 3
      },
      "file_extension": ".py",
      "mimetype": "text/x-python",
      "name": "python",
      "nbconvert_exporter": "python",
      "pygments_lexer": "ipython3",
      "version": "3.6.7"
    }
  },
  "nbformat": 4,
  "nbformat_minor": 2
}