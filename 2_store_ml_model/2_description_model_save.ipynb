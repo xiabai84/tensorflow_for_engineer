{
 "cells": [
  {
   "cell_type": "markdown",
   "metadata": {
    "collapsed": true
   },
   "source": [
    "## 1 Speichern des trainierten ML-Models\n",
    "\n",
    "### 1.1 Fürs Speicher des Models:\n",
    "\n",
    "    saver = tf.train.Saver()\n",
    "    saver.save(session, path_to_your_model)\n",
    "Per Default werden alle Variable von Graph in der Datei gespeichert. Falls du nicht alle Variables brauchst, kannst auch die zu speichernden Variable über tf.train.Saver() als Python Dictionary übergeben z.B. \n",
    "\n",
    "    v1 = tf.get_variable(\"v1\", [3], initializer = tf.zeros_initializer)\n",
    "    v2 = tf.get_variable(\"v2\", [5], initializer = tf.zeros_initializer)\n",
    "    saver = tf.train.Saver({\"v2\": v2})\n",
    "\n",
    "Hier wird nur v2 gespeichert.\n",
    "### 1.2 Model Speichern nach bestimmter Iterationen \n",
    "Es wird oft in Deep Learning erst nach bestimmten Iterationen (z.B. 1000 steps) das Model zu speichern. Durch Parameter **global_step** wird die Anzahl der Iteration bestimmt.\n",
    "\n",
    "    saver.save(sess, './modelname',global_step=1000)\n",
    "Dieses Model wird durch suffix \"-100\" gekennzeichnet\n",
    "\n",
    "### 1.3 Model Speichern periodisch\n",
    "In der Realität wird Model auch oft periodisch gepeichert z.B. alle zwei Stunden und zwar speichern nur die letzten fünf Model-Datei:\n",
    "    \n",
    "    tf.train.Saver(max_to_keep=5, keep_checkpoint_every_n_hours=2)\n",
    "Tensorflow speichert per default nur die letzten fünf Model. Wenn man mehr Modelle speichern möchte, kann durch Parameter **max_to_keep** bestimmen\n",
    "\n"
   ]
  },
  {
   "cell_type": "markdown",
   "metadata": {},
   "source": [
    "## 2 Laden vom trainierten Model:\n",
    "### 2.1 Laden via import_meta_graph\n",
    "wie besprochen Graph besagt, aus welchen Komponenten(Tensor, Op, Variable und Konstant) ein Model gebaut wird. Bei der Ausführung wird pro Session mindestens eine Graph benötigt. Aber wir müssen nicht jedes mal diese Graph noch mal implementieren... Wenn wir das trainierte Model schon mal gespeichert haben, liegt schon die Graph des Models in .meta Datei.\n",
    "Wir können die Graph durch **import_meta_graph** wieder herstellen\n",
    "\n",
    "Um die Rechnung der Daten von Graph zu gestalten, wird hier auch eine **Session** benötigt. In der Session können wir vordefinierte Variables (k, b) wieder aufrufen:\n",
    "\n",
    "    with tf.Session() as sess:\n",
    "        sess.run(init)\n",
    "        saver = tf.train.import_meta_graph('./model_all/model.ckpt.meta')\n",
    "        saver.restore(sess, tf.train.latest_checkpoint('./model_all'))\n",
    "        k, b = sess.run([k,b])\n",
    "        \n",
    "### 2.2 Variable Übergabe \n",
    "You can also parse a variable by dictionary to perform prediction.\n",
    "\n",
    "    with tf.Session() as sess:\n",
    "        sess.run(init)\n",
    "        saver = tf.train.import_meta_graph('./model_all/model.ckpt.meta')\n",
    "        saver.restore(sess, tf.train.latest_checkpoint('./model_all'))\n",
    "        sess.run(predict_weight, feed_dict = {x: 1.90}))\n",
    "\n",
    "In training part we defined variables for parameter **predict_weight**\n",
    "\n",
    "    x = tf.Variable(0.)                   # define a value to parse\n",
    "    mult_var = tf.multiply(k, x)          # k * x\n",
    "    predict_weight = tf.add(mult_var, b)  # k * x + b\n"
   ]
  },
  {
   "cell_type": "markdown",
   "metadata": {},
   "source": [
    "## 3 Model Dateien\n",
    "Für jedes Model wird per default vier neuen Dateien erzeugt\n",
    "* checkpoint\n",
    "* modelname.ckpt.data-00000-of-00001\n",
    "* modelname.ckpt.index\n",
    "* modelname.ckpt.meta\n",
    "\n",
    "### 3.1 checkpoint\n",
    "checkpoit Datei führt allen Dateien vom gespeicherten Model als List zusammen und wird vom tf.train.Saver() gepflegt.\n",
    "### 3.2 model.ckpt.meta\n",
    "In Datei \"model.ckpt.meta\" wird Meta-Data von Graph  gespeichert z.B. Meta-Daten von Operationen und Tensor.\n",
    "### 3.3 model.ckpt\n",
    "Hier wird die Daten von Variables als SSTable-Format gespeichert (SSTable is ähnlich wie key, value pair)"
   ]
  },
  {
   "cell_type": "markdown",
   "metadata": {},
   "source": [
    "for more: \n",
    "https://cv-tricks.com/tensorflow-tutorial/save-restore-tensorflow-models-quick-complete-tutorial/"
   ]
  }
 ],
 "metadata": {
  "kernelspec": {
   "display_name": "Python 3",
   "language": "python",
   "name": "python3"
  },
  "language_info": {
   "codemirror_mode": {
    "name": "ipython",
    "version": 3
   },
   "file_extension": ".py",
   "mimetype": "text/x-python",
   "name": "python",
   "nbconvert_exporter": "python",
   "pygments_lexer": "ipython3",
   "version": "3.6.7"
  }
 },
 "nbformat": 4,
 "nbformat_minor": 1
}
