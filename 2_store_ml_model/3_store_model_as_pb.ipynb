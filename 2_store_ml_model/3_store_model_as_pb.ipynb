{
 "cells": [
  {
   "cell_type": "markdown",
   "metadata": {},
   "source": []
  },
  {
   "cell_type": "code",
   "execution_count": 1,
   "metadata": {},
   "outputs": [
    {
     "name": "stdout",
     "output_type": "stream",
     "text": [
      "WARNING:tensorflow:From /home/bai/.virtualenvs/tensorflow/lib/python3.6/site-packages/tensorflow/python/framework/op_def_library.py:263: colocate_with (from tensorflow.python.framework.ops) is deprecated and will be removed in a future version.\n",
      "Instructions for updating:\n",
      "Colocations handled automatically by placer.\n",
      "WARNING:tensorflow:From /home/bai/.virtualenvs/tensorflow/lib/python3.6/site-packages/tensorflow/python/ops/math_ops.py:3066: to_int32 (from tensorflow.python.ops.math_ops) is deprecated and will be removed in a future version.\n",
      "Instructions for updating:\n",
      "Use tf.cast instead.\n",
      "Epoch:  0  cost:  19.287436  W:  29.172255  b:  16.031004\n",
      "Epoch:  50  cost:  14.432498  W:  40.040615  b:  -3.0536795\n",
      "Epoch:  100  cost:  11.676342  W:  48.229496  b:  -17.433226\n",
      "Epoch:  150  cost:  10.111669  W:  54.39948  b:  -28.26763\n",
      "Epoch:  200  cost:  9.2233925  W:  59.048317  b:  -36.43092\n",
      "Epoch:  250  cost:  8.719124  W:  62.55103  b:  -42.581627\n",
      "Epoch:  300  cost:  8.432861  W:  65.19013  b:  -47.21586\n",
      "Epoch:  350  cost:  8.270343  W:  67.17856  b:  -50.707497\n",
      "Epoch:  400  cost:  8.178076  W:  68.676796  b:  -53.338387\n",
      "Epoch:  450  cost:  8.125703  W:  69.80563  b:  -55.320606\n",
      "Epoch:  500  cost:  8.095961  W:  70.656204  b:  -56.81419\n",
      "Epoch:  550  cost:  8.079075  W:  71.2971  b:  -57.939587\n",
      "Epoch:  600  cost:  8.069487  W:  71.78  b:  -58.78755\n",
      "Epoch:  650  cost:  8.064054  W:  72.14384  b:  -59.42646\n",
      "Epoch:  700  cost:  8.060957  W:  72.41799  b:  -59.90787\n",
      "training finished!\n",
      "WARNING:tensorflow:From <ipython-input-1-9ff034ea152a>:53: convert_variables_to_constants (from tensorflow.python.framework.graph_util_impl) is deprecated and will be removed in a future version.\n",
      "Instructions for updating:\n",
      "Use tf.compat.v1.graph_util.convert_variables_to_constants\n",
      "WARNING:tensorflow:From /home/bai/.virtualenvs/tensorflow/lib/python3.6/site-packages/tensorflow/python/framework/graph_util_impl.py:245: extract_sub_graph (from tensorflow.python.framework.graph_util_impl) is deprecated and will be removed in a future version.\n",
      "Instructions for updating:\n",
      "Use tf.compat.v1.graph_util.extract_sub_graph\n",
      "INFO:tensorflow:Froze 2 variables.\n",
      "INFO:tensorflow:Converted 2 variables to const ops.\n",
      "[72.41799, -59.90787]\n",
      "WARNING:tensorflow:From <ipython-input-1-9ff034ea152a>:59: FastGFile.__init__ (from tensorflow.python.platform.gfile) is deprecated and will be removed in a future version.\n",
      "Instructions for updating:\n",
      "Use tf.gfile.GFile.\n"
     ]
    }
   ],
   "source": [
    "import os\n",
    "import tensorflow as tf\n",
    "import numpy as np\n",
    "from tensorflow.python.framework import graph_util\n",
    "\n",
    "pb_file_path = os.getcwd() + \"/model_pb_format\"\n",
    "\n",
    "train_height = np.array([1.60, 1.62, 1.68, 1.69, 1.70, 1.70, 1.71, 1.72, 1.80, 1.76, 1.77, 1.78, 1.77, 1.78, 1.79, 1.80, 1.81, 1.82, 1.83, 1.94])\n",
    "train_weight = np.array([60.5, 58.8, 62.7, 62.8, 63.1, 58.9, 61.5, 65.8, 70.0, 65.8, 66.8, 68.0, 66.7, 60.8, 72.4, 70.5, 72.8, 75.8, 74.6, 83.2])\n",
    "\n",
    "# create model\n",
    "# placeholder\n",
    "X = tf.placeholder(\"float\", name='X')\n",
    "Y = tf.placeholder(\"float\", name='Y')\n",
    "\n",
    "# model params\n",
    "#W = tf.Variable(tf.random_normal([1]), name='weight')\n",
    "#b = tf.Variable(tf.zeros([1]), name='bias')\n",
    "\n",
    "W = tf.Variable(0., name='weight')\n",
    "b = tf.Variable(0., name='bias')\n",
    "\n",
    "prediction = tf.add(tf.multiply(X, W), b, name='results')\n",
    "\n",
    "cost = tf.reduce_mean(tf.square(Y - prediction))\n",
    "\n",
    "optimizer = tf.train.GradientDescentOptimizer(0.1).minimize(cost)\n",
    "\n",
    "init = tf.global_variables_initializer()\n",
    "\n",
    "training_epochs = 701\n",
    "display = 50\n",
    "\n",
    "save = tf.train.Saver()\n",
    "\n",
    "with tf.Session() as sess:\n",
    "    sess.run(init)\n",
    "    \n",
    "    for epoch in range(training_epochs):\n",
    "        for(x, y) in zip(train_height, train_weight):\n",
    "            sess.run(optimizer, {X: train_height, Y: train_weight})\n",
    "        \n",
    "        if epoch % display == 0:\n",
    "            loss = sess.run(cost, {X: train_height, Y: train_weight})\n",
    "            print(\"Epoch: \", epoch, \" cost: \", loss, \" W: \", sess.run(W), \" b: \", sess.run(b))\n",
    "            \n",
    "    print(\"training finished!\")\n",
    "    \n",
    "    # freeze variables to constant\n",
    "    constant_graph = graph_util.convert_variables_to_constants(\n",
    "        sess, \n",
    "        sess.graph_def, \n",
    "        ['results']\n",
    "    )\n",
    "    \n",
    "    print(sess.run([W, b]))\n",
    "    \n",
    "    # Write W and b to .pb file\n",
    "    with tf.gfile.FastGFile(pb_file_path +'/model.pb', mode='wb') as f:\n",
    "        f.write(constant_graph.SerializeToString())\n",
    "    "
   ]
  },
  {
   "cell_type": "code",
   "execution_count": null,
   "metadata": {},
   "outputs": [],
   "source": [
    "# [72.41799, -59.90787]\n",
    "x = 1.7\n",
    "y = 72.4179 * x -59.90787\n",
    "print(y)"
   ]
  },
  {
   "cell_type": "code",
   "execution_count": 4,
   "metadata": {},
   "outputs": [
    {
     "name": "stdout",
     "output_type": "stream",
     "text": [
      "(20,)\n",
      "1.6\n"
     ]
    }
   ],
   "source": [
    "import numpy as np\n",
    "\n",
    "train_height = np.array([1.60, 1.62, 1.68, 1.69, 1.70, 1.70, 1.71, 1.72, 1.80, 1.76, 1.77, 1.78, 1.77, 1.78, 1.79, 1.80, 1.81, 1.82, 1.83, 1.94])\n",
    "\n",
    "print(train_height.shape)\n",
    "print(train_height[0])"
   ]
  }
 ],
 "metadata": {
  "kernelspec": {
   "display_name": "Python 3",
   "language": "python",
   "name": "python3"
  },
  "language_info": {
   "codemirror_mode": {
    "name": "ipython",
    "version": 3
   },
   "file_extension": ".py",
   "mimetype": "text/x-python",
   "name": "python",
   "nbconvert_exporter": "python",
   "pygments_lexer": "ipython3",
   "version": "3.6.7"
  }
 },
 "nbformat": 4,
 "nbformat_minor": 2
}
