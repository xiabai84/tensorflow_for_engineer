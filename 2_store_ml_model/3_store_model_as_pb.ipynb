{
 "cells": [
  {
   "cell_type": "markdown",
   "metadata": {},
   "source": []
  },
  {
   "cell_type": "code",
   "execution_count": null,
   "metadata": {},
   "outputs": [],
   "source": [
    "import os\n",
    "import tensorflow as tf\n",
    "import numpy as np\n",
    "from tensorflow.python.framework import graph_util\n",
    "\n",
    "pb_file_path = os.getcwd() + \"/model_pb_format\"\n",
    "\n",
    "train_height = np.array([1.60, 1.62, 1.68, 1.69, 1.70, 1.70, 1.71, 1.72, 1.80, 1.76, 1.77, 1.78, 1.77, 1.78, 1.79, 1.80, 1.81, 1.82, 1.83, 1.94])\n",
    "train_weight = np.array([60.5, 58.8, 62.7, 62.8, 63.1, 58.9, 61.5, 65.8, 70.0, 65.8, 66.8, 68.0, 66.7, 60.8, 72.4, 70.5, 72.8, 75.8, 74.6, 83.2])\n",
    "\n",
    "# create model\n",
    "# placeholder\n",
    "X = tf.placeholder(\"float\", name='X')\n",
    "Y = tf.placeholder(\"float\", name='Y')\n",
    "\n",
    "# model params\n",
    "#W = tf.Variable(tf.random_normal([1]), name='weight')\n",
    "#b = tf.Variable(tf.zeros([1]), name='bias')\n",
    "\n",
    "W = tf.Variable(0., name='weight')\n",
    "b = tf.Variable(0., name='bias')\n",
    "\n",
    "prediction = tf.add(tf.multiply(X, W), b, name='results')\n",
    "\n",
    "cost = tf.reduce_mean(tf.square(Y - prediction))\n",
    "\n",
    "optimizer = tf.train.GradientDescentOptimizer(0.1).minimize(cost)\n",
    "\n",
    "init = tf.global_variables_initializer()\n",
    "\n",
    "training_epochs = 701\n",
    "display = 50\n",
    "\n",
    "save = tf.train.Saver()\n",
    "\n",
    "with tf.Session() as sess:\n",
    "    sess.run(init)\n",
    "    \n",
    "    for epoch in range(training_epochs):\n",
    "        for(x, y) in zip(train_height, train_weight):\n",
    "            sess.run(optimizer, {X: train_height, Y: train_weight})\n",
    "        \n",
    "        if epoch % display == 0:\n",
    "            loss = sess.run(cost, {X: train_height, Y: train_weight})\n",
    "            print(\"Epoch: \", epoch, \" cost: \", loss, \" W: \", sess.run(W), \" b: \", sess.run(b))\n",
    "            \n",
    "    print(\"training finished!\")\n",
    "    \n",
    "    # freeze variables to constant\n",
    "    constant_graph = graph_util.convert_variables_to_constants(\n",
    "        sess, \n",
    "        sess.graph_def, \n",
    "        ['results']\n",
    "    )\n",
    "    \n",
    "    print(sess.run([W, b]))\n",
    "    \n",
    "    # Write W and b to .pb file\n",
    "    with tf.gfile.FastGFile(pb_file_path +'/model.pb', mode='wb') as f:\n",
    "        f.write(constant_graph.SerializeToString())\n",
    "    "
   ]
  },
  {
   "cell_type": "code",
   "execution_count": null,
   "metadata": {},
   "outputs": [],
   "source": [
    "# [72.41799, -59.90787]\n",
    "x = 1.7\n",
    "y = 72.4179 * x -59.90787\n",
    "print(y)"
   ]
  },
  {
   "cell_type": "code",
   "execution_count": null,
   "metadata": {},
   "outputs": [],
   "source": []
  }
 ],
 "metadata": {
  "kernelspec": {
   "display_name": "Python 3",
   "language": "python",
   "name": "python3"
  },
  "language_info": {
   "codemirror_mode": {
    "name": "ipython",
    "version": 3
   },
   "file_extension": ".py",
   "mimetype": "text/x-python",
   "name": "python",
   "nbconvert_exporter": "python",
   "pygments_lexer": "ipython3",
   "version": "3.6.7"
  }
 },
 "nbformat": 4,
 "nbformat_minor": 2
}
