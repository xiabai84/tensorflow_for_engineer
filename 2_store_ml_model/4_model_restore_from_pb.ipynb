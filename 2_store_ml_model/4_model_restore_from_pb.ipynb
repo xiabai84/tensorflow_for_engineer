{
 "cells": [
  {
   "cell_type": "code",
   "execution_count": 1,
   "metadata": {},
   "outputs": [
    {
     "name": "stdout",
     "output_type": "stream",
     "text": [
      "72.41799\n",
      "-59.90787\n",
      "predict_weight:  70.44452\n"
     ]
    }
   ],
   "source": [
    "import os\n",
    "import tensorflow as tf\n",
    "from tensorflow.python.platform import gfile\n",
    "\n",
    "\n",
    "pb_file_path = os.getcwd() + \"/model_pb_format\"\n",
    "\n",
    "with tf.Session() as sess:\n",
    "    \n",
    "    tf.global_variables_initializer().run()\n",
    "    \n",
    "    with gfile.FastGFile(pb_file_path + '/model.pb','rb') as f:\n",
    "        graph_def = tf.GraphDef()\n",
    "        graph_def.ParseFromString(f.read())\n",
    "        sess.graph.as_default()\n",
    "        tf.import_graph_def(graph_def,name='')\n",
    "\n",
    "        sess.run(tf.global_variables_initializer())\n",
    "        \n",
    "        print(sess.run('weight:0'))\n",
    "        print(sess.run('bias:0'))\n",
    "  \n",
    "        input_x = sess.graph.get_tensor_by_name('X:0')\n",
    "                \n",
    "        prediction = sess.graph.get_tensor_by_name('results:0')\n",
    "\n",
    "        ret = sess.run(prediction, feed_dict={input_x: 1.80})\n",
    "\n",
    "        print('predict_weight: ', ret)\n",
    "        \n",
    "        ############################# over ###########################################\n",
    "        \n",
    "        #from tensorflow.python.framework import tensor_util\n",
    "        #wts = [n for n in graph_nodes if n.op=='Const']\n",
    "        #for i in wts:\n",
    "            #print(i.name, tensor_util.MakeNdarray(i.attr['value'].tensor))\n"
   ]
  }
 ],
 "metadata": {
  "kernelspec": {
   "display_name": "Python 3",
   "language": "python",
   "name": "python3"
  },
  "language_info": {
   "codemirror_mode": {
    "name": "ipython",
    "version": 3
   },
   "file_extension": ".py",
   "mimetype": "text/x-python",
   "name": "python",
   "nbconvert_exporter": "python",
   "pygments_lexer": "ipython3",
   "version": "3.6.7"
  }
 },
 "nbformat": 4,
 "nbformat_minor": 2
}
