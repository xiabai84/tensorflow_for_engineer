{
 "cells": [
  {
   "cell_type": "code",
   "execution_count": null,
   "metadata": {
    "pycharm": {
     "is_executing": false
    }
   },
   "outputs": [],
   "source": [
    "import tensorflow as tf\n",
    "import pickle\n",
    "import numpy as np\n",
    "\n",
    "\n",
    "def load(data_path):\n",
    "    with open(data_path,'rb') as f:\n",
    "        mnist = pickle.load(f)\n",
    "    return mnist[\"training_images\"], mnist[\"training_labels\"], mnist[\"test_images\"], mnist[\"test_labels\"]\n",
    "\n",
    "class MnistData:\n",
    "    def __init__(self, filenames, need_shuffle, datatype='training'):\n",
    "\n",
    "        x_train, y_train, x_test, y_test = load(filenames) #\"data/mnist.pkl\"\n",
    "        \n",
    "        if datatype=='training':\n",
    "            self._data = x_train / 127.5 -1\n",
    "            self._labels = y_train\n",
    "        else:\n",
    "            self._data = x_test / 127.5 -1\n",
    "            self._labels = y_test\n",
    "            \n",
    "        print(self._data.shape)\n",
    "        print(self._labels.shape)\n",
    "            \n",
    "        self._num_examples = self._data.shape[0]\n",
    "        self._need_shuffle = need_shuffle\n",
    "        self._indicator = 0\n",
    "        \n",
    "        if self._need_shuffle:\n",
    "            self._shuffle_data()\n",
    "            \n",
    "    def _shuffle_data(self):\n",
    "        # [0,1,2,3,4,5] -> [5,3,2,4,0,1]\n",
    "        p = np.random.permutation(self._num_examples)\n",
    "        self._data = self._data[p]\n",
    "        self._labels = self._labels[p]\n",
    "    \n",
    "    def next_batch(self, batch_size):\n",
    "        \"\"\"return batch_size examples as a batch.\"\"\"\n",
    "        end_indicator = self._indicator + batch_size\n",
    "        \n",
    "        if end_indicator > self._num_examples:\n",
    "            if self._need_shuffle:\n",
    "                self._shuffle_data()\n",
    "                self._indicator = 0\n",
    "                end_indicator = batch_size\n",
    "            else:\n",
    "                raise Exception(\"have no more examples\")\n",
    "        \n",
    "        if end_indicator > self._num_examples:\n",
    "            raise Exception(\"batch size is larger than all examples\")\n",
    "            \n",
    "        batch_data = self._data[self._indicator: end_indicator]\n",
    "        batch_labels = self._labels[self._indicator: end_indicator]\n",
    "        self._indicator = end_indicator\n",
    "        \n",
    "        return batch_data, batch_labels"
   ]
  },
  {
   "cell_type": "code",
   "execution_count": null,
   "metadata": {
    "pycharm": {}
   },
   "outputs": [],
   "source": [
    "train_filenames = \"../4_basic_image_recognition/data/mnist.pkl\"\n",
    "train_data = MnistData(train_filenames, True, 'training')\n",
    "test_data = MnistData(train_filenames, False, 'test')"
   ]
  },
  {
   "cell_type": "code",
   "execution_count": null,
   "metadata": {
    "pycharm": {}
   },
   "outputs": [],
   "source": [
    "def weight_variable(shape):\n",
    "    initial = tf.truncated_normal(shape, stddev=0.1)  \n",
    "    return tf.Variable(initial)\n",
    "\n",
    "def bias_variable(shape):\n",
    "    initial = tf.constant(0.1, shape=shape)\n",
    "    return tf.Variable(initial)\n",
    "\n",
    "def conv2d(x, W):\n",
    "    return tf.nn.conv2d(x, W, strides=[1, 1, 1, 1], padding='SAME')\n",
    "\n",
    "def max_pool_2x2(x):\n",
    "    # ksize [1,x,y,1]\n",
    "    return tf.nn.max_pool(x, ksize=[1, 2, 2, 1], strides=[1, 2, 2, 1], padding='SAME')"
   ]
  },
  {
   "cell_type": "code",
   "execution_count": null,
   "metadata": {
    "pycharm": {},
    "scrolled": true
   },
   "outputs": [],
   "source": [
    "x = tf.placeholder(tf.float32, shape=[None, 28*28])\n",
    "y = tf.placeholder(tf.int64, shape=[None])\n",
    "\n",
    "x_image = tf.reshape(x, [-1, 28, 28, 1])\n",
    "\n",
    "# first convolutional layer\n",
    "W_conv_1 = weight_variable([5, 5, 1, 32])\n",
    "b_conv_1 = bias_variable([32])\n",
    "h_conv_1 = tf.nn.relu(tf.add(conv2d(x_image, W_conv_1), b_conv_1))\n",
    "h_pool_1 = max_pool_2x2(h_conv_1)\n",
    "\n",
    "# second convolutional layer\n",
    "W_conv_2 = weight_variable([5, 5, 32, 64])\n",
    "b_conv_2 = bias_variable([64])\n",
    "h_conv_2 = tf.nn.relu(tf.add(conv2d(h_pool_1, W_conv_2), b_conv_2))\n",
    "h_pool_2 = max_pool_2x2(h_conv_2)\n",
    "\n",
    "# fully connected layer 1\n",
    "h_pool_2_flat = tf.reshape(h_pool_2, [-1, 7*7*64])\n",
    "W_fc_1 = weight_variable([7*7*64, 1024])\n",
    "b_fc_1 = bias_variable([1024])\n",
    "h_fc_1 = tf.nn.relu(tf.add(tf.matmul(h_pool_2_flat, W_fc_1), b_fc_1))\n",
    "\n",
    "# fully connected layer 2\n",
    "W_fc_2 = weight_variable([1024, 10])\n",
    "b_fc_2 = bias_variable([10])\n",
    "y_ = tf.add(tf.matmul(h_fc_1, W_fc_2), b_fc_2)\n",
    "\n",
    "#prediction = tf.nn.softmax(tf.add(tf.matmul(h_fc_1, W_fc_2), b_fc_2))\n",
    "#cross_entropy = tf.reduce_mean(tf.nn.softmax_cross_entropy_with_logits(labels=y, logits=prediction))\n",
    "#train_step = tf.train.AdamOptimizer(1e-4).minimize(cross_entropy)\n",
    "#correct_prediction = tf.equal(tf.argmax(prediction, 1), tf.argmax(y, 1))  # \n",
    "#accuracy = tf.reduce_mean(tf.cast(correct_prediction, tf.float32))\n",
    "\n",
    "loss = tf.losses.sparse_softmax_cross_entropy(labels=y, logits=y_)\n",
    "#train_step = tf.train.GradientDescentOptimizer(0.2).minimize(loss) # Acc by step 1: 8%, step2: 10% ...\n",
    "train_op = tf.train.AdamOptimizer(1e-3).minimize(loss) # Acc by step 1: 94%, step2: 96% ...\n",
    "\n",
    "predict = tf.argmax(y_, 1)\n",
    "correct_prediction = tf.equal(predict, y)\n",
    "accuracy = tf.reduce_mean(tf.cast(correct_prediction, tf.float64))"
   ]
  },
  {
   "cell_type": "code",
   "execution_count": null,
   "metadata": {},
   "outputs": [],
   "source": [
    "init = tf.global_variables_initializer()\n",
    "batch_size = 20\n",
    "train_steps = 10000\n",
    "test_steps = 50\n",
    "\n",
    "with tf.Session() as sess:\n",
    "    sess.run(init)\n",
    "    for i in range(train_steps):\n",
    "        batch_data, batch_labels = train_data.next_batch(batch_size)\n",
    "        loss_val, acc_val, _ = sess.run([loss, accuracy, train_op], feed_dict={x: batch_data, y: batch_labels})\n",
    "        \n",
    "        if (i+1) % 100 == 0:\n",
    "            print('[Train] Step: %d, loss: %4.5f, acc: %4.5f' % (i+1, loss_val, acc_val))\n",
    "            \n",
    "        if (i+1) % 1000 == 0:\n",
    "            all_test_acc_val = []\n",
    "            for j in range(test_steps):\n",
    "                test_batch_data, test_batch_labels = test_data.next_batch(batch_size)\n",
    "                test_acc_val = sess.run([accuracy], feed_dict = {x: test_batch_data, y: test_batch_labels})\n",
    "                all_test_acc_val.append(test_acc_val)\n",
    "            test_acc = np.mean(all_test_acc_val)\n",
    "            print('[Test ] Step: %d, acc: %4.5f' % (i+1, test_acc))"
   ]
  },
  {
   "cell_type": "code",
   "execution_count": null,
   "metadata": {},
   "outputs": [],
   "source": []
  }
 ],
 "metadata": {
  "kernelspec": {
   "display_name": "Python 3",
   "language": "python",
   "name": "python3"
  },
  "language_info": {
   "codemirror_mode": {
    "name": "ipython",
    "version": 3
   },
   "file_extension": ".py",
   "mimetype": "text/x-python",
   "name": "python",
   "nbconvert_exporter": "python",
   "pygments_lexer": "ipython3",
   "version": "3.6.7"
  }
 },
 "nbformat": 4,
 "nbformat_minor": 2
}
