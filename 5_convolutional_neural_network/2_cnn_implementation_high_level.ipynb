{
  "cells": [
    {
      "cell_type": "code",
      "execution_count": 1,
      "metadata": {
        "pycharm": {
          "is_executing": false
        }
      },
      "outputs": [],
      "source": [
        "import tensorflow as tf\n",
        "import pickle\n",
        "import numpy as np\n",
        "\n",
        "\n",
        "def load(data_path):\n",
        "    with open(data_path,\u0027rb\u0027) as f:\n",
        "        mnist \u003d pickle.load(f)\n",
        "    return mnist[\"training_images\"], mnist[\"training_labels\"], mnist[\"test_images\"], mnist[\"test_labels\"]\n",
        "\n",
        "class MnistData:\n",
        "    def __init__(self, filenames, need_shuffle, datatype\u003d\u0027training\u0027):\n",
        "        all_data \u003d []\n",
        "        all_labels \u003d []\n",
        "        x_train, y_train, x_test, y_test \u003d load(filenames) #\"data/mnist.pkl\"\n",
        "        \n",
        "        if datatype\u003d\u003d\u0027training\u0027:\n",
        "            self._data \u003d x_train / 127.5 -1\n",
        "            self._labels \u003d y_train\n",
        "            print(self._data.shape)\n",
        "            print(self._labels.shape)\n",
        "        else:\n",
        "            self._data \u003d x_test / 127.5 -1\n",
        "            self._labels \u003d y_test\n",
        "            print(self._data.shape)\n",
        "            print(self._labels.shape)\n",
        "            \n",
        "        self._num_examples \u003d self._data.shape[0]\n",
        "        self._need_shuffle \u003d need_shuffle\n",
        "        self._indicator \u003d 0\n",
        "        if self._need_shuffle:\n",
        "            self._shuffle_data()\n",
        "            \n",
        "    def _shuffle_data(self):\n",
        "        # [0,1,2,3,4,5] -\u003e [5,3,2,4,0,1]\n",
        "        p \u003d np.random.permutation(self._num_examples)\n",
        "        self._data \u003d self._data[p]\n",
        "        self._labels \u003d self._labels[p]\n",
        "    \n",
        "    def next_batch(self, batch_size):\n",
        "        \"\"\"return batch_size examples as a batch.\"\"\"\n",
        "        end_indicator \u003d self._indicator + batch_size\n",
        "        if end_indicator \u003e self._num_examples:\n",
        "            if self._need_shuffle:\n",
        "                self._shuffle_data()\n",
        "                self._indicator \u003d 0\n",
        "                end_indicator \u003d batch_size\n",
        "            else:\n",
        "                raise Exception(\"have no more examples\")\n",
        "        if end_indicator \u003e self._num_examples:\n",
        "            raise Exception(\"batch size is larger than all examples\")\n",
        "        batch_data \u003d self._data[self._indicator: end_indicator]\n",
        "        batch_labels \u003d self._labels[self._indicator: end_indicator]\n",
        "        self._indicator \u003d end_indicator\n",
        "        return batch_data, batch_labels"
      ]
    },
    {
      "cell_type": "code",
      "execution_count": null,
      "metadata": {
        "pycharm": {}
      },
      "outputs": [],
      "source": [
        "train_filenames \u003d \"../4_basic_image_recognition/data/mnist.pkl\"\n",
        "train_data \u003d MnistData(train_filenames, True, \u0027training\u0027)\n",
        "test_data \u003d MnistData(train_filenames, False, \u0027test\u0027)"
      ]
    },
    {
      "cell_type": "code",
      "execution_count": null,
      "metadata": {
        "pycharm": {}
      },
      "outputs": [],
      "source": [
        "x \u003d tf.placeholder(tf.float32, [None, 28*28])\n",
        "y \u003d tf.placeholder(tf.int64, [None])\n",
        "\n",
        "x_image \u003d tf.reshape(x, [-1, 28, 28, 1])\n",
        "\n",
        "conv_1 \u003d tf.layers.conv2d(inputs\u003dx_image, \n",
        "                          filters\u003d32, \n",
        "                          kernel_size\u003d(5, 5),\n",
        "                          padding \u003d \u0027same\u0027,\n",
        "                          activation\u003dtf.nn.relu,\n",
        "                          name\u003d\u0027conv1\u0027)\n",
        "\n",
        "pool1 \u003d tf.layers.max_pooling2d(inputs\u003dconv_1,\n",
        "                                pool_size\u003d(2, 2),\n",
        "                                strides\u003d(2,2),\n",
        "                                name\u003d\u0027pool1\u0027)\n",
        "\n",
        "conv_2 \u003d tf.layers.conv2d(inputs\u003dpool1,\n",
        "                          filters\u003d64,\n",
        "                          kernel_size\u003d(5, 5),\n",
        "                          padding \u003d \u0027same\u0027,\n",
        "                          activation\u003dtf.nn.relu,\n",
        "                          name\u003d\u0027conv2\u0027)\n",
        "\n",
        "pool2 \u003d tf.layers.max_pooling2d(inputs\u003dconv_2,\n",
        "                                pool_size\u003d(2,2),\n",
        "                                strides\u003d(2,2),\n",
        "                                name\u003d\u0027pool2\u0027)\n",
        "\n",
        "# fc layer1\n",
        "flatten \u003d tf.layers.flatten(pool2, name\u003d\u0027flatten\u0027)\n",
        "# fc layer2\n",
        "y_ \u003d tf.layers.dense(flatten, 10)\n",
        "\n",
        "loss \u003d tf.losses.sparse_softmax_cross_entropy(labels\u003dy, logits\u003dy_)\n",
        "\n",
        "predict \u003d tf.argmax(y_, 1)\n",
        "correct_prediction \u003d tf.equal(predict, y)\n",
        "accuracy \u003d tf.reduce_mean(tf.cast(correct_prediction, tf.float64))\n",
        "\n",
        "with tf.name_scope(\u0027train_op\u0027):\n",
        "    train_op \u003d tf.train.AdamOptimizer(1e-3).minimize(loss)\n"
      ]
    },
    {
      "cell_type": "code",
      "execution_count": null,
      "metadata": {
        "pycharm": {}
      },
      "outputs": [],
      "source": [
        "init \u003d tf.global_variables_initializer()\n",
        "batch_size \u003d 20\n",
        "train_steps \u003d 10000\n",
        "test_steps \u003d 50\n",
        "\n",
        "# train 10k: 71.35%\n",
        "with tf.Session() as sess:\n",
        "    sess.run(init)\n",
        "    for i in range(train_steps):\n",
        "        batch_data, batch_labels \u003d train_data.next_batch(batch_size)\n",
        "        loss_val, acc_val, _ \u003d sess.run([loss, accuracy, train_op], feed_dict\u003d{x: batch_data, y: batch_labels})\n",
        "        \n",
        "        if (i+1) % 100 \u003d\u003d 0:\n",
        "            print(\u0027[Train] Step: %d, loss: %4.5f, acc: %4.5f\u0027 % (i+1, loss_val, acc_val))\n",
        "            \n",
        "        if (i+1) % 1000 \u003d\u003d 0:\n",
        "            all_test_acc_val \u003d []\n",
        "            for j in range(test_steps):\n",
        "                test_batch_data, test_batch_labels \u003d test_data.next_batch(batch_size)\n",
        "                test_acc_val \u003d sess.run([accuracy], feed_dict \u003d {x: test_batch_data, y: test_batch_labels})\n",
        "                all_test_acc_val.append(test_acc_val)\n",
        "            test_acc \u003d np.mean(all_test_acc_val)\n",
        "            print(\u0027[Test ] Step: %d, acc: %4.5f\u0027 % (i+1, test_acc))"
      ]
    }
  ],
  "metadata": {
    "kernelspec": {
      "display_name": "Python 3",
      "language": "python",
      "name": "python3"
    },
    "language_info": {
      "codemirror_mode": {
        "name": "ipython",
        "version": 3
      },
      "file_extension": ".py",
      "mimetype": "text/x-python",
      "name": "python",
      "nbconvert_exporter": "python",
      "pygments_lexer": "ipython3",
      "version": "3.6.7"
    }
  },
  "nbformat": 4,
  "nbformat_minor": 2
}