{
 "cells": [
  {
   "cell_type": "markdown",
   "metadata": {
    "collapsed": true,
    "pycharm": {
     "is_executing": false
    }
   },
   "source": [
    "## Tensorflow Serving Version 1.13 Example\n",
    "\n",
    "Train and export a simple Softmax Regression TensorFlow model.\n",
    "The model is from the TensorFlow \"MNIST For ML Beginner\" tutorial. This program\n",
    "simply follows all its training instructions, and uses TensorFlow SavedModel to\n",
    "export the trained model with proper signatures that can be loaded by standard\n",
    "tensorflow_model_server.\n",
    "<br>\n",
    "Usage: mnist_saved_model.py [--training_iteration=x] [--model_version=y] export_dir"
   ]
  },
  {
   "cell_type": "code",
   "execution_count": 1,
   "metadata": {
    "pycharm": {
     "is_executing": false
    }
   },
   "outputs": [],
   "source": [
    "from __future__ import print_function\n",
    "\n",
    "import os\n",
    "import sys\n",
    "import pickle\n",
    "import numpy as np\n",
    "import tensorflow as tf\n",
    "from tensorflow.contrib.session_bundle import exporter"
   ]
  },
  {
   "cell_type": "code",
   "execution_count": null,
   "metadata": {},
   "outputs": [],
   "source": []
  },
  {
   "cell_type": "code",
   "execution_count": 2,
   "metadata": {},
   "outputs": [],
   "source": [
    "export_path_base = \"./model\"\n",
    "training_iterations = 1000\n",
    "model_version = 1"
   ]
  },
  {
   "cell_type": "code",
   "execution_count": 3,
   "metadata": {},
   "outputs": [],
   "source": [
    "# training data\n",
    "train_height = np.array([1.60, 1.62, 1.68, 1.69, 1.70, 1.70, 1.71, 1.72, 1.80, 1.76, 1.77, 1.78, 1.77, 1.78, 1.79, 1.80, 1.81, 1.82, 1.83, 1.94])\n",
    "train_weight = np.array([60.5, 58.8, 62.7, 62.8, 63.1, 58.9, 61.5, 65.8, 70.0, 65.8, 66.8, 68.0, 66.7, 60.8, 72.4, 70.5, 72.8, 75.8, 74.6, 83.2])"
   ]
  },
  {
   "cell_type": "code",
   "execution_count": 4,
   "metadata": {},
   "outputs": [
    {
     "name": "stdout",
     "output_type": "stream",
     "text": [
      "WARNING:tensorflow:From /home/bai/.virtualenvs/tensorflow/lib/python3.6/site-packages/tensorflow/python/framework/op_def_library.py:263: colocate_with (from tensorflow.python.framework.ops) is deprecated and will be removed in a future version.\n",
      "Instructions for updating:\n",
      "Colocations handled automatically by placer.\n",
      "Training error 0.000287986\n",
      "Done training!\n",
      "Exporting trained model to b'./model/1'\n",
      "WARNING:tensorflow:From <ipython-input-4-ad57446c3ffb>:38: build_tensor_info (from tensorflow.python.saved_model.utils_impl) is deprecated and will be removed in a future version.\n",
      "Instructions for updating:\n",
      "This function will only be available through the v1 compatibility library as tf.compat.v1.saved_model.utils.build_tensor_info or tf.compat.v1.saved_model.build_tensor_info.\n",
      "WARNING:tensorflow:From <ipython-input-4-ad57446c3ffb>:56: calling SavedModelBuilder.add_meta_graph_and_variables (from tensorflow.python.saved_model.builder_impl) with legacy_init_op is deprecated and will be removed in a future version.\n",
      "Instructions for updating:\n",
      "Pass your op to the equivalent parameter main_op instead.\n",
      "INFO:tensorflow:No assets to save.\n",
      "INFO:tensorflow:No assets to write.\n",
      "INFO:tensorflow:SavedModel written to: ./model/1/saved_model.pb\n",
      "Done exporting!\n"
     ]
    }
   ],
   "source": [
    "sess = tf.InteractiveSession()\n",
    " \n",
    "x = tf.placeholder('float', shape=[None, 3])\n",
    "y_ = tf.placeholder('float', shape=[None, 1])\n",
    "\n",
    "w = tf.get_variable('w', shape = [3,1], initializer = tf.truncated_normal_initializer)\n",
    "b = tf.get_variable('b', shape = [1], initializer = tf.zeros_initializer)\n",
    " \n",
    "sess.run(tf.global_variables_initializer())\n",
    " \n",
    "y = tf.matmul(x, w) + b\n",
    " \n",
    "ms_loss = tf.reduce_mean((y - y_)**2)\n",
    " \n",
    "train_step = tf.train.GradientDescentOptimizer(0.005).minimize(ms_loss)\n",
    " \n",
    "train_x = np.random.randn(1000, 3)\n",
    "# let the model learn the equation of y = x1 * 1 + x2 * 2 + x3 * 3\n",
    "train_y = np.sum(train_x * np.array([1,2,3]) + np.random.randn(1000, 3) / 100, axis = 1).reshape(-1, 1)\n",
    " \n",
    "train_loss = []\n",
    " \n",
    "for it in range(training_iterations):\n",
    "    loss, _ = sess.run([ms_loss, train_step], feed_dict={x: train_x, y_: train_y})\n",
    "    train_loss.append(loss)\n",
    "    \n",
    "print('Training error %g' % loss)\n",
    "print('Done training!')\n",
    "\n",
    "\n",
    "export_path = os.path.join(\n",
    "  tf.compat.as_bytes(export_path_base),\n",
    "  tf.compat.as_bytes(str(model_version)))\n",
    "\n",
    "print('Exporting trained model to', export_path)\n",
    "builder = tf.saved_model.builder.SavedModelBuilder(export_path)\n",
    " \n",
    "tensor_info_x = tf.saved_model.utils.build_tensor_info(x)\n",
    "tensor_info_y = tf.saved_model.utils.build_tensor_info(y)\n",
    " \n",
    "prediction_signature = (\n",
    "  tf.saved_model.signature_def_utils.build_signature_def(\n",
    "  inputs={'input': tensor_info_x},\n",
    "  outputs={'output': tensor_info_y},\n",
    "  method_name=tf.saved_model.signature_constants.PREDICT_METHOD_NAME)\n",
    ")\n",
    " \n",
    "legacy_init_op = tf.group(tf.tables_initializer(), name='legacy_init_op')\n",
    " \n",
    "builder.add_meta_graph_and_variables(\n",
    "  sess, [tf.saved_model.tag_constants.SERVING],\n",
    "  signature_def_map={\n",
    "  'prediction':\n",
    "  prediction_signature,\n",
    "  },\n",
    "  legacy_init_op=legacy_init_op)\n",
    " \n",
    "builder.save()\n",
    " \n",
    "print('Done exporting!')"
   ]
  },
  {
   "cell_type": "markdown",
   "metadata": {},
   "source": [
    "### Start Tensorflow Serving (don't specify model version)\n",
    "\n",
    "docker run -p 8501:8501 --mount type=bind,source=/home/bai/PycharmProjects/tensorflow_for_enginner/11_tf_serving/model/1,target=/models/my_model -e MODEL_NAME=my_model -t tensorflow/serving"
   ]
  }
 ],
 "metadata": {
  "kernelspec": {
   "display_name": "Python 3",
   "language": "python",
   "name": "python3"
  },
  "language_info": {
   "codemirror_mode": {
    "name": "ipython",
    "version": 3
   },
   "file_extension": ".py",
   "mimetype": "text/x-python",
   "name": "python",
   "nbconvert_exporter": "python",
   "pygments_lexer": "ipython3",
   "version": "3.6.7"
  }
 },
 "nbformat": 4,
 "nbformat_minor": 1
}
