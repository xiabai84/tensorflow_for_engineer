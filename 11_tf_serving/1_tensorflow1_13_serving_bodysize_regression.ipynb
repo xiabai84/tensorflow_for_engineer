{
 "cells": [
  {
   "cell_type": "markdown",
   "metadata": {
    "collapsed": true,
    "pycharm": {
     "is_executing": false
    }
   },
   "source": [
    "## Tensorflow Serving Version 1.13 Example\n",
    "\n",
    "Train and export a simple Softmax Regression TensorFlow model.\n",
    "The model is from the TensorFlow \"MNIST For ML Beginner\" tutorial. This program\n",
    "simply follows all its training instructions, and uses TensorFlow SavedModel to\n",
    "export the trained model with proper signatures that can be loaded by standard\n",
    "tensorflow_model_server.\n",
    "<br>\n",
    "Usage: mnist_saved_model.py [--training_iteration=x] [--model_version=y] export_dir"
   ]
  },
  {
   "cell_type": "code",
   "execution_count": null,
   "metadata": {
    "pycharm": {
     "is_executing": false
    }
   },
   "outputs": [],
   "source": [
    "from __future__ import print_function\n",
    "\n",
    "import os\n",
    "import sys\n",
    "import pickle\n",
    "import numpy as np\n",
    "import tensorflow as tf\n",
    "from tensorflow.contrib.session_bundle import exporter"
   ]
  },
  {
   "cell_type": "code",
   "execution_count": null,
   "metadata": {},
   "outputs": [],
   "source": [
    "tf.app.flags.DEFINE_integer('training_iteration', 1000, 'number of training iterations.')\n",
    "tf.app.flags.DEFINE_integer('model_version', 1, 'version number of the model.')\n",
    "tf.app.flags.DEFINE_string('export_path_base', './model', 'Model directory.')\n",
    "FLAGS = tf.app.flags.FLAGS\n"
   ]
  },
  {
   "cell_type": "code",
   "execution_count": null,
   "metadata": {},
   "outputs": [],
   "source": [
    "train_x = np.array([1.60, 1.62, 1.68, 1.69, 1.70, 1.70, 1.71, 1.72, 1.80, 1.76, 1.77, 1.78, 1.77, 1.78, 1.79, 1.80, 1.81, 1.82, 1.83, 1.94]).reshape(-1, 1)\n",
    "train_y = np.array([60.5, 58.8, 62.7, 62.8, 63.1, 58.9, 61.5, 65.8, 70.0, 65.8, 66.8, 68.0, 66.7, 60.8, 72.4, 70.5, 72.8, 75.8, 74.6, 83.2]).reshape(-1, 1)"
   ]
  },
  {
   "cell_type": "code",
   "execution_count": null,
   "metadata": {},
   "outputs": [],
   "source": [
    "def main(_):\n",
    "    x = tf.placeholder('float', shape=[None, 1], name = 'x')\n",
    "    y_ = tf.placeholder('float', shape=[None, 1], name = 'y')\n",
    "    w = tf.get_variable(name = 'w', shape = [1,1], initializer = tf.truncated_normal_initializer)\n",
    "    b = tf.get_variable(name = 'b', shape = [1], initializer = tf.zeros_initializer)\n",
    "    y = tf.matmul(x, w) + b\n",
    "    ms_loss = tf.reduce_mean((y - y_)**2)\n",
    "    init = tf.global_variables_initializer()\n",
    "    train_step = tf.train.GradientDescentOptimizer(0.005).minimize(ms_loss)\n",
    "    train_loss = []\n",
    "    with tf.Session() as sess:\n",
    "        sess.run(init)\n",
    "        for it in range(FLAGS.training_iteration):\n",
    "            loss, _ = sess.run([ms_loss, train_step], feed_dict={x: train_x, y_: train_y})\n",
    "            train_loss.append(loss)\n",
    "\n",
    "        print('Training error %g' % loss)\n",
    "\n",
    "        export_path = os.path.join(\n",
    "            tf.compat.as_bytes(FLAGS.export_path_base),\n",
    "            tf.compat.as_bytes(str(FLAGS.model_version))\n",
    "        )\n",
    "\n",
    "        print('Exporting trained model to', export_path)\n",
    "        builder = tf.saved_model.builder.SavedModelBuilder(export_path)\n",
    "\n",
    "        tensor_info_x = tf.saved_model.utils.build_tensor_info(x)\n",
    "        tensor_info_y = tf.saved_model.utils.build_tensor_info(y)\n",
    "\n",
    "        prediction_signature = (\n",
    "            tf.saved_model.signature_def_utils.build_signature_def(\n",
    "                inputs={'input': tensor_info_x},\n",
    "                outputs={'output': tensor_info_y},\n",
    "                method_name=tf.saved_model.signature_constants.PREDICT_METHOD_NAME\n",
    "            )\n",
    "        )\n",
    "\n",
    "        legacy_init_op = tf.group(tf.tables_initializer(), name='legacy_init_op')\n",
    "\n",
    "        builder.add_meta_graph_and_variables(\n",
    "            sess, [tf.saved_model.tag_constants.SERVING],\n",
    "            signature_def_map={\n",
    "                'prediction':\n",
    "                prediction_signature,\n",
    "            },\n",
    "            legacy_init_op=legacy_init_op\n",
    "        )\n",
    "\n",
    "        builder.save()\n",
    "        print('Done exporting!')"
   ]
  },
  {
   "cell_type": "code",
   "execution_count": null,
   "metadata": {},
   "outputs": [],
   "source": [
    "if __name__ == '__main__':\n",
    "    tf.app.run()"
   ]
  },
  {
   "cell_type": "markdown",
   "metadata": {},
   "source": [
    "### Start Tensorflow Serving (don't specify model version)\n",
    "\n",
    "docker run -p 8501:8501 --mount type=bind,source=/home/bai/PycharmProjects/tensorflow_for_enginner/11_tf_serving/model,target=/models/my_model -e MODEL_NAME=my_model -t tensorflow/serving"
   ]
  },
  {
   "cell_type": "markdown",
   "metadata": {},
   "source": [
    "curl -X POST http://localhost:8501/v1/models/my_model:predict -d '{\"signature_name\":\"prediction\",\"instances\":[{\"input\":[1.8]}]}'"
   ]
  }
 ],
 "metadata": {
  "kernelspec": {
   "display_name": "Python 3",
   "language": "python",
   "name": "python3"
  },
  "language_info": {
   "codemirror_mode": {
    "name": "ipython",
    "version": 3
   },
   "file_extension": ".py",
   "mimetype": "text/x-python",
   "name": "python",
   "nbconvert_exporter": "python",
   "pygments_lexer": "ipython3",
   "version": "3.6.7"
  }
 },
 "nbformat": 4,
 "nbformat_minor": 1
}
