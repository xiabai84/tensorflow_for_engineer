{
 "cells": [
  {
   "cell_type": "markdown",
   "metadata": {
    "collapsed": true,
    "pycharm": {
     "is_executing": false
    }
   },
   "source": [
    "## Tensorflow Serving Version 1.13 Example\n",
    "\n",
    "Train and export a simple Softmax Regression TensorFlow model.\n",
    "The model is from the TensorFlow \"MNIST For ML Beginner\" tutorial. This program\n",
    "simply follows all its training instructions, and uses TensorFlow SavedModel to\n",
    "export the trained model with proper signatures that can be loaded by standard\n",
    "tensorflow_model_server.\n",
    "<br>\n",
    "Usage: mnist_saved_model.py [--training_iteration=x] [--model_version=y] export_dir"
   ]
  },
  {
   "cell_type": "code",
   "execution_count": 6,
   "metadata": {
    "pycharm": {
     "is_executing": false
    }
   },
   "outputs": [],
   "source": [
    "from __future__ import print_function\n",
    "\n",
    "import os\n",
    "import sys\n",
    "import pickle\n",
    "import numpy as np\n",
    "import tensorflow as tf\n",
    "from tensorflow.contrib.session_bundle import exporter"
   ]
  },
  {
   "cell_type": "code",
   "execution_count": 2,
   "metadata": {},
   "outputs": [],
   "source": [
    "tf.app.flags.DEFINE_integer('training_epochs', 500, 'number of training epochs.')\n",
    "tf.app.flags.DEFINE_integer('training_iteration', 1000, 'number of training iterations.')\n",
    "tf.app.flags.DEFINE_integer('model_version', 1, 'version number of the model.')\n",
    "tf.app.flags.DEFINE_string('work_dir', './', 'Working directory.')\n",
    "FLAGS = tf.app.flags.FLAGS\n",
    "export_path_base = ('./model')\n",
    "batch_size = 50"
   ]
  },
  {
   "cell_type": "code",
   "execution_count": 3,
   "metadata": {},
   "outputs": [],
   "source": [
    "# training data\n",
    "train_height = np.array([1.60, 1.62, 1.68, 1.69, 1.70, 1.70, 1.71, 1.72, 1.80, 1.76, 1.77, 1.78, 1.77, 1.78, 1.79, 1.80, 1.81, 1.82, 1.83, 1.94])\n",
    "train_weight = np.array([60.5, 58.8, 62.7, 62.8, 63.1, 58.9, 61.5, 65.8, 70.0, 65.8, 66.8, 68.0, 66.7, 60.8, 72.4, 70.5, 72.8, 75.8, 74.6, 83.2])"
   ]
  },
  {
   "cell_type": "code",
   "execution_count": 4,
   "metadata": {},
   "outputs": [],
   "source": [
    "def main(_): \n",
    "    k = tf.Variable(0., name='k')\n",
    "    b = tf.Variable(0., name='b')\n",
    "    \n",
    "    serialized_tf_example = tf.placeholder(tf.string, name='tf_example')\n",
    "    feature_configs = {\"x\": tf.FixedLenFeature([1], dtype=tf.float32),}\n",
    "    tf_example = tf.parse_example(serialized_tf_example, feature_configs)\n",
    "    \n",
    "    x = tf.identity(tf_example[\"x\"], name=\"x\")\n",
    "    y = tf.add(tf.multiply(k, x), b, name=\"y\")\n",
    "    \n",
    "    prediction = tf.add(tf.multiply(x, k), b, name='results')\n",
    "    \n",
    "    save = tf.train.Saver(\n",
    "        {\n",
    "            \"k\": k,\n",
    "            \"b\": b\n",
    "        },\n",
    "        sharded=True,\n",
    "        write_version=tf.train.SaverDef.V2 if use_checkpoint_v2 else\n",
    "        tf.train.SaverDef.V1\n",
    "    )\n",
    "    \n",
    "    # Create a RegressionSignature for our input and output.\n",
    "    regression_signature = exporter.regression_signature(\n",
    "        input_tensor=serialized_tf_example,\n",
    "        output_tensor=tf.identity(y)\n",
    "    )\n",
    "    \n",
    "    named_graph_signature = {\n",
    "        \"inputs\": exporter.generic_signature({\"x\": x}),\n",
    "        \"outputs\": exporter.generic_signature({\"y\": y})\n",
    "    }\n",
    "    \n",
    "    cost = tf.reduce_mean(tf.square(y - prediction))\n",
    "    optimizer = tf.train.GradientDescentOptimizer(0.1).minimize(cost)\n",
    "    init = tf.global_variables_initializer()\n",
    "\n",
    "    display = 50\n",
    "\n",
    "    with tf.Session() as sess:\n",
    "        sess.run(init)\n",
    "\n",
    "        for epoch in range(FLAGS.training_epochs):\n",
    "            for(x_, y_) in zip(train_height, train_weight):\n",
    "                sess.run(optimizer, {x: train_height, y: train_weight})\n",
    "\n",
    "            if epoch % display == 0:\n",
    "                loss = sess.run(cost, {x: train_height, y: train_weight})\n",
    "                print(\"Epoch: \", epoch, \" cost: \", loss, \" w: \", sess.run(k), \" b: \", sess.run(b))\n",
    "\n",
    "        print('Done training!')\n",
    "        \n",
    "        export_path = os.path.join(\n",
    "            tf.compat.as_bytes(export_path_base),\n",
    "            tf.compat.as_bytes(str(FLAGS.model_version)))\n",
    "\n",
    "        print('Exporting trained model to', export_path)\n",
    "        \n",
    "        builder = tf.saved_model.builder.SavedModelBuilder(export_path)\n",
    "        \n",
    "        regression_inputs = tf.saved_model.utils.build_tensor_info(serialized_tf_example)\n",
    "        regression_outputs = tf.saved_model.utils.build_tensor_info(y)\n",
    "\n",
    "        tensor_info_x = tf.saved_model.utils.build_tensor_info(x)\n",
    "        tensor_info_y = tf.saved_model.utils.build_tensor_info(y)\n",
    "\n",
    "        prediction_signature = (\n",
    "            tf.saved_model.signature_def_utils.build_signature_def(\n",
    "                inputs={'height': tensor_info_x},\n",
    "                outputs={'weight': tensor_info_y},\n",
    "                method_name=tf.saved_model.signature_constants.PREDICT_METHOD_NAME\n",
    "            )\n",
    "        )\n",
    "        \n",
    "        print('tensor_info_x: ', tensor_info_x)\n",
    "        print('tensor_info_y: ', tensor_info_y)\n",
    "        print('prediction_signature: ', prediction_signature)\n",
    "        print('method_name: ', tf.saved_model.signature_constants.PREDICT_METHOD_NAME)\n",
    "\n",
    "        builder.add_meta_graph_and_variables(\n",
    "            sess, [tf.saved_model.tag_constants.SERVING],\n",
    "            signature_def_map={\n",
    "                'predict_weight':\n",
    "                  prediction_signature,\n",
    "            })\n",
    "\n",
    "        builder.save()\n",
    "\n",
    "        print('Done exporting!')"
   ]
  },
  {
   "cell_type": "code",
   "execution_count": 5,
   "metadata": {
    "scrolled": false
   },
   "outputs": [
    {
     "name": "stdout",
     "output_type": "stream",
     "text": [
      "WARNING:tensorflow:From /home/bai/.virtualenvs/tensorflow/lib/python3.6/site-packages/tensorflow/python/framework/op_def_library.py:263: colocate_with (from tensorflow.python.framework.ops) is deprecated and will be removed in a future version.\n",
      "Instructions for updating:\n",
      "Colocations handled automatically by placer.\n",
      "WARNING:tensorflow:From /home/bai/.virtualenvs/tensorflow/lib/python3.6/site-packages/tensorflow/python/ops/math_ops.py:3066: to_int32 (from tensorflow.python.ops.math_ops) is deprecated and will be removed in a future version.\n",
      "Instructions for updating:\n",
      "Use tf.cast instead.\n",
      "Epoch:  0  cost:  19.287436  w:  29.172255  b:  16.031004\n",
      "Epoch:  50  cost:  14.432498  w:  40.040615  b:  -3.0536795\n",
      "Epoch:  100  cost:  11.676342  w:  48.229496  b:  -17.433226\n",
      "Epoch:  150  cost:  10.111669  w:  54.39948  b:  -28.26763\n",
      "Epoch:  200  cost:  9.2233925  w:  59.048317  b:  -36.43092\n",
      "Epoch:  250  cost:  8.719124  w:  62.55103  b:  -42.581627\n",
      "Epoch:  300  cost:  8.432861  w:  65.19013  b:  -47.21586\n",
      "Epoch:  350  cost:  8.270343  w:  67.17856  b:  -50.707497\n",
      "Epoch:  400  cost:  8.178076  w:  68.676796  b:  -53.338387\n",
      "Epoch:  450  cost:  8.125703  w:  69.80563  b:  -55.320606\n",
      "Done training!\n",
      "Exporting trained model to b'./model/1'\n",
      "WARNING:tensorflow:From <ipython-input-4-98088d4275b7>:36: build_tensor_info (from tensorflow.python.saved_model.utils_impl) is deprecated and will be removed in a future version.\n",
      "Instructions for updating:\n",
      "This function will only be available through the v1 compatibility library as tf.compat.v1.saved_model.utils.build_tensor_info or tf.compat.v1.saved_model.build_tensor_info.\n",
      "tensor_info_x:  name: \"x:0\"\n",
      "dtype: DT_FLOAT\n",
      "tensor_shape {\n",
      "  unknown_rank: true\n",
      "}\n",
      "\n",
      "tensor_info_y:  name: \"y:0\"\n",
      "dtype: DT_FLOAT\n",
      "tensor_shape {\n",
      "  unknown_rank: true\n",
      "}\n",
      "\n",
      "prediction_signature:  inputs {\n",
      "  key: \"height\"\n",
      "  value {\n",
      "    name: \"x:0\"\n",
      "    dtype: DT_FLOAT\n",
      "    tensor_shape {\n",
      "      unknown_rank: true\n",
      "    }\n",
      "  }\n",
      "}\n",
      "outputs {\n",
      "  key: \"weight\"\n",
      "  value {\n",
      "    name: \"y:0\"\n",
      "    dtype: DT_FLOAT\n",
      "    tensor_shape {\n",
      "      unknown_rank: true\n",
      "    }\n",
      "  }\n",
      "}\n",
      "method_name: \"tensorflow/serving/predict\"\n",
      "\n",
      "method_name:  tensorflow/serving/predict\n",
      "INFO:tensorflow:No assets to save.\n",
      "INFO:tensorflow:No assets to write.\n",
      "INFO:tensorflow:SavedModel written to: ./model/1/saved_model.pb\n",
      "Done exporting!\n"
     ]
    },
    {
     "ename": "SystemExit",
     "evalue": "",
     "output_type": "error",
     "traceback": [
      "An exception has occurred, use %tb to see the full traceback.\n",
      "\u001b[0;31mSystemExit\u001b[0m\n"
     ]
    },
    {
     "name": "stderr",
     "output_type": "stream",
     "text": [
      "/home/bai/.virtualenvs/tensorflow/lib/python3.6/site-packages/IPython/core/interactiveshell.py:3304: UserWarning: To exit: use 'exit', 'quit', or Ctrl-D.\n",
      "  warn(\"To exit: use 'exit', 'quit', or Ctrl-D.\", stacklevel=1)\n"
     ]
    }
   ],
   "source": [
    "if __name__ == '__main__':\n",
    "    tf.app.run()"
   ]
  },
  {
   "cell_type": "markdown",
   "metadata": {},
   "source": [
    "### Start Tensorflow Serving (don't specify model version)\n",
    "\n",
    "docker run -p 8501:8501 --mount type=bind,source=/home/bai/PycharmProjects/tensorflow_for_enginner/11_tf_serving/model/1,target=/models/my_model -e MODEL_NAME=my_model -t tensorflow/serving"
   ]
  },
  {
   "cell_type": "code",
   "execution_count": null,
   "metadata": {},
   "outputs": [],
   "source": []
  }
 ],
 "metadata": {
  "kernelspec": {
   "display_name": "Python 3",
   "language": "python",
   "name": "python3"
  },
  "language_info": {
   "codemirror_mode": {
    "name": "ipython",
    "version": 3
   },
   "file_extension": ".py",
   "mimetype": "text/x-python",
   "name": "python",
   "nbconvert_exporter": "python",
   "pygments_lexer": "ipython3",
   "version": "3.6.7"
  }
 },
 "nbformat": 4,
 "nbformat_minor": 1
}
