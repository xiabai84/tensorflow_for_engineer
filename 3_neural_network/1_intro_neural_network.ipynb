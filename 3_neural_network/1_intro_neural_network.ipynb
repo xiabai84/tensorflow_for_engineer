{
 "cells": [
  {
   "cell_type": "markdown",
   "metadata": {
    "collapsed": true
   },
   "source": [
    "# 1 Neuron\n",
    "\n",
    "* Input (x1, ... xn)\n",
    "* Weights (w1, ... wn)\n",
    "* Single Neuron \n",
    "* Activation Function (relu, tanh, sigmoid etc.)\n",
    "* Output\n",
    "\n",
    "![title](image/basisc_unit_of_nn.png)\n",
    "\n",
    "\n",
    "# 2 Neuronales Netz\n",
    "\n",
    "* Input Layer\n",
    "* Hidden Layer\n",
    "* Output Layer\n",
    "\n",
    "![title](image/multilayer_perceptron.png)\n",
    "\n",
    "# 3 more...\n",
    "\n",
    "* Forward Propagation\n",
    "* Backpropagation\n",
    "* Batches \n",
    "* Epoches  \n",
    "\n",
    "# 4 Softmax\n",
    "\n",
    "![title](image/softmax.png)\n",
    "x = [1,5,3]\n",
    "![title](image/softmax_calc.png)\n",
    "\n",
    "# 5 One Hot \n"
   ]
  }
 ],
 "metadata": {
  "kernelspec": {
   "display_name": "Python 3",
   "language": "python",
   "name": "python3"
  },
  "language_info": {
   "codemirror_mode": {
    "name": "ipython",
    "version": 3
   },
   "file_extension": ".py",
   "mimetype": "text/x-python",
   "name": "python",
   "nbconvert_exporter": "python",
   "pygments_lexer": "ipython3",
   "version": "3.6.5"
  }
 },
 "nbformat": 4,
 "nbformat_minor": 1
}
