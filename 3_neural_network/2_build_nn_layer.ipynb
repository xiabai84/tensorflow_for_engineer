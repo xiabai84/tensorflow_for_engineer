{
 "cells": [
  {
   "cell_type": "markdown",
   "metadata": {
    "pycharm": {}
   },
   "source": [
    "## Method for building hidden layer"
   ]
  },
  {
   "cell_type": "code",
   "execution_count": null,
   "metadata": {
    "pycharm": {
     "is_executing": false
    }
   },
   "outputs": [],
   "source": [
    "import tensorflow as tf\n",
    "def add_layer(input, in_size, out_size, activation_function=None):\n",
    "    \"\"\"\n",
    "    input: intput data\n",
    "    in_size: number of input neurons\n",
    "    out_size: number of output neurons\n",
    "    \"\"\"\n",
    "    Weights = tf.Variable(tf.random_normal([in_size, out_size])) # define shape of weights/matrix with in_size rows and out_size columns\n",
    "    bias = tf.Variable(tf.zeros([1, out_size]) + 0.1) # bias with one row and outsize columns\n",
    "    Wx_plus_b = tf.matmul(input, Weights) + bias\n",
    "    \n",
    "    if activation_function is None:\n",
    "        outputs = Wx_plus_b\n",
    "    else:\n",
    "        outputs = activation_function(Wx_plus_b)\n",
    "    return outputs"
   ]
  },
  {
   "cell_type": "markdown",
   "metadata": {
    "pycharm": {}
   },
   "source": [
    "## Build a simple neural network"
   ]
  },
  {
   "cell_type": "code",
   "execution_count": null,
   "metadata": {
    "pycharm": {}
   },
   "outputs": [],
   "source": [
    "import numpy as np\n",
    "import matplotlib.pyplot as plt\n",
    "#%matplotlib inline\n",
    "%matplotlib notebook\n",
    "%matplotlib notebook\n",
    "import matplotlib.pyplot as plt\n",
    "import matplotlib\n",
    "\n",
    "# newaxis converts a row vector or a column vector.\n",
    "x_data = np.linspace(-1, 1, 300)[:, np.newaxis]  # generate 300 rows between -1 and 1\n",
    "noise = np.random.normal(0, 0.05, x_data.shape) # noise 0 with standard deviation 0.05 and has a shap like x_data\n",
    "y_data = np.square(x_data) + noise\n",
    "#print(x_data.shape, y_data.shape)\n",
    "xs = tf.placeholder(tf.float32, [None,1])\n",
    "ys = tf.placeholder(tf.float32, [None,1])\n",
    "\n",
    "l1 = add_layer(xs, 1, 10, activation_function=tf.nn.relu)\n",
    "prediction = add_layer(l1, 10, 1, activation_function=None)\n",
    "\n",
    "loss = tf.reduce_mean(tf.reduce_sum(tf.square(ys - prediction), reduction_indices=[1]))\n",
    "\n",
    "train_step = tf.train.GradientDescentOptimizer(0.1).minimize(loss)\n",
    "\n",
    "init = tf.global_variables_initializer()\n",
    "\n",
    "with tf.Session() as sess:\n",
    "    sess.run(init)\n",
    "    \n",
    "    fig = plt.figure()\n",
    "    ax = fig.add_subplot(1,1,1)\n",
    "    ax.scatter(x_data, y_data)\n",
    "    plt.ion\n",
    "    \n",
    "    for i in range(1000):\n",
    "        sess.run(train_step, feed_dict={xs: x_data, ys: y_data})\n",
    "        if i%50 == 0:\n",
    "            print(sess.run(loss, feed_dict={xs: x_data, ys: y_data}))\n",
    "\n",
    "            try:\n",
    "                ax.lines.remove(lines[0])\n",
    "            except Exception:\n",
    "                pass\n",
    "            \n",
    "            ############################ not working part #################################################\n",
    "            prediction_value = sess.run(prediction, feed_dict={xs:x_data})\n",
    "            lines = ax.plot(x_data, prediction_value, 'r-', lw=5)\n",
    "            \n",
    "            #plt.pause(0.1)\n",
    "                       "
   ]
  },
  {
   "cell_type": "code",
   "execution_count": null,
   "metadata": {},
   "outputs": [],
   "source": []
  }
 ],
 "metadata": {
  "kernelspec": {
   "display_name": "Python 3",
   "language": "python",
   "name": "python3"
  },
  "language_info": {
   "codemirror_mode": {
    "name": "ipython",
    "version": 3
   },
   "file_extension": ".py",
   "mimetype": "text/x-python",
   "name": "python",
   "nbconvert_exporter": "python",
   "pygments_lexer": "ipython3",
   "version": "3.6.4"
  }
 },
 "nbformat": 4,
 "nbformat_minor": 2
}
