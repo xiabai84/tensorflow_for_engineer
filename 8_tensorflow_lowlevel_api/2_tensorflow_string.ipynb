{
 "cells": [
  {
   "cell_type": "code",
   "execution_count": 2,
   "metadata": {},
   "outputs": [],
   "source": [
    "import tensorflow as tf\n",
    "import numpy as np"
   ]
  },
  {
   "cell_type": "markdown",
   "metadata": {},
   "source": [
    "### Strings in Tensorflow constant"
   ]
  },
  {
   "cell_type": "code",
   "execution_count": 5,
   "metadata": {},
   "outputs": [
    {
     "data": {
      "text/plain": [
       "<tf.Tensor: id=3, shape=(), dtype=string, numpy=b'kaffee'>"
      ]
     },
     "execution_count": 5,
     "metadata": {},
     "output_type": "execute_result"
    }
   ],
   "source": [
    "t = tf.constant(\"kaffee\")\n",
    "t"
   ]
  },
  {
   "cell_type": "code",
   "execution_count": 7,
   "metadata": {},
   "outputs": [
    {
     "name": "stdout",
     "output_type": "stream",
     "text": [
      "tf.Tensor(6, shape=(), dtype=int32)\n",
      "tf.Tensor([107  97 102 102 101 101], shape=(6,), dtype=int32)\n"
     ]
    }
   ],
   "source": [
    "print(tf.strings.length(t))\n",
    "print(tf.strings.unicode_decode(t, \"utf-8\"))"
   ]
  },
  {
   "cell_type": "markdown",
   "metadata": {},
   "source": [
    "### RaggedTensor"
   ]
  },
  {
   "cell_type": "code",
   "execution_count": 13,
   "metadata": {
    "scrolled": true
   },
   "outputs": [
    {
     "name": "stdout",
     "output_type": "stream",
     "text": [
      "<tf.RaggedTensor [[11, 12], [11, 12, 13], [], [8], [1, 2], [], [8]]>\n",
      "<tf.RaggedTensor [[1, 2, 3, 4], [], [8, 9]]>\n"
     ]
    }
   ],
   "source": [
    "r_ts1 = tf.ragged.constant([[11, 12], [11, 12, 13], [], [8]]) # tensor with 4 rows\n",
    "r_ts2 = tf.ragged.constant([[1, 2], [], [8]]) # tensor with 3 rows\n",
    "r_ts3 = tf.ragged.constant([[3, 4], [], [9]])\n",
    "# concate two tensors -> append by rows\n",
    "print(tf.concat([r_ts1, r_ts2], axis=0)) # tensor with 7 rows\n",
    "\n",
    "# r_ts2 and r_ts3 have the same shape and can be concated by axis 1\n",
    "print(tf.concat([r_ts2, r_ts3], axis=1))"
   ]
  },
  {
   "cell_type": "code",
   "execution_count": 18,
   "metadata": {},
   "outputs": [
    {
     "name": "stdout",
     "output_type": "stream",
     "text": [
      "tf.Tensor(\n",
      "[[3 4]\n",
      " [0 0]\n",
      " [9 0]], shape=(3, 2), dtype=int32)\n"
     ]
    }
   ],
   "source": [
    "# links buendig\n",
    "print(r_ts3.to_tensor()) # from [3, 4], [], [9] to [3, 4], [0, 0], [9, 0]"
   ]
  },
  {
   "cell_type": "markdown",
   "metadata": {},
   "source": [
    "### Sparse Tensor"
   ]
  },
  {
   "cell_type": "code",
   "execution_count": 23,
   "metadata": {},
   "outputs": [],
   "source": [
    "s_ts = tf.SparseTensor(\n",
    "    indices = [[0, 1], [1, 0], [2, 3]], # position for value\n",
    "    values = [1, 2, 3], # value on position\n",
    "    dense_shape = [3, 4] # tensor shape\n",
    ")"
   ]
  },
  {
   "cell_type": "code",
   "execution_count": 27,
   "metadata": {},
   "outputs": [
    {
     "name": "stdout",
     "output_type": "stream",
     "text": [
      "tf.Tensor(\n",
      "[[0 1 0 0]\n",
      " [2 0 0 0]\n",
      " [0 0 0 3]], shape=(3, 4), dtype=int32)\n"
     ]
    }
   ],
   "source": [
    "print(tf.sparse.to_dense(s_ts))"
   ]
  },
  {
   "cell_type": "code",
   "execution_count": 26,
   "metadata": {},
   "outputs": [
    {
     "name": "stdout",
     "output_type": "stream",
     "text": [
      "tf.Tensor(\n",
      "[[0 1 0 0]\n",
      " [2 0 0 0]\n",
      " [0 0 0 3]], shape=(3, 4), dtype=int32)\n"
     ]
    }
   ],
   "source": [
    "# normaly sparse tensor must be reorded to present data in right order\n",
    "s_ts1 = tf.sparse.reorder(s_ts)\n",
    "print(tf.sparse.to_dense(s_ts1))"
   ]
  }
 ],
 "metadata": {
  "kernelspec": {
   "display_name": "Python 3 (Spyder)",
   "language": "python3",
   "name": "python3"
  },
  "language_info": {
   "codemirror_mode": {
    "name": "ipython",
    "version": 3
   },
   "file_extension": ".py",
   "mimetype": "text/x-python",
   "name": "python",
   "nbconvert_exporter": "python",
   "pygments_lexer": "ipython3",
   "version": "3.7.4"
  },
  "pycharm": {
   "stem_cell": {
    "cell_type": "raw",
    "metadata": {
     "collapsed": false
    },
    "source": []
   }
  }
 },
 "nbformat": 4,
 "nbformat_minor": 1
}
